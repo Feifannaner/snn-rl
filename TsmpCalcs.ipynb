{
 "metadata": {
  "name": "",
  "signature": "sha256:fadc6f532375722ea2f81bf9d1e8bfc5d9b1cb5de0f67918cf0d83ed7e6a6926"
 },
 "nbformat": 3,
 "nbformat_minor": 0,
 "worksheets": [
  {
   "cells": [
    {
     "cell_type": "heading",
     "level": 3,
     "metadata": {},
     "source": [
      "Calculations used for Tsmp"
     ]
    },
    {
     "cell_type": "code",
     "collapsed": false,
     "input": [
      "from sympy import *\n",
      "init_printing()"
     ],
     "language": "python",
     "metadata": {},
     "outputs": [],
     "prompt_number": 4
    },
    {
     "cell_type": "markdown",
     "metadata": {},
     "source": [
      "Post synaptic dendritic current"
     ]
    },
    {
     "cell_type": "markdown",
     "metadata": {},
     "source": [
      "Tfd (Tf difference) below represents the difference between $t$ (current time) and $Tf[i]$ (last pre synaptic spike time for dendrite i).  E. g. result of $t - Tf[i]$."
     ]
    },
    {
     "cell_type": "code",
     "collapsed": false,
     "input": [
      "Tfd = var('Tfd')"
     ],
     "language": "python",
     "metadata": {},
     "outputs": [],
     "prompt_number": 5
    },
    {
     "cell_type": "markdown",
     "metadata": {},
     "source": [
      "Dt = Delta time\n",
      "A dirac delta formula from 'Theoretical Neuroscience' page 405: $DiracDelta = lim(Dt->0)(if (-Dt/2) < t < Dt)$: return $1/Dt$; else return $0$;).  Due to that the formula $1/t$ for DiracDelta is able to be used when the if statement condition is matched.  It is represented as $1/Tfd$ in this case."
     ]
    },
    {
     "cell_type": "markdown",
     "metadata": {},
     "source": [
      "Formula 1 in the Gupta paper is   $Td[i]*d(Id[i][t])=-Id[i][t]+Rd[i]*w[i]*(1/Tfd)$"
     ]
    },
    {
     "cell_type": "markdown",
     "metadata": {},
     "source": [
      "$Td[i]$ can be brought to the other side of the equation through multipling $1/Td[i]$ on both sides.  This produces $d(Id[i][t])=(1/Td[i])*-Id[i][t]+Rd[i]*w[i]*(1/Tfd)$"
     ]
    },
    {
     "cell_type": "markdown",
     "metadata": {},
     "source": [
      "The fundimental theorum of calculus is that $integral(derivative(f(x)))=f(x)$.  A.k.a. an integral can cancel a derivative out of an equation.  To get $Id[i]$ from formula 1 the integral of both sides should be taken to remove the derivative from the formula."
     ]
    },
    {
     "cell_type": "code",
     "collapsed": false,
     "input": [
      "Id, Td, Rd, W = var('Id Td Rd W')"
     ],
     "language": "python",
     "metadata": {},
     "outputs": [],
     "prompt_number": 6
    },
    {
     "cell_type": "code",
     "collapsed": false,
     "input": [
      "Id2 = Id"
     ],
     "language": "python",
     "metadata": {},
     "outputs": [],
     "prompt_number": 7
    },
    {
     "cell_type": "code",
     "collapsed": false,
     "input": [
      "Id = ((1/Td)*-Id2+Rd*W*(1/Tfd))"
     ],
     "language": "python",
     "metadata": {},
     "outputs": [],
     "prompt_number": 8
    },
    {
     "cell_type": "code",
     "collapsed": false,
     "input": [
      "Id.integrate(Id2)"
     ],
     "language": "python",
     "metadata": {},
     "outputs": [
      {
       "latex": [
        "$$- \\frac{Id^{2}}{2 Td} + \\frac{Id Rd}{Tfd} W$$"
       ],
       "metadata": {},
       "output_type": "pyout",
       "png": "[encoded data removed]",
       "prompt_number": 9,
       "text": [
        "    2           \n",
        "  Id     Id\u22c5Rd\u22c5W\n",
        "- \u2500\u2500\u2500\u2500 + \u2500\u2500\u2500\u2500\u2500\u2500\u2500\n",
        "  2\u22c5Td     Tfd  "
       ]
      }
     ],
     "prompt_number": 9
    },
    {
     "cell_type": "heading",
     "level": 4,
     "metadata": {},
     "source": [
      "Post synaptic direct synapse soma current"
     ]
    },
    {
     "cell_type": "markdown",
     "metadata": {},
     "source": [
      "15 input neurons.  $W = weight, 1/Tdf = Dirac function$.  Using the formula $Sigma(w*Dirac)$ the output below is produced."
     ]
    },
    {
     "cell_type": "code",
     "collapsed": false,
     "input": [
      "SummedWeights1 = var('SummedWeights1')"
     ],
     "language": "python",
     "metadata": {},
     "outputs": [],
     "prompt_number": 10
    },
    {
     "cell_type": "code",
     "collapsed": false,
     "input": [
      "DiracWeightedSum = SummedWeights1/Tfd"
     ],
     "language": "python",
     "metadata": {},
     "outputs": [],
     "prompt_number": 11
    },
    {
     "cell_type": "code",
     "collapsed": false,
     "input": [
      "Is_1, Ts_1 = var('Is_1 Ts_1')"
     ],
     "language": "python",
     "metadata": {},
     "outputs": [],
     "prompt_number": 12
    },
    {
     "cell_type": "code",
     "collapsed": false,
     "input": [
      "Is_1b = Is_1"
     ],
     "language": "python",
     "metadata": {},
     "outputs": [],
     "prompt_number": 13
    },
    {
     "cell_type": "code",
     "collapsed": false,
     "input": [
      "Is_1 = (1/Ts_1)*(-Is_1b+DiracWeightedSum)"
     ],
     "language": "python",
     "metadata": {},
     "outputs": [],
     "prompt_number": 14
    },
    {
     "cell_type": "heading",
     "level": 6,
     "metadata": {},
     "source": [
      "Total soma membrane potential"
     ]
    },
    {
     "cell_type": "code",
     "collapsed": false,
     "input": [
      "DendriteGroup = [Id.integrate(Id2)]*15"
     ],
     "language": "python",
     "metadata": {},
     "outputs": [],
     "prompt_number": 15
    },
    {
     "cell_type": "code",
     "collapsed": false,
     "input": [
      "SynapseToSoma = Is_1.integrate(Is_1b)"
     ],
     "language": "python",
     "metadata": {},
     "outputs": [],
     "prompt_number": 16
    },
    {
     "cell_type": "heading",
     "level": 4,
     "metadata": {},
     "source": [
      "Total soma membrane potential calculation"
     ]
    },
    {
     "cell_type": "markdown",
     "metadata": {},
     "source": [
      "It was found that end result variables representing prior component \n",
      "calculations (SummedDendriteGroupX, SynapseToSomaX) could be applied \n",
      "to solving for um in the equation."
     ]
    },
    {
     "cell_type": "code",
     "collapsed": false,
     "input": [
      "Um, Tm, Rm = var('Um Tm Rm')"
     ],
     "language": "python",
     "metadata": {},
     "outputs": [],
     "prompt_number": 17
    },
    {
     "cell_type": "code",
     "collapsed": false,
     "input": [
      "Uu2 = (1/Tm)*(-Um+(Rm*(sum(DendriteGroup)+SynapseToSoma)))"
     ],
     "language": "python",
     "metadata": {},
     "outputs": [],
     "prompt_number": 18
    },
    {
     "cell_type": "code",
     "collapsed": false,
     "input": [
      "Uu2.integrate(Um)"
     ],
     "language": "python",
     "metadata": {},
     "outputs": [
      {
       "latex": [
        "$$- \\frac{Um^{2}}{2 Tm} + \\frac{Um}{2 Td Tfd Tm Ts_{1}} \\left(- 15 Id^{2} Rm Tfd Ts_{1} + 30 Id Rd Rm Td Ts_{1} W - Is_{1}^{2} Rm Td Tfd + 2 Is_{1} Rm SummedWeights_{1} Td\\right)$$"
       ],
       "metadata": {},
       "output_type": "pyout",
       "png": "[encoded data removed]",
       "prompt_number": 19,
       "text": [
        "    2       \u239b       2                                        2                \n",
        "  Um     Um\u22c5\u239d- 15\u22c5Id \u22c5Rm\u22c5Tfd\u22c5Ts\u2081 + 30\u22c5Id\u22c5Rd\u22c5Rm\u22c5Td\u22c5Ts\u2081\u22c5W - Is\u2081 \u22c5Rm\u22c5Td\u22c5Tfd + 2\u22c5I\n",
        "- \u2500\u2500\u2500\u2500 + \u2500\u2500\u2500\u2500\u2500\u2500\u2500\u2500\u2500\u2500\u2500\u2500\u2500\u2500\u2500\u2500\u2500\u2500\u2500\u2500\u2500\u2500\u2500\u2500\u2500\u2500\u2500\u2500\u2500\u2500\u2500\u2500\u2500\u2500\u2500\u2500\u2500\u2500\u2500\u2500\u2500\u2500\u2500\u2500\u2500\u2500\u2500\u2500\u2500\u2500\u2500\u2500\u2500\u2500\u2500\u2500\u2500\u2500\u2500\u2500\u2500\u2500\u2500\u2500\u2500\u2500\u2500\u2500\u2500\n",
        "  2\u22c5Tm                                          2\u22c5Td\u22c5Tfd\u22c5Tm\u22c5Ts\u2081               \n",
        "\n",
        "                       \u239e\n",
        "s\u2081\u22c5Rm\u22c5SummedWeights\u2081\u22c5Td\u23a0\n",
        "\u2500\u2500\u2500\u2500\u2500\u2500\u2500\u2500\u2500\u2500\u2500\u2500\u2500\u2500\u2500\u2500\u2500\u2500\u2500\u2500\u2500\u2500\u2500\u2500\n",
        "                        "
       ]
      }
     ],
     "prompt_number": 19
    },
    {
     "cell_type": "markdown",
     "metadata": {},
     "source": [
      "Below are shown the end result variables which can simplify the formula \n",
      "used instead of the above one"
     ]
    },
    {
     "cell_type": "code",
     "collapsed": false,
     "input": [
      "DiracWeightedSum_Z, Is_Z = var('DiracWeightedSum_Z Is_Z')"
     ],
     "language": "python",
     "metadata": {},
     "outputs": [],
     "prompt_number": 20
    },
    {
     "cell_type": "code",
     "collapsed": false,
     "input": [
      "Is_Zb = Is_Z"
     ],
     "language": "python",
     "metadata": {},
     "outputs": [],
     "prompt_number": 21
    },
    {
     "cell_type": "code",
     "collapsed": false,
     "input": [
      "Is_Z = (1/Ts_1)*(-Is_Zb+DiracWeightedSum_Z)"
     ],
     "language": "python",
     "metadata": {},
     "outputs": [],
     "prompt_number": 22
    },
    {
     "cell_type": "code",
     "collapsed": false,
     "input": [
      "SynapseToSoma_Z = Is_Z.integrate(Is_Zb)"
     ],
     "language": "python",
     "metadata": {},
     "outputs": [],
     "prompt_number": 23
    },
    {
     "cell_type": "code",
     "collapsed": false,
     "input": [
      "SynapseToSoma_Z"
     ],
     "language": "python",
     "metadata": {},
     "outputs": [
      {
       "latex": [
        "$$\\frac{DiracWeightedSum_{Z} Is_{Z}}{Ts_{1}} - \\frac{Is_{Z}^{2}}{2 Ts_{1}}$$"
       ],
       "metadata": {},
       "output_type": "pyout",
       "png": "[encoded data removed]",
       "prompt_number": 24,
       "text": [
        "                              2\n",
        "DiracWeightedSum_Z\u22c5Is_Z   Is_Z \n",
        "\u2500\u2500\u2500\u2500\u2500\u2500\u2500\u2500\u2500\u2500\u2500\u2500\u2500\u2500\u2500\u2500\u2500\u2500\u2500\u2500\u2500\u2500\u2500 - \u2500\u2500\u2500\u2500\u2500\n",
        "          Ts\u2081             2\u22c5Ts\u2081"
       ]
      }
     ],
     "prompt_number": 24
    },
    {
     "cell_type": "code",
     "collapsed": false,
     "input": [
      "SummedDendriteGroupX, SynapseToSomaX = var('SummedDendriteGroupX SynapseToSomaX')"
     ],
     "language": "python",
     "metadata": {},
     "outputs": [],
     "prompt_number": 25
    },
    {
     "cell_type": "code",
     "collapsed": false,
     "input": [
      "Uu3 = (1/Tm)*(-Um+(Rm*(SummedDendriteGroupX+SynapseToSomaX)))"
     ],
     "language": "python",
     "metadata": {},
     "outputs": [],
     "prompt_number": 26
    },
    {
     "cell_type": "markdown",
     "metadata": {},
     "source": [
      "The integration below solves the tsmp equation for Um and therefore \n",
      "provides the tsmp result wanted."
     ]
    },
    {
     "cell_type": "code",
     "collapsed": false,
     "input": [
      "Uu3.integrate(Um)"
     ],
     "language": "python",
     "metadata": {},
     "outputs": [
      {
       "latex": [
        "$$- \\frac{Um^{2}}{2 Tm} + \\frac{Um}{Tm} \\left(Rm SummedDendriteGroupX + Rm SynapseToSomaX\\right)$$"
       ],
       "metadata": {},
       "output_type": "pyout",
       "png": "[encoded data removed]",
       "prompt_number": 27,
       "text": [
        "    2                                                    \n",
        "  Um     Um\u22c5(Rm\u22c5SummedDendriteGroupX + Rm\u22c5SynapseToSomaX)\n",
        "- \u2500\u2500\u2500\u2500 + \u2500\u2500\u2500\u2500\u2500\u2500\u2500\u2500\u2500\u2500\u2500\u2500\u2500\u2500\u2500\u2500\u2500\u2500\u2500\u2500\u2500\u2500\u2500\u2500\u2500\u2500\u2500\u2500\u2500\u2500\u2500\u2500\u2500\u2500\u2500\u2500\u2500\u2500\u2500\u2500\u2500\u2500\u2500\u2500\u2500\u2500\u2500\u2500\n",
        "  2\u22c5Tm                          Tm                       "
       ]
      }
     ],
     "prompt_number": 27
    }
   ],
   "metadata": {}
  }
 ]
}