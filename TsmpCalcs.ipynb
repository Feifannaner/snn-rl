{
 "metadata": {
  "name": "",
  "signature": "sha256:469304541a5cc8439cf8057227bc8f459582d190d1a453d94767eec99bb7eb45"
 },
 "nbformat": 3,
 "nbformat_minor": 0,
 "worksheets": [
  {
   "cells": [
    {
     "cell_type": "heading",
     "level": 3,
     "metadata": {},
     "source": [
      "Calculations used for Tsmp"
     ]
    },
    {
     "cell_type": "code",
     "collapsed": false,
     "input": [
      "from sympy import *\n",
      "init_printing()"
     ],
     "language": "python",
     "metadata": {},
     "outputs": [],
     "prompt_number": 2
    },
    {
     "cell_type": "code",
     "collapsed": false,
     "input": [
      "Post synaptic dendritic current:"
     ],
     "language": "python",
     "metadata": {},
     "outputs": [
      {
       "ename": "SyntaxError",
       "evalue": "invalid syntax (<ipython-input-3-a7d30e55fe88>, line 1)",
       "output_type": "pyerr",
       "traceback": [
        "\u001b[1;36m  File \u001b[1;32m\"<ipython-input-3-a7d30e55fe88>\"\u001b[1;36m, line \u001b[1;32m1\u001b[0m\n\u001b[1;33m    Post synaptic dendritic current:\u001b[0m\n\u001b[1;37m                ^\u001b[0m\n\u001b[1;31mSyntaxError\u001b[0m\u001b[1;31m:\u001b[0m invalid syntax\n"
       ]
      }
     ],
     "prompt_number": 3
    },
    {
     "cell_type": "heading",
     "level": 1,
     "metadata": {},
     "source": [
      "Tfd (Tf difference) below represents the difference between t (current time) and Tf[i] (last pre synaptic spike time for dendrite i).  E. g. result of t - Tf[i]."
     ]
    },
    {
     "cell_type": "code",
     "collapsed": false,
     "input": [
      "Tfd = var('Tfd')"
     ],
     "language": "python",
     "metadata": {},
     "outputs": [],
     "prompt_number": 19
    },
    {
     "cell_type": "heading",
     "level": 1,
     "metadata": {},
     "source": [
      "Dt = Delta time\n",
      "A dirac delta formula from 'Theoretical Neuroscience' page 405: DiracDelta = lim(Dt->0)(if (-Dt/2) < t < Dt): return 1/Dt; else return 0;).  Due to that the formula 1/t for DiracDelta is able to be used when the if statement condition is matched.  It is represented as 1/Tfd in this case."
     ]
    },
    {
     "cell_type": "heading",
     "level": 1,
     "metadata": {},
     "source": [
      "Formula 1 in the Gupta paper is Td[i]*d(Id[i][t])=-Id[i][t]+Rd[i]*w[i]*(1/Tfd)"
     ]
    },
    {
     "cell_type": "heading",
     "level": 1,
     "metadata": {},
     "source": [
      "Td[i] can be brought to the other side of the equation through multipling 1/Td[i] on both sides.  This produces d(Id[i][t])=(1/Td[i])*-Id[i][t]+Rd[i]*w[i]*(1/Tfd)"
     ]
    },
    {
     "cell_type": "heading",
     "level": 1,
     "metadata": {},
     "source": [
      "The fundimental theorum of calculus is that integral(derivative(f(x)))=f(x).  A.k.a. an integral can cancel a derivative out of an equation.  To get Id[i] from formula 1 the integral of both sides should be taken to remove the derivative from the formula."
     ]
    },
    {
     "cell_type": "code",
     "collapsed": false,
     "input": [
      "Id, Td, Rd, W = var('Id Td Rd W')"
     ],
     "language": "python",
     "metadata": {},
     "outputs": [],
     "prompt_number": 45
    },
    {
     "cell_type": "code",
     "collapsed": false,
     "input": [
      "Id2 = Id"
     ],
     "language": "python",
     "metadata": {},
     "outputs": [],
     "prompt_number": 46
    },
    {
     "cell_type": "code",
     "collapsed": false,
     "input": [
      "Id = ((1/Td)*-Id2+Rd*W*(1/Tfd))"
     ],
     "language": "python",
     "metadata": {},
     "outputs": [],
     "prompt_number": 47
    },
    {
     "cell_type": "code",
     "collapsed": false,
     "input": [
      "Id.integrate(Id2)"
     ],
     "language": "python",
     "metadata": {},
     "outputs": [
      {
       "metadata": {},
       "output_type": "pyout",
       "prompt_number": 49,
       "text": [
        "-Id**2/(2*Td) + Id*Rd*W/Tfd"
       ]
      }
     ],
     "prompt_number": 49
    },
    {
     "cell_type": "heading",
     "level": 1,
     "metadata": {},
     "source": [
      "Post synaptic direct synapse soma current"
     ]
    },
    {
     "cell_type": "heading",
     "level": 1,
     "metadata": {},
     "source": [
      "15 input neurons.  W = weight, 1/Tdf = Dirac function.  Using the formula Sigma(w*Dirac) the output below is produced."
     ]
    },
    {
     "cell_type": "code",
     "collapsed": false,
     "input": [
      "W*1/Tfd"
     ],
     "language": "python",
     "metadata": {},
     "outputs": [
      {
       "metadata": {},
       "output_type": "pyout",
       "prompt_number": 136,
       "text": [
        "W/Tfd"
       ]
      }
     ],
     "prompt_number": 136
    },
    {
     "cell_type": "code",
     "collapsed": false,
     "input": [
      "DiracWeighted = [W/Tfd]*15"
     ],
     "language": "python",
     "metadata": {},
     "outputs": [],
     "prompt_number": 133
    },
    {
     "cell_type": "code",
     "collapsed": false,
     "input": [
      "sum(DiracWeighted)"
     ],
     "language": "python",
     "metadata": {},
     "outputs": [
      {
       "metadata": {},
       "output_type": "pyout",
       "prompt_number": 135,
       "text": [
        "15*W/Tfd"
       ]
      }
     ],
     "prompt_number": 135
    },
    {
     "cell_type": "code",
     "collapsed": false,
     "input": [
      "Is, Ts = var('Is Ts')"
     ],
     "language": "python",
     "metadata": {},
     "outputs": [],
     "prompt_number": 138
    },
    {
     "cell_type": "code",
     "collapsed": false,
     "input": [
      "Is2 = Is"
     ],
     "language": "python",
     "metadata": {},
     "outputs": [],
     "prompt_number": 139
    },
    {
     "cell_type": "code",
     "collapsed": false,
     "input": [
      "Is = (1/Ts)*(-Is2+sum(DiracWeighted))"
     ],
     "language": "python",
     "metadata": {},
     "outputs": [],
     "prompt_number": 141
    },
    {
     "cell_type": "code",
     "collapsed": false,
     "input": [
      "Is.integrate(Is2)"
     ],
     "language": "python",
     "metadata": {},
     "outputs": [
      {
       "metadata": {},
       "output_type": "pyout",
       "prompt_number": 142,
       "text": [
        "-Is**2/(2*Ts) + 15*Is*W/(Tfd*Ts)"
       ]
      }
     ],
     "prompt_number": 142
    },
    {
     "cell_type": "heading",
     "level": 1,
     "metadata": {},
     "source": [
      "Total soma membrane potential"
     ]
    },
    {
     "cell_type": "code",
     "collapsed": false,
     "input": [
      "DendriteGroup = [Id.integrate(Id2)]*15"
     ],
     "language": "python",
     "metadata": {},
     "outputs": [],
     "prompt_number": 143
    },
    {
     "cell_type": "code",
     "collapsed": false,
     "input": [
      "SynapseToSoma = Is.integrate(Is2)"
     ],
     "language": "python",
     "metadata": {},
     "outputs": [],
     "prompt_number": 152
    },
    {
     "cell_type": "code",
     "collapsed": false,
     "input": [
      "Um, Tm, Rm = var('Um Tm Rm')"
     ],
     "language": "python",
     "metadata": {},
     "outputs": [],
     "prompt_number": 149
    },
    {
     "cell_type": "code",
     "collapsed": false,
     "input": [
      "Um2 = Um"
     ],
     "language": "python",
     "metadata": {},
     "outputs": [],
     "prompt_number": 150
    },
    {
     "cell_type": "code",
     "collapsed": false,
     "input": [
      "Um = (1/Tm)*(-Um2+(Rm*(sum(DendriteGroup)+SynapseToSoma)))"
     ],
     "language": "python",
     "metadata": {},
     "outputs": [],
     "prompt_number": 153
    },
    {
     "cell_type": "code",
     "collapsed": false,
     "input": [
      "Um"
     ],
     "language": "python",
     "metadata": {},
     "outputs": [
      {
       "metadata": {},
       "output_type": "pyout",
       "prompt_number": 154,
       "text": [
        "(Rm*(-15*Id**2/(2*Td) + 15*Id*Rd*W/Tfd - Is**2/(2*Ts) + 15*Is*W/(Tfd*Ts)) - Um)/Tm"
       ]
      }
     ],
     "prompt_number": 154
    }
   ],
   "metadata": {}
  }
 ]
}