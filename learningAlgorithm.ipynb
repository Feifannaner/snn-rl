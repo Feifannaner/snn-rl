{
 "metadata": {
  "name": ""
 },
 "nbformat": 3,
 "nbformat_minor": 0,
 "worksheets": [
  {
   "cells": [
    {
     "cell_type": "code",
     "collapsed": false,
     "input": [
      "import numpy as np\n",
      "dictionary = zeros(26, dtype='c1, (5,3)i1')\n",
      "dictionary[:] =[('A',[[1, -1, 1],[-1, 1, -1],[-1, -1, -1],[-1, 1, -1],[-1, 1, -1]]),\n",
      "                ('B',[[-1, -1, 1],[-1, 1, -1],[-1, -1, 1],[-1, 1, -1],[-1, -1, 1]]),\n",
      "                ('C',[[-1, -1, -1],[-1, 1, 1],[-1, 1, 1],[-1, 1, 1],[-1, -1, -1]]),\n",
      "                ('D',[[-1, -1, 1],[-1, 1, -1],[-1, 1, -1],[-1, 1, -1],[-1, -1, 1]]),\n",
      "                ('E',[[-1, -1, -1],[-1, 1, 1],[-1, -1, 1],[-1, 1, 1],[-1, -1, -1]]),\n",
      "                ('F',[[-1, -1, -1],[-1, 1, 1],[-1, -1, 1],[-1, 1, 1],[-1, 1, 1]]),\n",
      "                ('G',[[-1, -1, -1],[-1, 1, 1],[-1, 1, 1],[-1, 1, -1],[-1, -1, -1]]),\n",
      "                ('H',[[-1, 1, -1],[-1, 1, -1],[-1, -1, -1],[-1, 1, -1],[-1, 1, -1]]),\n",
      "                ('I',[[-1, -1, -1],[1, -1, 1],[1, -1, 1],[1, -1, 1],[-1, -1, -1]]),\n",
      "                ('J',[[-1, -1, -1],[1, 1, -1],[1, 1, -1],[-1, 1, -1],[-1, -1, -1]]),\n",
      "                ('K',[[-1, 1, -1],[-1, -1, 1],[-1, 1, 1],[-1, -1, 1],[-1, 1, -1]]),\n",
      "                ('L',[[-1, 1, 1],[-1, 1, 1],[-1, 1, 1],[-1, 1, 1],[-1, -1, -1]]),\n",
      "                ('M',[[-1, 1, -1],[-1, -1, -1],[-1, 1, -1],[-1, 1, -1],[-1, 1, -1]]),\n",
      "                ('N',[[-1, 1, -1],[-1, -1, -1],[-1, -1, -1],[-1, -1, -1],[-1, 1, -1]]),\n",
      "                ('O',[[1, -1, 1],[-1, 1, -1],[-1, 1, -1],[-1, 1, -1],[1, -1, 1]]),\n",
      "                ('P',[[-1, -1, -1],[-1, 1, -1],[-1, -1, -1],[-1, 1, 1],[-1, 1, 1]]),\n",
      "                ('Q',[[1, -1, 1],[-1, 1, -1],[-1, 1, -1],[1, -1, 1],[1, 1, -1]]),\n",
      "                ('R',[[-1, -1, 1],[-1, 1, -1],[-1, -1, -1],[-1, -1, 1],[-1, 1, -1]]),\n",
      "                ('S',[[1, -1, -1],[-1, 1, 1],[1, -1, 1],[1, 1, -1],[-1, -1, 1]]),\n",
      "                ('T',[[-1, -1, -1],[1, -1, 1],[1, -1, 1],[1, -1, 1],[1, -1, 1]]),\n",
      "                ('U',[[-1, 1, -1],[-1, 1, -1],[-1, 1, -1],[-1, 1, -1],[-1, -1, -1]]),\n",
      "                ('V',[[-1, 1, -1],[-1, 1, -1],[-1, 1, -1],[-1, 1, -1],[1, -1, 1]]),\n",
      "                ('W',[[-1, 1, -1],[-1, 1, -1],[-1, 1, -1],[-1, -1, -1],[-1, 1, -1]]),\n",
      "                ('X',[[-1, 1, -1],[-1, 1, -1],[1, -1, 1],[-1, 1, -1],[-1, 1, -1]]),\n",
      "                ('Y',[[-1, 1, -1],[-1, 1, -1],[1, -1, 1],[1, -1, 1],[1, -1, 1]]),\n",
      "                ('Z',[[-1, -1, -1],[1, 1, -1],[1, -1, 1],[-1, 1, 1],[-1, -1, -1]])]\n"
     ],
     "language": "python",
     "metadata": {},
     "outputs": [],
     "prompt_number": 123
    },
    {
     "cell_type": "code",
     "collapsed": false,
     "input": [
      "weights = np.round(np.random.uniform(0.0,1.0,[5,3,4]))\n",
      "for epoch in range(100):\n",
      "    neuronWhichfired = set()\n",
      "    for char in range(4):\n",
      "        maxOutput = None\n",
      "        maxNeuron = None\n",
      "        for neuron in range(4):\n",
      "            output = sum(weights[:,:,neuron]*dictionary[char][1])\n",
      "            if output > maxOutput or maxOutput == None:\n",
      "                maxOutput = output\n",
      "                maxNeuron = neuron\n",
      "        \n",
      "        neuronWhichfired.add(maxNeuron)\n",
      "        \n",
      "    print neuronWhichfired\n",
      "    \n",
      "    #If all of the neuron fired at least once means we are done\n",
      "    if len(neuronWhichfired) == 4:\n",
      "        break\n",
      "    #generate random weights for neurons which didn't fired\n",
      "    for neuron in range(4):\n",
      "        if neuron not in neuronWhichfired:\n",
      "            weights[:,:,neuron] = np.round(np.random.uniform(0.0,1.0,[5,3]))"
     ],
     "language": "python",
     "metadata": {},
     "outputs": [
      {
       "output_type": "stream",
       "stream": "stdout",
       "text": [
        "set([1, 3])\n",
        "set([1, 3])\n",
        "set([0, 1, 3])\n",
        "set([0, 1, 3])\n",
        "set([0, 1, 3])\n",
        "set([0, 1, 3])\n",
        "set([0, 1, 3])\n",
        "set([0, 1, 3])\n",
        "set([0, 1, 3])\n",
        "set([0, 1, 3])\n",
        "set([0, 1, 3])\n",
        "set([0, 1, 3])\n",
        "set([0, 1, 3])\n",
        "set([0, 1, 2, 3])\n"
       ]
      }
     ],
     "prompt_number": 138
    },
    {
     "cell_type": "code",
     "collapsed": false,
     "input": [
      "for char in range(4):\n",
      "    print \" -----------\" \n",
      "    for neuron in range(4):\n",
      "        print \"Char = \",char, \"Neuron =\" ,neuron, \"Output =\", sum(weights[:,:,neuron]*dictionary[char][1])\n"
     ],
     "language": "python",
     "metadata": {},
     "outputs": [
      {
       "output_type": "stream",
       "stream": "stdout",
       "text": [
        " -----------\n",
        "Char =  0 Neuron = 0 Output = -1.0\n",
        "Char =  0 Neuron = 1 Output = 1.0\n",
        "Char =  0 Neuron = 2 Output = -4.0\n",
        "Char =  0 Neuron = 3 Output = 0.0\n",
        " -----------\n",
        "Char =  1 Neuron = 0 Output = 1.0\n",
        "Char =  1 Neuron = 1 Output = -1.0\n",
        "Char =  1 Neuron = 2 Output = -4.0\n",
        "Char =  1 Neuron = 3 Output = 0.0\n",
        " -----------\n",
        "Char =  2 Neuron = 0 Output = 1.0\n",
        "Char =  2 Neuron = 1 Output = 1.0\n",
        "Char =  2 Neuron = 2 Output = 2.0\n",
        "Char =  2 Neuron = 3 Output = 0.0\n",
        " -----------\n",
        "Char =  3 Neuron = 0 Output = 1.0\n",
        "Char =  3 Neuron = 1 Output = 1.0\n",
        "Char =  3 Neuron = 2 Output = -4.0\n",
        "Char =  3 Neuron = 3 Output = 2.0\n"
       ]
      }
     ],
     "prompt_number": 144
    }
   ],
   "metadata": {}
  }
 ]
}