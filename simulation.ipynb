{
 "metadata": {
  "name": "",
  "signature": "sha256:ef76d2effafba113cce06ad376ca6a9d6df623414ac84e78a94cc4a9893ec26b"
 },
 "nbformat": 3,
 "nbformat_minor": 0,
 "worksheets": [
  {
   "cells": [
    {
     "cell_type": "code",
     "collapsed": false,
     "input": [
      "from brian import *\n",
      "\n",
      "class dictionary():\n",
      "\tdef spikeTimes(self, dictionaryLongitude, spikeInterval, spikesPerChar, epochs):\n",
      "\n",
      "\t\tdictionary = zeros(26, dtype='c1, (5,3)u1')\n",
      "\t\tdictionary[:] =[('A',[[1, 0, 1],[0, 1, 0],[0, 0, 0],[0, 1, 0],[0, 1, 0]]),\n",
      "\t\t\t\t\t    ('B',[[0, 0, 1],[0, 1, 0],[0, 0, 1],[0, 1, 0],[0, 0, 1]]),\n",
      "\t\t\t\t\t    ('C',[[0, 0, 0],[0, 1, 1],[0, 1, 1],[0, 1, 1],[0, 0, 0]]),\n",
      "\t\t\t\t\t    ('D',[[0, 0, 1],[0, 1, 0],[0, 1, 0],[0, 1, 0],[0, 0, 1]]),\n",
      "\t\t\t\t\t    ('E',[[0, 0, 0],[0, 1, 1],[0, 0, 1],[0, 1, 1],[0, 0, 0]]),\n",
      "\t\t\t\t\t    ('F',[[0, 0, 0],[0, 1, 1],[0, 0, 1],[0, 1, 1],[0, 1, 1]]),\n",
      "\t\t\t\t\t    ('G',[[0, 0, 0],[0, 1, 1],[0, 1, 1],[0, 1, 0],[0, 0, 0]]),\n",
      "                        ('H',[[0, 1, 0],[0, 1, 0],[0, 0, 0],[0, 1, 0],[0, 1, 0]]),\n",
      "                        ('I',[[0, 0, 0],[1, 0, 1],[1, 0, 1],[1, 0, 1],[0, 0, 0]]),\n",
      "\t\t\t\t\t    ('J',[[0, 0, 0],[1, 1, 0],[1, 1, 0],[0, 1, 0],[0, 0, 0]]),\n",
      "\t\t\t\t\t    ('K',[[0, 1, 0],[0, 0, 1],[0, 1, 1],[0, 0, 1],[0, 1, 0]]),\n",
      "\t\t\t\t\t    ('L',[[0, 1, 1],[0, 1, 1],[0, 1, 1],[0, 1, 1],[0, 0, 0]]),\n",
      "\t\t\t\t\t    ('M',[[0, 1, 0],[0, 0, 0],[0, 1, 0],[0, 1, 0],[0, 1, 0]]),\n",
      "\t\t\t\t\t    ('N',[[0, 1, 0],[0, 0, 0],[0, 0, 0],[0, 0, 0],[0, 1, 0]]),\n",
      "\t\t\t\t\t    ('O',[[1, 0, 1],[0, 1, 0],[0, 1, 0],[0, 1, 0],[1, 0, 1]]),\n",
      "\t\t\t\t\t    ('P',[[0, 0, 0],[0, 1, 0],[0, 0, 0],[0, 1, 1],[0, 1, 1]]),\n",
      "\t\t\t\t\t    ('Q',[[1, 0, 1],[0, 1, 0],[0, 1, 0],[1, 0, 1],[1, 1, 0]]),\n",
      "\t\t\t\t\t    ('R',[[0, 0, 1],[0, 1, 0],[0, 0, 0],[0, 0, 1],[0, 1, 0]]),\n",
      "\t\t\t\t\t    ('S',[[1, 0, 0],[0, 1, 1],[1, 0, 1],[1, 1, 0],[0, 0, 1]]),\n",
      "\t\t\t\t\t    ('T',[[0, 0, 0],[1, 0, 1],[1, 0, 1],[1, 0, 1],[1, 0, 1]]),\n",
      "\t\t\t\t\t    ('U',[[0, 1, 0],[0, 1, 0],[0, 1, 0],[0, 1, 0],[0, 0, 0]]),\n",
      "\t\t\t\t\t    ('V',[[0, 1, 0],[0, 1, 0],[0, 1, 0],[0, 1, 0],[1, 0, 1]]),\n",
      "\t\t\t\t\t    ('W',[[0, 1, 0],[0, 1, 0],[0, 1, 0],[0, 0, 0],[0, 1, 0]]),\n",
      "\t\t\t\t\t    ('X',[[0, 1, 0],[0, 1, 0],[1, 0, 1],[0, 1, 0],[0, 1, 0]]),\n",
      "\t\t\t\t\t    ('Y',[[0, 1, 0],[0, 1, 0],[1, 0, 1],[1, 0, 1],[1, 0, 1]]),\n",
      "\t\t\t\t\t    ('Z',[[0, 0, 0],[1, 1, 0],[1, 0, 1],[0, 1, 1],[0, 0, 0]])]\n",
      "\t\t\n",
      "\t\tself.dictionary = dictionary\n",
      "\n",
      "\t\tspikeArray = array([]).reshape(0,2)\n",
      "\n",
      "\t\ttime = 0 * ms\n",
      "        \n",
      "\t\tfor indexEpoch in range (0, epochs):\n",
      "\t\t\tfor indexDictionary in range(0,dictionaryLongitude):\n",
      "\t\t\t\t\n",
      "\t\t\t\tvector = dictionary[indexDictionary][1].reshape([1,15])\n",
      "\t\t\t\tfor charSpikeIndex in range(0,spikesPerChar):\n",
      "\n",
      "\t\t\t\t\ttime = time + spikeInterval\n",
      "\t\t\t\t\tfor indexPixel in range(0,15):  \n",
      "                        \n",
      "\t\t\t\t\t\tif vector[0][indexPixel] == 0:\n",
      "\t\t\t\t\t\t\tspike = array([indexPixel, time])\n",
      "\t\t\t\t\t\t\tspikeArray = vstack([spikeArray,spike])\n",
      "\n",
      "\t\treturn spikeArray "
     ],
     "language": "python",
     "metadata": {},
     "outputs": [
      {
       "output_type": "stream",
       "stream": "stderr",
       "text": [
        "/home/nacho/anaconda/lib/python2.7/site-packages/brian/utils/sparse_patch/__init__.py:39: UserWarning: Couldn't find matching sparse matrix patch for scipy version 0.14.0, but in most cases this shouldn't be a problem.\n",
        "  warnings.warn(\"Couldn't find matching sparse matrix patch for scipy version %s, but in most cases this shouldn't be a problem.\" % scipy.__version__)\n"
       ]
      }
     ],
     "prompt_number": 1
    },
    {
     "cell_type": "code",
     "collapsed": false,
     "input": [
      "epochs = 100 \n",
      "spikeMiliseconds = 100\n",
      "spikeInterval = spikeMiliseconds * ms\n",
      "spikeIntervalUnformatted = spikeMiliseconds * .001\n",
      "dictionaryLongitude = 4\n",
      "spikesPerChar=3\n",
      "firstLayerSize = 15\n",
      "\n",
      "dictionary = dictionary()\n",
      "spiketimes = dictionary.spikeTimes(dictionaryLongitude, spikeInterval, spikesPerChar, epochs)\n",
      "LIK = SpikeGeneratorGroup(firstLayerSize, spiketimes)\n",
      "\n",
      "taum = 20 * ms\n",
      "taue = 1 * ms\n",
      "taui = 10 * ms\n",
      "Vt = 5 * mV\n",
      "Vr = 0 * mV\n",
      "\n",
      "eqs = Equations('''\n",
      "\t  dV/dt  = (-V+ge-gi)/taum : volt\n",
      "\t  dge/dt = -ge/taue        : volt\n",
      "\t  dgi/dt = -gi/taui        : volt\n",
      "\t  ''')\n",
      "ADDS = NeuronGroup(N=4, model=eqs,threshold=Vt, reset=Vr)\n",
      "\n",
      "exhitatory = Connection(LIK, ADDS , 'ge',delay=10*ms,structure='dense')\n",
      "Wexhitatory = np.random.uniform(5,25,[15,4]) * mV\n",
      "exhitatory.connect(LIK,ADDS,Wexhitatory)\n",
      "Ap = 1 * mV\n",
      "Am = 1 * mV\n",
      "stdp=ExponentialSTDP(exhitatory,taue,taum,Ap,Am,wmax=50 * mV,interactions='all',update='additive')\n",
      "\n",
      "inhibitory = Connection(ADDS, ADDS , 'gi',delay=5*ms,structure='dense')\n",
      "#Connect adds layer via lateral inhibitory connections\n",
      "#the diagonal should be 0 to not auto-inhibate\n",
      "Winhibitory = np.random.uniform(0,5,[4,4]) * mV\n",
      "diagonal = np.diag_indices(Winhibitory.shape[0])\n",
      "Winhibitory[diagonal] = 0;\n",
      "\n",
      "inhibitory.connect(ADDS,ADDS,Winhibitory)\n",
      "\n",
      "spikeMonitor = SpikeMonitor(ADDS)\n",
      "Mv  = StateMonitor(ADDS, 'V', record=True)\n",
      "Mge = StateMonitor(ADDS, 'ge', record=True)\n",
      "Mgi = StateMonitor(ADDS, 'gi', record=True)\n",
      "\n",
      "\n",
      "#save weights!\n",
      "weights_exitatory = []\n",
      "weights_inhibitory = []\n",
      "@network_operation\n",
      "def record_weights():\n",
      "    weights_exitatory.append(array(exhitatory.W))\n",
      "    weights_inhibitory.append(array(inhibitory.W))\n",
      "\n",
      "run(spikesPerChar * dictionaryLongitude * spikeInterval * epochs , report='text')"
     ],
     "language": "python",
     "metadata": {},
     "outputs": [
      {
       "output_type": "stream",
       "stream": "stdout",
       "text": [
        "4% complete, 10s elapsed, approximately 3m 51s remaining.\n"
       ]
      },
      {
       "output_type": "stream",
       "stream": "stdout",
       "text": [
        "8% complete, 20s elapsed, approximately 3m 41s remaining.\n"
       ]
      },
      {
       "output_type": "stream",
       "stream": "stdout",
       "text": [
        "12% complete, 30s elapsed, approximately 3m 31s remaining.\n"
       ]
      },
      {
       "output_type": "stream",
       "stream": "stdout",
       "text": [
        "16% complete, 40s elapsed, approximately 3m 21s remaining.\n"
       ]
      },
      {
       "output_type": "stream",
       "stream": "stdout",
       "text": [
        "20% complete, 50s elapsed, approximately 3m 11s remaining.\n"
       ]
      },
      {
       "output_type": "stream",
       "stream": "stdout",
       "text": [
        "24% complete, 1m 0s elapsed, approximately 3m 1s remaining.\n"
       ]
      },
      {
       "output_type": "stream",
       "stream": "stdout",
       "text": [
        "28% complete, 1m 10s elapsed, approximately 2m 51s remaining.\n"
       ]
      },
      {
       "output_type": "stream",
       "stream": "stdout",
       "text": [
        "33% complete, 1m 20s elapsed, approximately 2m 41s remaining.\n"
       ]
      },
      {
       "output_type": "stream",
       "stream": "stdout",
       "text": [
        "37% complete, 1m 30s elapsed, approximately 2m 31s remaining.\n"
       ]
      },
      {
       "output_type": "stream",
       "stream": "stdout",
       "text": [
        "41% complete, 1m 40s elapsed, approximately 2m 21s remaining.\n"
       ]
      },
      {
       "output_type": "stream",
       "stream": "stdout",
       "text": [
        "45% complete, 1m 50s elapsed, approximately 2m 11s remaining.\n"
       ]
      },
      {
       "output_type": "stream",
       "stream": "stdout",
       "text": [
        "49% complete, 2m 0s elapsed, approximately 2m 1s remaining.\n"
       ]
      },
      {
       "output_type": "stream",
       "stream": "stdout",
       "text": [
        "53% complete, 2m 10s elapsed, approximately 1m 51s remaining.\n"
       ]
      },
      {
       "output_type": "stream",
       "stream": "stdout",
       "text": [
        "57% complete, 2m 20s elapsed, approximately 1m 41s remaining.\n"
       ]
      },
      {
       "output_type": "stream",
       "stream": "stdout",
       "text": [
        "62% complete, 2m 30s elapsed, approximately 1m 31s remaining.\n"
       ]
      },
      {
       "output_type": "stream",
       "stream": "stdout",
       "text": [
        "66% complete, 2m 40s elapsed, approximately 1m 21s remaining.\n"
       ]
      },
      {
       "output_type": "stream",
       "stream": "stdout",
       "text": [
        "70% complete, 2m 50s elapsed, approximately 1m 11s remaining.\n"
       ]
      },
      {
       "output_type": "stream",
       "stream": "stdout",
       "text": [
        "74% complete, 3m 0s elapsed, approximately 1m 2s remaining.\n"
       ]
      },
      {
       "output_type": "stream",
       "stream": "stdout",
       "text": [
        "78% complete, 3m 10s elapsed, approximately 52s remaining.\n"
       ]
      },
      {
       "output_type": "stream",
       "stream": "stdout",
       "text": [
        "82% complete, 3m 20s elapsed, approximately 42s remaining.\n"
       ]
      },
      {
       "output_type": "stream",
       "stream": "stdout",
       "text": [
        "86% complete, 3m 30s elapsed, approximately 32s remaining.\n"
       ]
      },
      {
       "output_type": "stream",
       "stream": "stdout",
       "text": [
        "90% complete, 3m 40s elapsed, approximately 22s remaining.\n"
       ]
      },
      {
       "output_type": "stream",
       "stream": "stdout",
       "text": [
        "94% complete, 3m 50s elapsed, approximately 12s remaining.\n"
       ]
      },
      {
       "output_type": "stream",
       "stream": "stdout",
       "text": [
        "99% complete, 4m 0s elapsed, approximately 2s remaining.\n"
       ]
      },
      {
       "output_type": "stream",
       "stream": "stdout",
       "text": [
        "100% complete, 4m 2s elapsed, approximately 0s remaining.\n"
       ]
      }
     ],
     "prompt_number": 2
    },
    {
     "cell_type": "markdown",
     "metadata": {},
     "source": [
      "We will now save all the important variables : neuron voltages, neuron spikes, and weights to a file called simulation.hdf5\n",
      "while saving the data, we will generate downsampled arrays, so when we plot we don't use that much RAM.\n",
      "if you are on ubuntu you can use:\n",
      "\n",
      "    hdfview simulation.hdf5\n",
      "to explore the dataset.\n",
      "we haven't implemented a method for downsampling sparse arrays yet, so spiketime isn't save , but it shouldn't be to hard to do that"
     ]
    },
    {
     "cell_type": "code",
     "collapsed": false,
     "input": [
      "from brianPlotter import *\n",
      "\n",
      "bp = brianPlotter('simulation.hdf5')\n",
      "\n",
      "voltage = np.transpose(Mv[:])\n",
      "bp.saveData('voltage',voltage)\n",
      "bp.saveData('excitatory', np.asarray(weights_exitatory))\n",
      "bp.saveData('inhibitory', np.asarray(weights_inhibitory))\n",
      "\n",
      "del bp #you have to delete the object so the file is closed"
     ],
     "language": "python",
     "metadata": {},
     "outputs": [],
     "prompt_number": 3
    },
    {
     "cell_type": "markdown",
     "metadata": {},
     "source": [
      "If you want to see the analysis of this simulation click [here](analysis.ipynb).\n",
      "\n",
      "Remember to shutdown this notebook to release memory"
     ]
    }
   ],
   "metadata": {}
  }
 ]
}