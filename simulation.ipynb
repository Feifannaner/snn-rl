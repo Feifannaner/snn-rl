{
 "metadata": {
  "name": "",
  "signature": "sha256:8adfb2b6c5dd751454d0d65957a207baff0e1515476f5f0ed2d6ae06559234ae"
 },
 "nbformat": 3,
 "nbformat_minor": 0,
 "worksheets": [
  {
   "cells": [
    {
     "cell_type": "code",
     "collapsed": false,
     "input": [
      "from brian import *\n",
      "\n",
      "class dictionary():\n",
      "\tdef spikeTimes(self, dictionaryLongitude, spikeInterval, spikesPerChar, epochs):\n",
      "\n",
      "\t\tdictionary = zeros(26, dtype='c1, (5,3)u1')\n",
      "\t\tdictionary[:] =[('A',[[1, 0, 1],[0, 1, 0],[0, 0, 0],[0, 1, 0],[0, 1, 0]]),\n",
      "\t\t\t\t\t    ('B',[[0, 0, 1],[0, 1, 0],[0, 0, 1],[0, 1, 0],[0, 0, 1]]),\n",
      "\t\t\t\t\t    ('C',[[0, 0, 0],[0, 1, 1],[0, 1, 1],[0, 1, 1],[0, 0, 0]]),\n",
      "\t\t\t\t\t    ('D',[[0, 0, 1],[0, 1, 0],[0, 1, 0],[0, 1, 0],[0, 0, 1]]),\n",
      "\t\t\t\t\t    ('E',[[0, 0, 0],[0, 1, 1],[0, 0, 1],[0, 1, 1],[0, 0, 0]]),\n",
      "\t\t\t\t\t    ('F',[[0, 0, 0],[0, 1, 1],[0, 0, 1],[0, 1, 1],[0, 1, 1]]),\n",
      "\t\t\t\t\t    ('G',[[0, 0, 0],[0, 1, 1],[0, 1, 1],[0, 1, 0],[0, 0, 0]]),\n",
      "                        ('H',[[0, 1, 0],[0, 1, 0],[0, 0, 0],[0, 1, 0],[0, 1, 0]]),\n",
      "                        ('I',[[0, 0, 0],[1, 0, 1],[1, 0, 1],[1, 0, 1],[0, 0, 0]]),\n",
      "\t\t\t\t\t    ('J',[[0, 0, 0],[1, 1, 0],[1, 1, 0],[0, 1, 0],[0, 0, 0]]),\n",
      "\t\t\t\t\t    ('K',[[0, 1, 0],[0, 0, 1],[0, 1, 1],[0, 0, 1],[0, 1, 0]]),\n",
      "\t\t\t\t\t    ('L',[[0, 1, 1],[0, 1, 1],[0, 1, 1],[0, 1, 1],[0, 0, 0]]),\n",
      "\t\t\t\t\t    ('M',[[0, 1, 0],[0, 0, 0],[0, 1, 0],[0, 1, 0],[0, 1, 0]]),\n",
      "\t\t\t\t\t    ('N',[[0, 1, 0],[0, 0, 0],[0, 0, 0],[0, 0, 0],[0, 1, 0]]),\n",
      "\t\t\t\t\t    ('O',[[1, 0, 1],[0, 1, 0],[0, 1, 0],[0, 1, 0],[1, 0, 1]]),\n",
      "\t\t\t\t\t    ('P',[[0, 0, 0],[0, 1, 0],[0, 0, 0],[0, 1, 1],[0, 1, 1]]),\n",
      "\t\t\t\t\t    ('Q',[[1, 0, 1],[0, 1, 0],[0, 1, 0],[1, 0, 1],[1, 1, 0]]),\n",
      "\t\t\t\t\t    ('R',[[0, 0, 1],[0, 1, 0],[0, 0, 0],[0, 0, 1],[0, 1, 0]]),\n",
      "\t\t\t\t\t    ('S',[[1, 0, 0],[0, 1, 1],[1, 0, 1],[1, 1, 0],[0, 0, 1]]),\n",
      "\t\t\t\t\t    ('T',[[0, 0, 0],[1, 0, 1],[1, 0, 1],[1, 0, 1],[1, 0, 1]]),\n",
      "\t\t\t\t\t    ('U',[[0, 1, 0],[0, 1, 0],[0, 1, 0],[0, 1, 0],[0, 0, 0]]),\n",
      "\t\t\t\t\t    ('V',[[0, 1, 0],[0, 1, 0],[0, 1, 0],[0, 1, 0],[1, 0, 1]]),\n",
      "\t\t\t\t\t    ('W',[[0, 1, 0],[0, 1, 0],[0, 1, 0],[0, 0, 0],[0, 1, 0]]),\n",
      "\t\t\t\t\t    ('X',[[0, 1, 0],[0, 1, 0],[1, 0, 1],[0, 1, 0],[0, 1, 0]]),\n",
      "\t\t\t\t\t    ('Y',[[0, 1, 0],[0, 1, 0],[1, 0, 1],[1, 0, 1],[1, 0, 1]]),\n",
      "\t\t\t\t\t    ('Z',[[0, 0, 0],[1, 1, 0],[1, 0, 1],[0, 1, 1],[0, 0, 0]])]\n",
      "\t\t\n",
      "\t\tself.dictionary = dictionary\n",
      "\n",
      "\t\tspikeArray = array([]).reshape(0,2)\n",
      "\n",
      "\t\ttime = 0 * ms\n",
      "        \n",
      "\t\tfor indexEpoch in range (0, epochs):\n",
      "\t\t\tfor indexDictionary in range(0,dictionaryLongitude):\n",
      "\t\t\t\t\n",
      "\t\t\t\tvector = dictionary[indexDictionary][1].reshape([1,15])\n",
      "\t\t\t\tfor charSpikeIndex in range(0,spikesPerChar):\n",
      "\n",
      "\t\t\t\t\ttime = time + spikeInterval\n",
      "\t\t\t\t\tfor indexPixel in range(0,15):  \n",
      "                        \n",
      "\t\t\t\t\t\tif vector[0][indexPixel] == 0:\n",
      "\t\t\t\t\t\t\tspike = array([indexPixel, time])\n",
      "\t\t\t\t\t\t\tspikeArray = vstack([spikeArray,spike])\n",
      "\n",
      "\t\treturn spikeArray "
     ],
     "language": "python",
     "metadata": {},
     "outputs": [
      {
       "output_type": "stream",
       "stream": "stderr",
       "text": [
        "/home/nacho/anaconda/lib/python2.7/site-packages/brian/utils/sparse_patch/__init__.py:39: UserWarning: Couldn't find matching sparse matrix patch for scipy version 0.14.0, but in most cases this shouldn't be a problem.\n",
        "  warnings.warn(\"Couldn't find matching sparse matrix patch for scipy version %s, but in most cases this shouldn't be a problem.\" % scipy.__version__)\n"
       ]
      }
     ],
     "prompt_number": 1
    },
    {
     "cell_type": "code",
     "collapsed": false,
     "input": [
      "epochs = 100 \n",
      "spikeMiliseconds = 100\n",
      "spikeInterval = spikeMiliseconds * ms\n",
      "spikeIntervalUnformatted = spikeMiliseconds * .001\n",
      "dictionaryLongitude = 4\n",
      "spikesPerChar=3\n",
      "firstLayerSize = 15\n",
      "\n",
      "dictionary = dictionary()\n",
      "spiketimes = dictionary.spikeTimes(dictionaryLongitude, spikeInterval, spikesPerChar, epochs)\n",
      "LIK = SpikeGeneratorGroup(firstLayerSize, spiketimes)\n",
      "\n",
      "N = 1000\n",
      "taum = 10 * ms\n",
      "tau_pre = 20 * ms\n",
      "tau_post = tau_pre\n",
      "Ee = 0 * mV\n",
      "Vt = -54 * mV\n",
      "Vr = -60 * mV\n",
      "El = -74 * mV\n",
      "taue = 5 * ms\n",
      "taui = 5 * ms\n",
      "F = 15 * Hz\n",
      "gmax = .01\n",
      "dA_pre = .01\n",
      "dA_post = -dA_pre * tau_pre / tau_post * 1.05\n",
      "dA_post *= gmax\n",
      "dA_pre *= gmax\n",
      "\n",
      "eqs = Equations('''\n",
      "\t  dV/dt  = (-V+ge-gi)/taum : volt\n",
      "\t  dge/dt = -ge/taue        : volt\n",
      "\t  dgi/dt = -gi/taui        : volt\n",
      "\t  ''')\n",
      "ADDS = NeuronGroup(N=4, model=eqs,threshold=Vt, reset=Vr)\n",
      "\n",
      "excitatory = Connection(LIK, ADDS , 'ge',structure='dense',max_delay=20 * ms,\n",
      "                        delay=lambda i, j:20 * ms * rand())\n",
      "Wexcitatory = np.random.uniform(0,30,[15,4]) * mV\n",
      "excitatory.connect(LIK,ADDS,Wexcitatory)\n",
      "Ap = 1 * mV\n",
      "Am = 1 * mV\n",
      "stdpE=ExponentialSTDP(excitatory,taue,taum,Ap,Am,wmax=30 * mV,interactions='all',update='additive')\n",
      "\n",
      "inhibitory = Connection(ADDS, ADDS , 'gi',delay=5*ms,structure='dense')\n",
      "#Connect adds layer via lateral inhibitory connections\n",
      "#the diagonal should be 0 to not auto-inhibate\n",
      "Winhibitory = np.random.uniform(0,1000,[4,4]) * mV\n",
      "diagonal = np.diag_indices(Winhibitory.shape[0])\n",
      "Winhibitory[diagonal] = 0;\n",
      "\n",
      "inhibitory.connect(ADDS,ADDS,Winhibitory)\n",
      "stdpI=ExponentialSTDP(inhibitory,taue,taum,Ap,Am,wmax=200 * mV,interactions='all',update='additive')\n",
      "\n",
      "spikeMonitor = SpikeMonitor(ADDS)\n",
      "Mv  = StateMonitor(ADDS, 'V', record=True)\n",
      "Mge = StateMonitor(ADDS, 'ge', record=True)\n",
      "Mgi = StateMonitor(ADDS, 'gi', record=True)\n",
      "\n",
      "\n",
      "#save weights!\n",
      "weights_excitatory = []\n",
      "weights_inhibitory = []\n",
      "@network_operation\n",
      "def record_weights():\n",
      "    weights_excitatory.append(array(excitatory.W))\n",
      "    weights_inhibitory.append(array(inhibitory.W))\n",
      "\n",
      "run(spikesPerChar * dictionaryLongitude * spikeInterval * epochs , report='text')"
     ],
     "language": "python",
     "metadata": {},
     "outputs": [
      {
       "output_type": "stream",
       "stream": "stdout",
       "text": [
        "2% complete, 10s elapsed, approximately 6m 6s remaining.\n"
       ]
      },
      {
       "output_type": "stream",
       "stream": "stdout",
       "text": [
        "5% complete, 20s elapsed, approximately 5m 56s remaining.\n"
       ]
      },
      {
       "output_type": "stream",
       "stream": "stdout",
       "text": [
        "7% complete, 30s elapsed, approximately 5m 50s remaining.\n"
       ]
      },
      {
       "output_type": "stream",
       "stream": "stdout",
       "text": [
        "10% complete, 40s elapsed, approximately 5m 43s remaining.\n"
       ]
      },
      {
       "output_type": "stream",
       "stream": "stdout",
       "text": [
        "13% complete, 50s elapsed, approximately 5m 31s remaining.\n"
       ]
      },
      {
       "output_type": "stream",
       "stream": "stdout",
       "text": [
        "15% complete, 1m 0s elapsed, approximately 5m 20s remaining.\n"
       ]
      },
      {
       "output_type": "stream",
       "stream": "stdout",
       "text": [
        "18% complete, 1m 10s elapsed, approximately 5m 8s remaining.\n"
       ]
      },
      {
       "output_type": "stream",
       "stream": "stdout",
       "text": [
        "21% complete, 1m 20s elapsed, approximately 4m 58s remaining.\n"
       ]
      },
      {
       "output_type": "stream",
       "stream": "stdout",
       "text": [
        "23% complete, 1m 30s elapsed, approximately 4m 48s remaining.\n"
       ]
      },
      {
       "output_type": "stream",
       "stream": "stdout",
       "text": [
        "26% complete, 1m 40s elapsed, approximately 4m 38s remaining.\n"
       ]
      },
      {
       "output_type": "stream",
       "stream": "stdout",
       "text": [
        "28% complete, 1m 50s elapsed, approximately 4m 31s remaining.\n"
       ]
      },
      {
       "output_type": "stream",
       "stream": "stdout",
       "text": [
        "31% complete, 2m 0s elapsed, approximately 4m 24s remaining.\n"
       ]
      },
      {
       "output_type": "stream",
       "stream": "stdout",
       "text": [
        "33% complete, 2m 10s elapsed, approximately 4m 12s remaining.\n"
       ]
      },
      {
       "output_type": "stream",
       "stream": "stdout",
       "text": [
        "36% complete, 2m 20s elapsed, approximately 4m 1s remaining.\n"
       ]
      },
      {
       "output_type": "stream",
       "stream": "stdout",
       "text": [
        "39% complete, 2m 30s elapsed, approximately 3m 50s remaining.\n"
       ]
      },
      {
       "output_type": "stream",
       "stream": "stdout",
       "text": [
        "42% complete, 2m 40s elapsed, approximately 3m 40s remaining.\n"
       ]
      },
      {
       "output_type": "stream",
       "stream": "stdout",
       "text": [
        "44% complete, 2m 50s elapsed, approximately 3m 29s remaining.\n"
       ]
      },
      {
       "output_type": "stream",
       "stream": "stdout",
       "text": [
        "47% complete, 3m 0s elapsed, approximately 3m 19s remaining.\n"
       ]
      },
      {
       "output_type": "stream",
       "stream": "stdout",
       "text": [
        "49% complete, 3m 10s elapsed, approximately 3m 10s remaining.\n"
       ]
      },
      {
       "output_type": "stream",
       "stream": "stdout",
       "text": [
        "52% complete, 3m 20s elapsed, approximately 2m 59s remaining.\n"
       ]
      },
      {
       "output_type": "stream",
       "stream": "stdout",
       "text": [
        "55% complete, 3m 30s elapsed, approximately 2m 49s remaining.\n"
       ]
      },
      {
       "output_type": "stream",
       "stream": "stdout",
       "text": [
        "58% complete, 3m 40s elapsed, approximately 2m 39s remaining.\n"
       ]
      },
      {
       "output_type": "stream",
       "stream": "stdout",
       "text": [
        "60% complete, 3m 50s elapsed, approximately 2m 29s remaining.\n"
       ]
      },
      {
       "output_type": "stream",
       "stream": "stdout",
       "text": [
        "63% complete, 4m 0s elapsed, approximately 2m 18s remaining.\n"
       ]
      },
      {
       "output_type": "stream",
       "stream": "stdout",
       "text": [
        "66% complete, 4m 10s elapsed, approximately 2m 8s remaining.\n"
       ]
      },
      {
       "output_type": "stream",
       "stream": "stdout",
       "text": [
        "68% complete, 4m 20s elapsed, approximately 1m 58s remaining.\n"
       ]
      },
      {
       "output_type": "stream",
       "stream": "stdout",
       "text": [
        "71% complete, 4m 30s elapsed, approximately 1m 48s remaining.\n"
       ]
      },
      {
       "output_type": "stream",
       "stream": "stdout",
       "text": [
        "74% complete, 4m 40s elapsed, approximately 1m 38s remaining.\n"
       ]
      },
      {
       "output_type": "stream",
       "stream": "stdout",
       "text": [
        "76% complete, 4m 50s elapsed, approximately 1m 28s remaining.\n"
       ]
      },
      {
       "output_type": "stream",
       "stream": "stdout",
       "text": [
        "79% complete, 5m 0s elapsed, approximately 1m 18s remaining.\n"
       ]
      },
      {
       "output_type": "stream",
       "stream": "stdout",
       "text": [
        "81% complete, 5m 10s elapsed, approximately 1m 8s remaining.\n"
       ]
      },
      {
       "output_type": "stream",
       "stream": "stdout",
       "text": [
        "84% complete, 5m 20s elapsed, approximately 58s remaining.\n"
       ]
      },
      {
       "output_type": "stream",
       "stream": "stdout",
       "text": [
        "87% complete, 5m 30s elapsed, approximately 48s remaining.\n"
       ]
      },
      {
       "output_type": "stream",
       "stream": "stdout",
       "text": [
        "90% complete, 5m 40s elapsed, approximately 37s remaining.\n"
       ]
      },
      {
       "output_type": "stream",
       "stream": "stdout",
       "text": [
        "92% complete, 5m 50s elapsed, approximately 28s remaining.\n"
       ]
      },
      {
       "output_type": "stream",
       "stream": "stdout",
       "text": [
        "95% complete, 6m 0s elapsed, approximately 17s remaining.\n"
       ]
      },
      {
       "output_type": "stream",
       "stream": "stdout",
       "text": [
        "97% complete, 6m 10s elapsed, approximately 7s remaining.\n"
       ]
      },
      {
       "output_type": "stream",
       "stream": "stdout",
       "text": [
        "100% complete, 6m 17s elapsed, approximately 0s remaining.\n"
       ]
      }
     ]
    },
    {
     "cell_type": "markdown",
     "metadata": {},
     "source": [
      "We will now save all the important variables : neuron voltages, neuron spikes, and weights to a file called simulation.hdf5\n",
      "while saving the data, we will generate downsampled arrays, so when we plot we don't use that much RAM.\n",
      "if you are on ubuntu you can use:\n",
      "\n",
      "    hdfview simulation.hdf5\n",
      "to explore the dataset.\n",
      "we haven't implemented a method for downsampling sparse arrays yet, so spiketime isn't save , but it shouldn't be to hard to do that"
     ]
    },
    {
     "cell_type": "code",
     "collapsed": false,
     "input": [
      "from brianPlotter import *\n",
      "\n",
      "bp = brianPlotter('simulation.hdf5')\n",
      "\n",
      "bp.saveData('spikes', np.asarray(spikeMonitor.spikes), downsample=False);\n",
      "voltage = np.transpose(Mv[:])\n",
      "bp.saveData('voltage',voltage)\n",
      "bp.saveData('excitatory', np.asarray(weights_excitatory))\n",
      "bp.saveData('inhibitory', np.asarray(weights_inhibitory))\n",
      "\n",
      "del bp #you have to delete the object so the file is closed"
     ],
     "language": "python",
     "metadata": {},
     "outputs": [
      {
       "output_type": "stream",
       "stream": "stdout",
       "text": [
        "spikes sucessfully saved\n",
        "voltage sucessfully saved"
       ]
      }
     ]
    },
    {
     "cell_type": "markdown",
     "metadata": {},
     "source": [
      "If you want to see the analysis of this simulation click [here](analysis.ipynb).\n",
      "\n",
      "Remember to shutdown this notebook to release memory"
     ]
    }
   ],
   "metadata": {}
  }
 ]
}