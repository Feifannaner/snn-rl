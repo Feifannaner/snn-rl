{
 "metadata": {
  "name": "",
  "signature": "sha256:aa4674b1d7a7344c1105a60df8832967a9e6507f8505469f9ac80e9ee5a3d1da"
 },
 "nbformat": 3,
 "nbformat_minor": 0,
 "worksheets": [
  {
   "cells": [
    {
     "cell_type": "code",
     "collapsed": false,
     "input": [
      "from brian import *\n",
      "\n",
      "class dictionary():\n",
      "\tdef spikeTimes(self, dictionaryLongitude, spikeInterval, spikesPerChar, epochs):\n",
      "\n",
      "\t\tdictionary = zeros(26, dtype='c1, (5,3)u1')\n",
      "\t\tdictionary[:] =[('A',[[1, 0, 1],[0, 1, 0],[0, 0, 0],[0, 1, 0],[0, 1, 0]]),\n",
      "\t\t\t\t\t    ('B',[[0, 0, 1],[0, 1, 0],[0, 0, 1],[0, 1, 0],[0, 0, 1]]),\n",
      "\t\t\t\t\t    ('C',[[0, 0, 0],[0, 1, 1],[0, 1, 1],[0, 1, 1],[0, 0, 0]]),\n",
      "\t\t\t\t\t    ('D',[[0, 0, 1],[0, 1, 0],[0, 1, 0],[0, 1, 0],[0, 0, 1]]),\n",
      "\t\t\t\t\t    ('E',[[0, 0, 0],[0, 1, 1],[0, 0, 1],[0, 1, 1],[0, 0, 0]]),\n",
      "\t\t\t\t\t    ('F',[[0, 0, 0],[0, 1, 1],[0, 0, 1],[0, 1, 1],[0, 1, 1]]),\n",
      "\t\t\t\t\t    ('G',[[0, 0, 0],[0, 1, 1],[0, 1, 1],[0, 1, 0],[0, 0, 0]]),\n",
      "\t\t\t\t\t    ('H',[[0, 1, 0],[0, 1, 0],[0, 0, 0],[0, 1, 0],[0, 1, 0]]),\n",
      "\t\t\t\t\t    ('I',[[0, 0, 0],[1, 0, 1],[1, 0, 1],[1, 0, 1],[0, 0, 0]]),\n",
      "\t\t\t\t\t    ('J',[[0, 0, 0],[1, 1, 0],[1, 1, 0],[0, 1, 0],[0, 0, 0]]),\n",
      "\t\t\t\t\t    ('K',[[0, 1, 0],[0, 0, 1],[0, 1, 1],[0, 0, 1],[0, 1, 0]]),\n",
      "\t\t\t\t\t    ('L',[[0, 1, 1],[0, 1, 1],[0, 1, 1],[0, 1, 1],[0, 0, 0]]),\n",
      "\t\t\t\t\t    ('M',[[0, 1, 0],[0, 0, 0],[0, 1, 0],[0, 1, 0],[0, 1, 0]]),\n",
      "\t\t\t\t\t    ('N',[[0, 1, 0],[0, 0, 0],[0, 0, 0],[0, 0, 0],[0, 1, 0]]),\n",
      "\t\t\t\t\t    ('O',[[1, 0, 1],[0, 1, 0],[0, 1, 0],[0, 1, 0],[1, 0, 1]]),\n",
      "\t\t\t\t\t    ('P',[[0, 0, 0],[0, 1, 0],[0, 0, 0],[0, 1, 1],[0, 1, 1]]),\n",
      "\t\t\t\t\t    ('Q',[[1, 0, 1],[0, 1, 0],[0, 1, 0],[1, 0, 1],[1, 1, 0]]),\n",
      "\t\t\t\t\t    ('R',[[0, 0, 1],[0, 1, 0],[0, 0, 0],[0, 0, 1],[0, 1, 0]]),\n",
      "\t\t\t\t\t    ('S',[[1, 0, 0],[0, 1, 1],[1, 0, 1],[1, 1, 0],[0, 0, 1]]),\n",
      "\t\t\t\t\t    ('T',[[0, 0, 0],[1, 0, 1],[1, 0, 1],[1, 0, 1],[1, 0, 1]]),\n",
      "\t\t\t\t\t    ('U',[[0, 1, 0],[0, 1, 0],[0, 1, 0],[0, 1, 0],[0, 0, 0]]),\n",
      "\t\t\t\t\t    ('V',[[0, 1, 0],[0, 1, 0],[0, 1, 0],[0, 1, 0],[1, 0, 1]]),\n",
      "\t\t\t\t\t    ('W',[[0, 1, 0],[0, 1, 0],[0, 1, 0],[0, 0, 0],[0, 1, 0]]),\n",
      "\t\t\t\t\t    ('X',[[0, 1, 0],[0, 1, 0],[1, 0, 1],[0, 1, 0],[0, 1, 0]]),\n",
      "\t\t\t\t\t    ('Y',[[0, 1, 0],[0, 1, 0],[1, 0, 1],[1, 0, 1],[1, 0, 1]]),\n",
      "\t\t\t\t\t    ('Z',[[0, 0, 0],[1, 1, 0],[1, 0, 1],[0, 1, 1],[0, 0, 0]])]\n",
      "\t\t\n",
      "\t\tself.dictionary = dictionary\n",
      "\n",
      "\t\tspikeArray = array([]).reshape(0,2)\n",
      "\n",
      "\t\ttime = 0 * ms\n",
      "        \n",
      "\t\tfor indexEpoch in range (0, epochs):\n",
      "\t\t\tfor indexDictionary in range(0,dictionaryLongitude):\n",
      "\t\t\t\t\n",
      "\t\t\t\tvector = dictionary[indexDictionary][1].reshape([1,15])\n",
      "\t\t\t\tfor charSpikeIndex in range(0,spikesPerChar):\n",
      "\n",
      "\t\t\t\t\ttime = time + spikeInterval\n",
      "\t\t\t\t\tfor indexPixel in range(0,15):  \n",
      "                        \n",
      "\t\t\t\t\t\tif vector[0][indexPixel] == 0:\n",
      "\t\t\t\t\t\t\tspike = array([indexPixel, time])\n",
      "\t\t\t\t\t\t\tspikeArray = vstack([spikeArray,spike])\n",
      "\n",
      "\t\treturn spikeArray "
     ],
     "language": "python",
     "metadata": {},
     "outputs": [
      {
       "output_type": "stream",
       "stream": "stderr",
       "text": [
        "/usr/local/lib/python2.7/dist-packages/brian/utils/sparse_patch/__init__.py:39: UserWarning: Couldn't find matching sparse matrix patch for scipy version 0.14.0, but in most cases this shouldn't be a problem.\n",
        "  warnings.warn(\"Couldn't find matching sparse matrix patch for scipy version %s, but in most cases this shouldn't be a problem.\" % scipy.__version__)\n"
       ]
      }
     ],
     "prompt_number": 1
    },
    {
     "cell_type": "code",
     "collapsed": false,
     "input": [
      "epochs = 100 \n",
      "spikeMiliseconds = 100\n",
      "spikeInterval = spikeMiliseconds * ms\n",
      "spikeIntervalUnformatted = spikeMiliseconds * .001\n",
      "dictionaryLongitude = 4\n",
      "spikesPerChar=3\n",
      "firstLayerSize = 15\n",
      "\n",
      "dictionary = dictionary()\n",
      "spiketimes = dictionary.spikeTimes(dictionaryLongitude, spikeInterval, spikesPerChar, epochs)\n",
      "LIK = SpikeGeneratorGroup(firstLayerSize, spiketimes)\n",
      "\n",
      "taum = 20 * ms\n",
      "taue = 1 * ms\n",
      "taui = 10 * ms\n",
      "Vt = 5 * mV\n",
      "Vr = 0 * mV\n",
      "\n",
      "eqs = Equations('''\n",
      "\t  dV/dt  = (-V+ge-gi)/taum : volt\n",
      "\t  dge/dt = -ge/taue        : volt\n",
      "\t  dgi/dt = -gi/taui        : volt\n",
      "\t  ''')\n",
      "ADDS = NeuronGroup(N=4, model=eqs,threshold=Vt, reset=Vr)\n",
      "\n",
      "exhitatory = Connection(LIK, ADDS , 'ge',delay=10*ms,structure='dense')\n",
      "Wexhitatory = np.random.uniform(5,25,[15,4]) * mV\n",
      "exhitatory.connect(LIK,ADDS,Wexhitatory)\n",
      "Ap = 1 * mV\n",
      "Am = 1 * mV\n",
      "stdp=ExponentialSTDP(exhitatory,taue,taum,Ap,Am,wmax=50 * mV,interactions='all',update='additive')\n",
      "\n",
      "inhibitory = Connection(ADDS, ADDS , 'gi',delay=5*ms,structure='dense')\n",
      "#Connect adds layer via lateral inhibitory connections\n",
      "#the diagonal should be 0 to not auto-inhibate\n",
      "Winhibitory = np.random.uniform(0,5,[4,4]) * mV\n",
      "diagonal = np.diag_indices(Winhibitory.shape[0])\n",
      "Winhibitory[diagonal] = 0;\n",
      "\n",
      "inhibitory.connect(ADDS,ADDS,Winhibitory)\n",
      "\n",
      "spikeMonitor = SpikeMonitor(ADDS)\n",
      "Mv  = StateMonitor(ADDS, 'V', record=True)\n",
      "Mge = StateMonitor(ADDS, 'ge', record=True)\n",
      "Mgi = StateMonitor(ADDS, 'gi', record=True)\n",
      "\n",
      "weights_exitatory = []\n",
      "weights_inhibitory = []\n",
      "@network_operation\n",
      "def record_weights():\n",
      "    weights_exitatory.append(exhitatory.W)\n",
      "    weights_inhibitory.append(inhibitory.W)\n",
      "\n",
      "run(spikesPerChar * dictionaryLongitude * spikeInterval * epochs , report='text')"
     ],
     "language": "python",
     "metadata": {},
     "outputs": [
      {
       "output_type": "stream",
       "stream": "stdout",
       "text": [
        "5% complete, 10s elapsed, approximately 3m 9s remaining.\n"
       ]
      },
      {
       "output_type": "stream",
       "stream": "stdout",
       "text": [
        "9% complete, 20s elapsed, approximately 3m 2s remaining.\n"
       ]
      },
      {
       "output_type": "stream",
       "stream": "stdout",
       "text": [
        "15% complete, 30s elapsed, approximately 2m 49s remaining.\n"
       ]
      },
      {
       "output_type": "stream",
       "stream": "stdout",
       "text": [
        "20% complete, 40s elapsed, approximately 2m 38s remaining.\n"
       ]
      },
      {
       "output_type": "stream",
       "stream": "stdout",
       "text": [
        "25% complete, 50s elapsed, approximately 2m 27s remaining.\n"
       ]
      },
      {
       "output_type": "stream",
       "stream": "stdout",
       "text": [
        "30% complete, 1m 0s elapsed, approximately 2m 17s remaining.\n"
       ]
      },
      {
       "output_type": "stream",
       "stream": "stdout",
       "text": [
        "35% complete, 1m 10s elapsed, approximately 2m 7s remaining.\n"
       ]
      },
      {
       "output_type": "stream",
       "stream": "stdout",
       "text": [
        "40% complete, 1m 20s elapsed, approximately 1m 57s remaining.\n"
       ]
      },
      {
       "output_type": "stream",
       "stream": "stdout",
       "text": [
        "45% complete, 1m 30s elapsed, approximately 1m 46s remaining.\n"
       ]
      },
      {
       "output_type": "stream",
       "stream": "stdout",
       "text": [
        "55% complete, 1m 50s elapsed, approximately 1m 28s remaining.\n"
       ]
      },
      {
       "output_type": "stream",
       "stream": "stdout",
       "text": [
        "60% complete, 2m 0s elapsed, approximately 1m 18s remaining.\n"
       ]
      },
      {
       "output_type": "stream",
       "stream": "stdout",
       "text": [
        "65% complete, 2m 10s elapsed, approximately 1m 8s remaining.\n"
       ]
      },
      {
       "output_type": "stream",
       "stream": "stdout",
       "text": [
        "75% complete, 2m 30s elapsed, approximately 48s remaining.\n"
       ]
      },
      {
       "output_type": "stream",
       "stream": "stdout",
       "text": [
        "80% complete, 2m 40s elapsed, approximately 38s remaining.\n"
       ]
      },
      {
       "output_type": "stream",
       "stream": "stdout",
       "text": [
        "85% complete, 2m 50s elapsed, approximately 28s remaining.\n"
       ]
      },
      {
       "output_type": "stream",
       "stream": "stdout",
       "text": [
        "90% complete, 3m 0s elapsed, approximately 18s remaining.\n"
       ]
      },
      {
       "output_type": "stream",
       "stream": "stdout",
       "text": [
        "95% complete, 3m 10s elapsed, approximately 7s remaining.\n"
       ]
      },
      {
       "output_type": "stream",
       "stream": "stdout",
       "text": [
        "100% complete, 3m 17s elapsed, approximately 0s remaining.\n"
       ]
      }
     ],
     "prompt_number": 2
    },
    {
     "cell_type": "code",
     "collapsed": false,
     "input": [
      "import pickle\n",
      "def save_obj(obj, name ):\n",
      "    with open(name + '.pkl', 'wb') as f:\n",
      "        pickle.dump(obj, f, pickle.HIGHEST_PROTOCOL)\n",
      "\n",
      "spikes = spikeMonitor.spiketimes\n",
      "save_obj(spikes,'spikes')"
     ],
     "language": "python",
     "metadata": {},
     "outputs": [],
     "prompt_number": 14
    },
    {
     "cell_type": "code",
     "collapsed": false,
     "input": [
      "#We save all the important variables to files\n",
      "np.save('weights_exitatory.npy', np.asarray(weights_exitatory))\n",
      "np.save('weights_inhibitory.npy', np.asarray(weights_inhibitory))\n",
      "voltage = Mv[:]\n",
      "np.save('voltage.npy',voltage)\n",
      "time = Mv.times\n",
      "np.save('time.npy',time)\n"
     ],
     "language": "python",
     "metadata": {},
     "outputs": [],
     "prompt_number": 8
    },
    {
     "cell_type": "markdown",
     "metadata": {},
     "source": [
      "If you want to see the analysis of this simulation click [here](analysis.ipynb).\n",
      "\n",
      "Remember to shutdown this notebook to release memory"
     ]
    }
   ],
   "metadata": {}
  }
 ]
}