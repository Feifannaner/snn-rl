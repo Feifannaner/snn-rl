{
 "metadata": {
  "name": "",
  "signature": "sha256:6133dd4b02e06bc8ff47695a7b0533cbd5d4d3c44b2d1bcffc14dab85c4fff21"
 },
 "nbformat": 3,
 "nbformat_minor": 0,
 "worksheets": [
  {
   "cells": [
    {
     "cell_type": "code",
     "collapsed": false,
     "input": [
      "from dictionary import *\n",
      "from report_results_and_logging import *\n",
      "import numpy as np\n",
      "from sympy import * # used for differentiation\n",
      "import math # used for natural log\n",
      "#from random import random # for random gen\n",
      "from decimal import Decimal # Used for results reporting calculations\n",
      "from brian2 import *\n",
      "\n",
      "epochs = 100 \n",
      "spikeMiliseconds = 100\n",
      "spikeInterval = spikeMiliseconds * ms\n",
      "spikeIntervalUnformatted = spikeMiliseconds * .001\n",
      "dictionaryLongitude = 4\n",
      "spikesPerChar=3\n",
      "totalTime = epochs * spikesPerChar * dictionaryLongitude * spikeInterval \n",
      "epochsToPrint = [0,1,2,25,50,75]\n",
      "presentResults = False\n",
      "logger = False\n",
      "displayAllNeuronMemPotentials = False\n",
      "\n",
      "taum = 20 * ms\n",
      "taue = 1 * ms\n",
      "taui = 10 * ms\n",
      "Vt = 5 * mV\n",
      "Vr = -0.001 * mV\n",
      "\n",
      "Rm = 80\n",
      "## added tauS constant below ##\n",
      "tauS = 2\n",
      "tauMax = 30\n",
      "tauMin = 2\n",
      "#tauM = 30 * ms # appears different than taum above due to the article specifying this as 30\n",
      "tauM = .03 # removed ms for compatibility\n",
      "\n",
      "SimulationDuration = 10000\n",
      "epochMsDuration = (SimulationDuration / epochs) * 10 # Times 10 is to adjust to Ms scale\n",
      "\n",
      "numberOfPixels = 15\n",
      "#neuronFiringThreshold = 10 * mV\n",
      "neuronFiringThreshold = 10 # removed mV for compatibility\n",
      "W = np.random.uniform(0.5,1.0,[4,15]) # Initial weights\n",
      "# none to 1 below\n",
      "numberOfNeurons = 4\n",
      "R = [[1] * numberOfPixels]*dictionaryLongitude # Initial Resistance Values\n",
      "testR = [[1] * numberOfPixels]*dictionaryLongitude # Initial Resistance Values\n",
      "## Added 1 init below but I don't really know what the right init value is\n",
      "#Id = [[-.001] * numberOfPixels]*dictionaryLongitude # Initial Dendritic Post Synaptic Current\n",
      "Id = [[0] * numberOfPixels]*dictionaryLongitude # Initial Dendritic Post Synaptic Current\n",
      "testId = [[-.001] * numberOfPixels]*dictionaryLongitude # Initial Dendritic Post Synaptic Current\n",
      "## Added 1 init below but I don't really know what the right init value is\n",
      "tauD = [[1] * numberOfPixels]*dictionaryLongitude # Initial tauD\n",
      "testTauD = [[1] * numberOfPixels]*dictionaryLongitude # Initial tauD\n",
      "tF = [[None] * numberOfPixels]*dictionaryLongitude # Initial pre-synaptic spike times\n",
      "\n",
      "Is = [-.001] * dictionaryLongitude\n",
      "Um = [-.001] * dictionaryLongitude\n",
      "testUm = [-.001] * dictionaryLongitude\n",
      "\n",
      "Ureset = -.001\n",
      "#Ureset = 0\n",
      "\n",
      "APlus = 0.1\n",
      "AMinus = -0.105\n",
      "TauPlus = 1\n",
      "TauMinus = 1\n",
      "LearningRate = 0.1\n",
      "ActionPotentialThreshold = .01"
     ],
     "language": "python",
     "metadata": {},
     "outputs": [
      {
       "output_type": "stream",
       "stream": "stderr",
       "text": [
        "C:\\Python27\\lib\\site-packages\\brian\\utils\\sparse_patch\\__init__.py:39: UserWarning: Couldn't find matching sparse matrix patch for scipy version 0.14.0, but in most cases this shouldn't be a problem.\n",
        "  warnings.warn(\"Couldn't find matching sparse matrix patch for scipy version %s, but in most cases this shouldn't be a problem.\" % scipy.__version__)\n"
       ]
      }
     ],
     "prompt_number": 1
    },
    {
     "cell_type": "code",
     "collapsed": false,
     "input": [
      "import io\n",
      "from IPython.nbformat import current\n",
      "\n",
      "def execute_notebook(nbfile):\n",
      "    \n",
      "    with io.open(nbfile) as f:\n",
      "        nb = current.read(f, 'json')\n",
      "    \n",
      "    ip = get_ipython()\n",
      "    \n",
      "    for cell in nb.worksheets[0].cells:\n",
      "        if cell.cell_type != 'code':\n",
      "            continue\n",
      "        ip.run_cell(cell.input)\n",
      "        \n",
      "execute_notebook(\"commonFurtherFormulas.ipynb\")"
     ],
     "language": "python",
     "metadata": {},
     "outputs": [
      {
       "output_type": "stream",
       "stream": "stdout",
       "text": [
        "Sat Jan 17 17:11:50 2015\n"
       ]
      }
     ],
     "prompt_number": 2
    },
    {
     "cell_type": "code",
     "collapsed": false,
     "input": [
      "from architecture_further_formulas import *\n",
      "\n",
      "class gupta_paper:\n",
      "\tdictionary = dictionary()\n",
      "\tspiketimes = dictionary.spikeTimes(dictionaryLongitude, spikeInterval, spikesPerChar, epochs)\n",
      "\ttestSpiketimes = spiketimes\n",
      "\tLIK = SpikeGeneratorGroup(N=15, indices=spiketimes[:,0], times=spiketimes[:,1]*ms)\n",
      "\tneuronIndex = 0\n",
      "\tt = 0.0000\n",
      "\tSummedDendriteGroup = 0;\n",
      "\tSynapseToSoma = 0;\n",
      "\tSigmaWDSyn = .0375 * mV\n",
      "\tSigmaWDSynMod = .5\n",
      "\tRmEq = Rm #Rm * mV\n",
      "\tDendR = .0375 * mV\n",
      "\tDendW = 1\n",
      "\tDendDirac = 1\t\n",
      "\t# tauD and R lines below are to avoid an odd 'reference before assignment' error\n",
      "\ttauD = tauD\n",
      "\ttestTauD = testTauD\n",
      "\tR = R\n",
      "\ttestR = testR\n",
      "\ttauM = tauM\n",
      "\tlastSpikeInterval = 0.0\n",
      "\tcurrentEpoch = 0\n",
      "\trefractoryPointCounter = 0.0\n",
      "\trefractoryPointSwitch = False\n",
      "\tneuronIndexCounter = 0.0\n",
      "\tneuronIndexSwitch = False\n",
      "\ttiming = []\n",
      "\ttruePositiveSpikeResults = 0\n",
      "\tfalsePositiveSpikeResults = 0\n",
      "\ttrueNegativeSpikeResults = 0\n",
      "\tfalseNegativeSpikeResults = 0\n",
      "\ttotalSpikeIntervals = 12\t\n",
      "\ttestSpikesFiredInInterval = np.array([[False]*(totalSpikeIntervals+1)]*dictionaryLongitude)\n",
      "\tIdSpikeFired = np.array([[False]*numberOfPixels]*dictionaryLongitude); \n",
      "\ttestIdSpikeFired = np.array([[False]*numberOfPixels]*dictionaryLongitude); \n",
      "\tIsSpikeFired = np.array([False]*dictionaryLongitude); \n",
      "\ttestIsSpikeFired = np.array([False]*dictionaryLongitude);\t\n",
      "\tUmSpikeFired = np.array([False]*dictionaryLongitude); \n",
      "\ttestUmSpikeFired = np.array([False]*dictionaryLongitude); \n",
      "\tIdRefractoryPeriod = np.array([[False]*numberOfPixels]*dictionaryLongitude); \n",
      "\ttestIdRefractoryPeriod = np.array([[False]*numberOfPixels]*dictionaryLongitude); \n",
      "\tIsRefractoryPeriod = np.array([False]*dictionaryLongitude); \n",
      "\ttestIsRefractoryPeriod = np.array([False]*dictionaryLongitude); \n",
      "\tUmRefractoryPeriod = np.array([False]*dictionaryLongitude); \n",
      "\ttestUmRefractoryPeriod = np.array([False]*dictionaryLongitude); \n",
      "\trefractoryGraphingSwitch = False\n",
      "\n",
      "\tcorrectSpikes = np.array([[1]*totalSpikeIntervals]*dictionaryLongitude);#[[1] * totalSpikeIntervals]*dictionaryLongitude\n",
      "\tcorrectSpikes[0][3:12] = 0\n",
      "\tcorrectSpikes[1][0:3] = 0\n",
      "\tcorrectSpikes[1][6:12] = 0\n",
      "\tcorrectSpikes[2][0:6] = 0\n",
      "\tcorrectSpikes[2][9:12] = 0\n",
      "\tcorrectSpikes[3][0:9] = 0\n",
      "    \n",
      "\tM = None\n",
      "\ttestM = None\n",
      "\tUmM3 = None\n",
      "\ttestUmM3 = None\n",
      "\n",
      "\tprint 'initial Weights\\n',W\n",
      "\n",
      "\tdef run_model(self):\n",
      "\t\t\n",
      "\t\tdictionary = self.dictionary\n",
      "\t\tspiketimes = self.spiketimes\n",
      "\t\teqs = Equations('''\n",
      "\t\t\tdv/dt = (-v+((RmZ/volt)*(IdVZ)))/(tauMZ) : volt (unless refractory)\n",
      "\t\t\tRmZ = 80*mV : volt\n",
      "\t\t\ttauMZ = 30*ms : second\n",
      "\t\t\tIdVZ : volt\n",
      "\t        V : volt\n",
      "\t        DendI : volt\n",
      "\t        SynI : volt\n",
      "\t        v2 : volt\t\t\t\n",
      "\t\t    ''')\t\t\t\n",
      "\n",
      "\t\tdirectToSomaEqs = Equations('''\n",
      "\t\t\tdv/dt = (-v+summedWandIDirac)/(tauMZ) : volt (unless refractory)\n",
      "\t\t\ttauMZ = 30*ms : second\n",
      "\t\t\tIdVZ : volt\n",
      "\t        V : volt\n",
      "\t        DendI : volt\n",
      "\t        SynI : volt\n",
      "\t        v2 : volt\n",
      "\t\t\t''')\n",
      "\n",
      "\t\ttestEqs = Equations('''\n",
      "\t\t\tdvTest/dt = (-vTest+((RmTest/volt)*(IdVTest)))/(tauMTest) : volt (unless refractory)\n",
      "\t\t\tRmTest = 80*mV : volt\n",
      "\t\t\ttauMTest = 30*ms : second\n",
      "\t\t\tIdVTest : volt\n",
      "\t        VTest : volt\n",
      "\t        DendITest : volt\n",
      "\t        SynITest : volt\n",
      "\t        v2Test : volt\n",
      "\t        testUmSpikeFired : boolean\t\t\n",
      "\t\t    ''')\t\t\t\n",
      "\n",
      "\n",
      "\n",
      "\t\tmyclock=Clock(dt=1*ms)\n",
      "\t\ttestMyclock=Clock(dt=1*ms)\n",
      "\n",
      "\t\tADDS = NeuronGroup(N=4, model=eqs,threshold='v>.01*mV', reset='v=-0.002 * mV; dv=0; IdVZ = 0*mV;v2=10*mV',refractory=10*ms,clock=myclock)\n",
      "\t\ttestADDS = NeuronGroup(N=4, model=testEqs,threshold='vTest>.01*mV', reset='vTest=-0.002 * mV; dvTest=0; IdVZTest = 0*mV;v2Test=10*mV;testUmSpikeFired=True',refractory=10*ms,clock=testMyclock)\n",
      "\n",
      "\t\tdef returnUm(self):\n",
      "\t\t\t# Main logic of the neuron simulation model is performed here\n",
      "\t\t\t# Modules are performed below resulting in voltage for the neurons being calculated\n",
      "\n",
      "\t\t\tdictionary = self.dictionary\n",
      "\t\t\tneuronIndex = self.neuronIndex\n",
      "\t\t\tt = self.t\n",
      "\t\t\ttNorm = t - (floor(t/spikeIntervalUnformatted) * spikeIntervalUnformatted) \n",
      "\t\t\tspiketimes = self.spiketimes\n",
      "\t\t\t\n",
      "\t\t\t# Calculate tauD\n",
      "\t\t\ttauD = self.tauD\n",
      "\t\t\ttauD = tauDCalc(neuronIndex, tauD, W)\n",
      "\t\t\t#print 'main calc tauDCalc()', tauD\n",
      "\n",
      "\t\t\t# Calculate resistance\n",
      "\t\t\tR = self.R\n",
      "\t\t\tR = resistanceCalc(neuronIndex, tauD, R)\n",
      "\t\t\t#print 'main calc resistanceCalc()', R\n",
      "\n",
      "\t\t\t#Dedritic total post-synaptic current\n",
      "\t\t\tId[neuronIndex], self.IdSpikeFired[neuronIndex], self.IdRefractoryPeriod[neuronIndex] = dentritePostSynapticCurrent(neuronIndex, Id, self.IdSpikeFired, self.IdRefractoryPeriod, R, W, spiketimes)\n",
      "\t\t\t#print 'neuronIndex',neuronIndex,'self.t',self.t,'ADDS.t',ADDS.t,'Id[neuronIndex]',Id[neuronIndex]\n",
      "\t\t\t# Direct to soma \n",
      "\n",
      "\t\t\t### Soma membrane potential ###\n",
      "\t\t\tADDS.IdVZ[neuronIndex] = totalSomaMembranePotential(neuronIndex, Id, Is, tNorm)\n",
      "\n",
      "\t\t\t# Refractory and spike evaluation: Is\n",
      "\t\t\tIs[neuronIndex], self.IsSpikeFired[neuronIndex], self.IsRefractoryPeriod[neuronIndex] = refractoryPeriodEvaluation(Is[neuronIndex], self.IsSpikeFired[neuronIndex], self.IsRefractoryPeriod[neuronIndex])\n",
      "\t\t\tIs[neuronIndex], self.IsSpikeFired[neuronIndex], self.IsRefractoryPeriod[neuronIndex] = spikeFiredEvaluation(Is[neuronIndex], self.IsSpikeFired[neuronIndex], self.IsRefractoryPeriod[neuronIndex])\t\t\t\n",
      "\n",
      "\t\t\ttimePeriodAndRefractoryCalcs()\n",
      "\n",
      "\t\t\treturn Um[neuronIndex] * mV;\t\n",
      "\n",
      "\t\tdef refractoryPeriodEvaluation(Voltage, SpikeFired, RefractoryPeriod):\n",
      "\t\t\t# Check for spike\n",
      "\t\t\t# when identifying a spike, refractoryPeriodEndPoint is used as an alternative condition to refractoryPeriod being\n",
      "\t\t\t# over to allow a spike right at that end point\n",
      "\n",
      "\t\t\t# Refractory period\n",
      "\t\t\t#refractoryPeriodEndPoint = (self.t - 0.001) % spikeIntervalUnformatted <= 0.00001\t\t\t\n",
      "\t\t\tif SpikeFired == True and self.refractoryPointSwitch == False:\n",
      "\t\t\t\tRefractoryPeriod = True\n",
      "\t\t\t\t#print 'refrac activated!'\n",
      "\t\t\telif RefractoryPeriod == True and self.refractoryPointSwitch == True:\n",
      "\t\t\t\t# 0.001 added above for time step compatibility.   0.00001 instead of 0.0 used for some kind of \n",
      "\t\t\t\t# modulo computational result offset in python which was producing a value from the modulo calc\n",
      "\t\t\t\t# just slightly over 0\n",
      "\t\t\t\tRefractoryPeriod = False\n",
      "\t\t\t\t#print 'refrac over!'\n",
      "\t\t\t#print 'self.refractoryPeriod == True and refractoryPeriodEndPoint', self.refractoryPeriod == True, refractoryPeriodEndPoint, (self.refractoryPeriod == True and refractoryPeriodEndPoint), self.t % (spikeIntervalUnformatted + 0.001) <= 0.00001\n",
      "\t\t\tif RefractoryPeriod == True:\n",
      "\t\t\t\tVoltage = Ureset\t\t\t\n",
      "\n",
      "\t\t\treturn [Voltage, SpikeFired, RefractoryPeriod]\n",
      "\n",
      "\t\tdef spikeFiredEvaluation(Voltage, SpikeFired, RefractoryPeriod):\t\t\t\n",
      "\t\t\t# Spike firing detection positioned here to allow Ureset value to occur on next timestep.\n",
      "\t\t\t# This allows spike to be recorded in plot instead of value immediately going to Ureset.\n",
      "\t\t\tSpikeFired = False\n",
      "\t\t\tif Voltage >= ActionPotentialThreshold and (RefractoryPeriod == False or refractoryPeriodEndPoint):\n",
      "\t\t\t\t#Um[neuronIndex] = Ureset\n",
      "\t\t\t\t#print 'Voltage',Voltage\n",
      "\t\t\t\tSpikeFired = True\t\n",
      "\n",
      "\t\t\treturn [Voltage, SpikeFired, RefractoryPeriod]\n",
      "\n",
      "\t\tdef dentritePostSynapticCurrent(neuronIndex, IDend, IDendSpikes, IDendRefract, R, W, spiketimes):\n",
      "\t\t\t# Solving for Idend in the formula in the article yeilded the below equation\n",
      "\t\t\tt = self.t\n",
      "\t\t\te = math.e\n",
      "\t\t\t#print ':::range(len(IDend[neuronIndex][:])\\t','self.t\\t',self.t,'\\tneuronIndex\\t',neuronIndex,'\\t',IDend,'\\t',IDend[neuronIndex]\n",
      "\n",
      "\t\t\tfor IdIndex in range(len(IDend[neuronIndex][:])):\n",
      "\t\t\t\ttauDen = tauD[neuronIndex][IdIndex]\n",
      "\t\t\t\tr = R[neuronIndex][IdIndex]\n",
      "\t\t\t\tw = W[neuronIndex][IdIndex]\n",
      "\n",
      "\t\t\t\t# set tpresyn initially too far to trigger dirac\n",
      "\t\t\t\t#tPreSyn = -t - 1\n",
      "\t\t\t\ttPreSyn = t + 1\n",
      "\t\t\t\tfor presynInd in range(shape(spiketimes)[0]):\n",
      "\t\t\t\t\tcomparedSpikeTime = spiketimes[presynInd][1]\n",
      "\t\t\t\t\t#print 'comparedSpikeTime:::\\t',comparedSpikeTime,'\\t::self.lastSpikeInterval\\t',self.lastSpikeInterval\n",
      "\t\t\t\t\t'''# spikeIntervalUnformatted included below to have offset where skiping input starting at .1 becomes 0.0, representing input spikes right from\n",
      "\t\t\t\t\t# 0.0 to 300 ms, as the input is intended\n",
      "\t\t\t\t\t# changed <= to < below to see if that works better\n",
      "\t\t\t\t\tif spiketimes[presynInd][0] == IdIndex and (comparedSpikeTime-spikeIntervalUnformatted) < t:'''\n",
      "\t\t\t\t\t# checking prior interval for a spike.  This looks for a spike in the prior spike time interval \n",
      "\t\t\t\t\t#if spiketimes[presynInd][0] == IdIndex and comparedSpikeTime > (self.lastSpikeInterval - spikeIntervalUnformatted):\n",
      "\t\t\t\t\t#print 'self.t',self.t,'neuronIndex',neuronIndex,'spiketimes[presynInd][0]',spiketimes[presynInd][0],'comparedSpikeTime',comparedSpikeTime#,'self.lastSpikeInterval',self.lastSpikeInterval,'spikeIntervalUnformatted',spikeIntervalUnformatted,'IdIndex',IdIndex,'spiketimes[presynInd][0]',spiketimes[presynInd][0]\n",
      "\t\t\t\t\tif spiketimes[presynInd][0] == IdIndex and comparedSpikeTime >= (self.lastSpikeInterval - spikeIntervalUnformatted) and comparedSpikeTime <= self.lastSpikeInterval:\n",
      "\t\t\t\t\t\ttPreSyn = comparedSpikeTime\n",
      "\n",
      "\t\t\t\t\t# this is true? -> commented out logic below due to spiketimes perhaps not being in sorted order, a relevant entry could occur after an irrelevant one\n",
      "\t\t\t\t\t#if (comparedSpikeTime-spikeIntervalUnformatted) > t:\n",
      "\t\t\t\t\t# spike times are in order of earliest to latest times grouped with input pixel number.  therefore the below cutoff in the loop is fine.\n",
      "\t\t\t\t\tif comparedSpikeTime > self.lastSpikeInterval:\n",
      "\t\t\t\t\t\tbreak\n",
      "\n",
      "\t\t\t\t#print 'tPreSyn000:',tPreSyn\n",
      "\t\t\t\tId2 = IDend[neuronIndex][IdIndex]\n",
      "\t\t\t\tDt = t - tPreSyn\n",
      "\t\t\t\t# self.t == lines below are a workaround for initialization values\n",
      "\t\t\t\tif self.t == 0.121 or self.t == 0.421 or self.t == 0.721 or self.t == 1.021:\n",
      "\t\t\t\t\tDt = 1.0\n",
      "\t\t\t\t# dirac function helps allow or disallow signal to be sent from input neurons through dendrite nodes or not\n",
      "\t\t\t\t# converted Dt to units which seem to make more sense for dirac function used, not sure if right to do that\n",
      "\t\t\t\t# though\n",
      "\t\t\t\t# simplify dirac for testing\n",
      "\t\t\t\t#DiracFun = 0\n",
      "\t\t\t\tDiracFun = 1/Dt\n",
      "\n",
      "\t\t\t\t#SpikeModCoeff = (r*w*DiracFun)\n",
      "\n",
      "\t\t\t\t# dirac test\n",
      "\t\t\t\t# t in dirac forumula means curent time or last spike time?\t\t\n",
      "\t\t\t\t#if (t > -(Dt/2) and t < (Dt/2)):\n",
      "\t\t\t\t#if Dt <= spikeIntervalUnformatted:\n",
      "\t\t\t\tSpikeModCoeff = (r*w)\n",
      "\t\t\t\t\n",
      "\t\t\t\t#print '***ni:\\t',neuronIndex,'\\tIdIndex\\t',IdIndex,'\\t***w:\\t',w\n",
      "\n",
      "\t\t\t\t# correct for scaling\n",
      "\t\t\t\ttauDen = tauDen * .001\n",
      "\t\t\t\t\n",
      "\t\t\t\t# normalize t to count just time within spike interval.  Formula from article just uses t in a way\n",
      "\t\t\t\t# relative to the spike interval it seems and therefore that approach is applied to the formula here.\t\n",
      "\t\t\t\ttNorm = t - (floor(t/spikeIntervalUnformatted) * spikeIntervalUnformatted) \n",
      "\t\t\t\t#if -Dt/2<(tNorm or t?)<Dt/2:\n",
      "\t\t\t\t#if Dt <= 0.0:\n",
      "\t\t\t\tif Dt >= 0.0:\n",
      "\t\t\t\t\tif self.t == 0.121 or self.t == 0.421 or self.t == 0.721 or self.t == 1.021:\n",
      "\t\t\t\t\t\tDiracFun = 1.00\n",
      "\t\t\t\t\t#SpikeModCoeff = .011\n",
      "\t\t\t\t\t#DiracFun = 0.66\n",
      "\t\t\t\t\tSpikeModCoeff = (SpikeModCoeff*DiracFun)\n",
      "\t\t\t\t\t#tauDen = .03\t\n",
      "\t\t\t\t\tIDend[neuronIndex][IdIndex] = -(SpikeModCoeff - Id2) * (e ** (-tNorm/tauDen)) + SpikeModCoeff\n",
      "\t\t\t\t\t#print 'IDend2:\\t',self.t,neuronIndex,IDend[neuronIndex]\n",
      "\t\t\t\telse:\n",
      "\t\t\t\t\tDiracFun = 0\n",
      "\t\t\t\t\tSpikeModCoeff = (SpikeModCoeff*DiracFun)\t\t\t\t\t\t\t\t\t\t\t\t\t\t\t\n",
      "\t\t\t\t\tIDend[neuronIndex][IdIndex] = -(SpikeModCoeff - Id2) * (e ** (-tNorm/tauDen)) + SpikeModCoeff\n",
      "\t\t\t\t\t#print 'IDend2:\\t',self.t,neuronIndex,IDend[neuronIndex]\n",
      "\t\t\t\t\n",
      "\t\t\t\t#print 'part1: \\t',IDend\n",
      "\t\t\t\t#print 'factors\\tSpikeModCoeff\\t',SpikeModCoeff,'self.t',self.t,'neuronIndex',neuronIndex,'\\tId2\\t',Id2,'\\ttPreSyn\\t',tPreSyn,'\\tDiracFun\\t',DiracFun,'Dt <= 0.0',(Dt <= 0.0),'Dt',Dt,'\\tneuronIndex\\t',neuronIndex,'\\tIdIndex\\t',IdIndex,'-(SpikeModCoeff - Id2)',-(SpikeModCoeff - Id2),'-(SpikeModCoeff - Id2) * (e ** (-tNorm/tauDen))',-(SpikeModCoeff - Id2) * (e ** (-tNorm/tauDen))\n",
      "\n",
      "\t\t\t\t# Refractory and spike evaluation: Id\n",
      "\t\t\t\t#print 'part2: \\t',refractResults\n",
      "\t\t\t\t#spikeEvalResults = spikeFiredEvaluation(refractResults[0], refractResults[1], refractResults[2])\n",
      "\t\t\t\t#print 'part3: \\t',spikeEvalResults\n",
      "\t\t\t\tspikeEvalResults = IDend[neuronIndex][IdIndex], IDendSpikes[neuronIndex][IdIndex], IDendRefract[neuronIndex][IdIndex]\n",
      "\t\t\t\tif self.t > (self.lastSpikeInterval+0.02):\n",
      "\t\t\t\t\trefractResults = refractoryPeriodEvaluation(IDend[neuronIndex][IdIndex], IDendSpikes[neuronIndex][IdIndex], IDendRefract[neuronIndex][IdIndex])\n",
      "\t\t\t\t\tspikeEvalResults = spikeFiredEvaluation(refractResults[0], refractResults[1], refractResults[2])\n",
      "\t\t\t\t\n",
      "\t\t\t\tIDend[neuronIndex][IdIndex] = spikeEvalResults[0]\n",
      "\t\t\t\t#print 'IDend3:\\t',self.t,neuronIndex,IDend[neuronIndex]\n",
      "\t\t\t\tIDendSpikes[neuronIndex][IdIndex] = spikeEvalResults[1]\n",
      "\t\t\t\tIDendRefract[neuronIndex][IdIndex] = spikeEvalResults[2]\n",
      "\n",
      "\t\t\t\t#print 'part1_2: \\t', IDend\n",
      "\t\t\t\t\n",
      "\t\t\treturn [IDend[neuronIndex], IDendSpikes[neuronIndex], IDendRefract[neuronIndex]]\n",
      "\n",
      "\t\tdef somaPostSynapticCurrent(neuronIndex, ISoma, ISomaSpikes, ISomaRefract, R, W, spiketimes):\n",
      "\t\t\t'''### Synapse directly to soma ###\n",
      "\t\t\t# Solving for Id in the formula in the article yeilded the below equation\n",
      "\t\t\t# To calculate the DiracWeightedSum the spike times with the dirac function applied are multipled by the synapse weight \n",
      "\t\t\t# and summed then divided by the number of synapses for the neuron \n",
      "\t\t\tDiracWeightedSum = 0\n",
      "\t\t\tfor DiracIndex in range(len(Is)):\n",
      "\t\t\t\t#tPreSyn = spiketimes[DiracIndex + (neuronIndex * len(Is))][0]\n",
      "\t\t\t\ttPreSyn = spiketimes[DiracIndex + (neuronIndex * len(Is)) + (self.currentEpoch*(dictionaryLongitude*numberOfPixels))][0]\n",
      "\t\t\t\tDt = t - tPreSyn\n",
      "\t\t\t\tDiracFun = 1/Dt\n",
      "\t\t\t\t# dirac test  # TODO: not sure dirac is implemented correctly here\n",
      "\t\t\t\tif (t > -(Dt/2) and t < (Dt/2)):\n",
      "\t\t\t\t\tDiracFunctionWithSpikeTimes = DiracFun # (-t+tPreSyn)/tauDen\n",
      "\t\t\t\telse:\n",
      "\t\t\t\t\tDiracFunctionWithSpikeTimes = 0\n",
      "\t\t\t\tDiracWeightedSum = DiracWeightedSum + W[neuronIndex][WIndex] * DiracFunctionWithSpikeTimes\n",
      "\t\t\tDiracWeightedSum = DiracWeightedSum / len(Id)\n",
      "\n",
      "\t\t\tIs2 = Is[neuronIndex]\n",
      "\n",
      "\t\t\t#Is[neuronIndex] = -(DiracWeightedSum - Is2) * (e ** (-t/tauS)) + DiracWeightedSum\n",
      "\t\t\tIs[neuronIndex] = -(DiracWeightedSum - Is2) * (e ** (-tNorm/tauS)) + DiracWeightedSum'''\n",
      "\n",
      "\t\t\treturn ['stub', 'stub', 'stub']\n",
      "\n",
      "\t\tdef totalSomaMembranePotential(neuronIndex, IDend, ISoma, tNorm):\n",
      "\t\t\t### Soma membrane potential.  Now this method is just used for dendrite synapse output aggregation ###\n",
      "\t\t\tSummedDendriteGroup = sum(IDend[neuronIndex])*volt*10#*10 added 12/29/14 for scaling adjustment test # * 1 # the * 1000 is for a scaling adjustment\n",
      "\t\t\t# below removed until later needed\n",
      "\t\t\t#SynapseToSoma = ISoma[neuronIndex]\n",
      "\t\t\t#print 'self.epochIndex\\t',self.epochIndex,'\\tneuronIndex\\t',neuronIndex,'\\tSummedDendriteGroup\\t',SummedDendriteGroup,'\\tIDend\\t',IDend\n",
      "\t\t\treturn SummedDendriteGroup\n",
      "\n",
      "\t\tdef WeightChangeCalculation():\n",
      "\t\t\tfor inputNeuronIndex in range(numberOfPixels):\n",
      "\t\t\t\t## General STDP learning rule implementation ##\n",
      "\t\t\t\t# Find SpikePreSyn if it exists\n",
      "\t\t\t\t# Note: could replace this with use of dictionary data structure for lookups if convenient\n",
      "\t\t\t\t# for processing time later\n",
      "\n",
      "\t\t\t\t# SpikePreSyn not found than make it max distance from SpikePostSyn\n",
      "\t\t\t\t# TODO SpikePreSyn = 0.1 # (Max spike time interval distance)\n",
      "\t\t\t\t# round up to nearest 100ms interval\n",
      "\t\t\t\tSpikePreSyn = (math.ceil(self.t*10)*.1)*second\n",
      "\t\t\t\t# SpikePostSyn not found than make it max distance from SpikePreSyn\n",
      "\t\t\t\t# TODO SpikePostSyn = 0.0\n",
      "\t\t\t\t#SpikePostSyn = 0*ms\n",
      "\t\t\t\tSpikePostSyn = (math.floor(self.t*10)*.1)*second\n",
      "\n",
      "\t\t\t\tpreSynSpikeFound = False\n",
      "\t\t\t\tpostSynSpikeFound = False\n",
      "\n",
      "\t\t\t\tspikeCollection = spiketimes\n",
      "\t\t\t\tNumberOfSpikes = shape(spikeCollection)[0]\n",
      "\t\t\t\tfor i in range(NumberOfSpikes):\n",
      "\t\t\t\t\tCurrentSpikeNueron = spikeCollection[i][0]\n",
      "\t\t\t\t\tCurrentSpikeTime = spikeCollection[i][1]*second\n",
      "\n",
      "\t\t\t\t\t# exit loop once values below current time elapsed have all been checked\n",
      "\t\t\t\t\tif CurrentSpikeTime > (self.t*second):\n",
      "\t\t\t\t\t\t#print 'eeww1:\\tspiketimes\\t',spiketimes,'\\tqq\\t',CurrentSpikeTime\n",
      "\t\t\t\t\t\tbreak\n",
      "\n",
      "\t\t\t\t\t# (self.t*second-.1*second) is to check if in relevant time window below.\n",
      "\t\t\t\t\t# Note: that may not be a good cut off and I should check it\n",
      "\t\t\t\t\t# added < self.t just for testing\n",
      "\t\t\t\t\tif CurrentSpikeNueron == inputNeuronIndex and CurrentSpikeTime > (self.t*second-.1*second):# and CurrentSpikeTime < (self.t*second):\n",
      "\t\t\t\t\t\tSpikePreSyn = CurrentSpikeTime\n",
      "\t\t\t\t\t\tpreSynSpikeFound = True\n",
      "\n",
      "\t\t\t\t# Find SpikePostSyn if exists\n",
      "\t\t\t\t#spikeCollection = M.spikes\n",
      "\t\t\t\tspikeCollection = M.it\n",
      "\t\t\t\t#print 'spikeCollection',spikeCollection\n",
      "\t\t\t\t#print 'spikeCollection', spikeCollection\n",
      "\t\t\t\tNumberOfSpikes = len(spikeCollection[0])\n",
      "\t\t\t\tfor i in range(NumberOfSpikes):\n",
      "\t\t\t\t\t#CurrentSpikeNueron = spikeCollection[i][0]\n",
      "\t\t\t\t\t#CurrentSpikeTime = spikeCollection[i][1]*1000\n",
      "\t\t\t\t\tCurrentSpikeNueron = spikeCollection[0][i]\n",
      "\t\t\t\t\t#CurrentSpikeTime = spikeCollection[1][i]*1000\n",
      "\t\t\t\t\tCurrentSpikeTime = spikeCollection[1][i]*10\n",
      "\t\t\t\t\t#print 'CurrentSpikeNueron',CurrentSpikeNueron,'CurrentSpikeTime',CurrentSpikeTime,'self.t*second',self.t*second\n",
      "\n",
      "\t\t\t\t\t# exit loop once values below current time elapsed have all been checked\n",
      "\t\t\t\t\t# Disabled due to spikeCollection not being sorted and causing break too early\n",
      "\t\t\t\t\t#if CurrentSpikeTime > (self.t*second):\n",
      "\t\t\t\t\t#\tbreak\n",
      "\n",
      "\t\t\t\t\t# (self.t*second-.1*second) is to check if in relevant time window below.\n",
      "\t\t\t\t\t# Note: that may not be a good cut off and I should check it\n",
      "\t\t\t\t\t# * Important difference: CurrentSpikeNueron is compared to self.neuronIndex and not inputNeuronIndex here\n",
      "\t\t\t\t\t# added (.1+.008)\n",
      "\t\t\t\t\tif CurrentSpikeNueron == self.neuronIndex and CurrentSpikeTime >= (self.t*second-(.1+.008)*second) and CurrentSpikeTime <= (self.t*second):\n",
      "\t\t\t\t\t\tSpikePostSyn = CurrentSpikeTime\t\n",
      "\t\t\t\t\t\tpostSynSpikeFound = True\t\n",
      "\n",
      "\t\t\t\tif preSynSpikeFound == False or postSynSpikeFound == False:\n",
      "\t\t\t\t\t# Todo: watch more for spikes in a relevant time frame but are actually from different synapses and would\n",
      "\t\t\t\t\t# give different results?  could cause unwanted results? brain would know synapse difference?\n",
      "\n",
      "\t\t\t\t\t## todo: currently included is logic for processing if SpikePostSyn or SpikePreSyn were not found?\n",
      "\n",
      "\t\t\t\t\tif preSynSpikeFound == False and postSynSpikeFound == True:\n",
      "\t\t\t\t\t\tSpikePreSyn = SpikePostSyn + .1*second\n",
      "\t\t\t\t\t\t#print 'F T'\n",
      "\t\t\t\t\telif preSynSpikeFound == True and postSynSpikeFound == False:\n",
      "\t\t\t\t\t\t# Note: does postSynSpikeFound need to be true for the weight to be allowed to increase?\n",
      "\t\t\t\t\t\tSpikePostSyn = SpikePreSyn - .1*second\n",
      "\t\t\t\t\t\t#print 'T F'\n",
      "\t\t\t\t\t#else:\n",
      "\t\t\t\t\t\t#print 'F F'\n",
      "\n",
      "\t\t\t\t#SpikePreSyn = 500*ms\n",
      "\t\t\t\t#SpikePostSyn = 700*ms\n",
      "\t\t\t\t#print 'neuronIndex', self.neuronIndex, 'inputNeuronIndex',inputNeuronIndex,'self.t', self.t, 'ADDS.v2',ADDS.v2, 'preSynSpikeFound',preSynSpikeFound,'postSynSpikeFound',postSynSpikeFound,'SpikePostSyn', SpikePostSyn, 'SpikePreSyn', SpikePreSyn\n",
      "\n",
      "\t\t\t\t# Find DeltaW\n",
      "\t\t\t\tDeltaW = returnDeltaW(SpikePreSyn, SpikePostSyn)  \n",
      "\n",
      "\t\t\t\t# Find new weight\n",
      "\t\t\t\tWOld = W[self.neuronIndex][inputNeuronIndex];\n",
      "\n",
      "\t\t\t\tW[self.neuronIndex][inputNeuronIndex] = returnNewW(WOld, DeltaW);\n",
      "\n",
      "\t\tdef returnDeltaW(SpikePreSyn, SpikePostSyn):\n",
      "\t\t\tDeltaSpikeTime = SpikePreSyn - SpikePostSyn\n",
      "\t\t\t# TODO: figure out if DeltaW = 0 is really fine for init value\n",
      "\t\t\tDeltaW = 0\n",
      "\t\t\t# changed below line from that content in the article for a workaround/temp fix\n",
      "\t\t\t#if DeltaSpikeTime < 0:\n",
      "\t\t\tif DeltaSpikeTime <= 0:\n",
      "\t\t\t\tDeltaW = APlus * (e ** (DeltaSpikeTime / (TauPlus*ms)))\n",
      "\t\t\t\t# for testing\n",
      "\t\t\t\tDeltaW = 1\n",
      "\t\t\telif DeltaSpikeTime > 0:\n",
      "\t\t\t\tDeltaW = AMinus * (e ** (-DeltaSpikeTime / (TauMinus*ms)))\t\n",
      "\t\t\t\t# for testing\n",
      "\t\t\t\tDeltaW = -1\n",
      "\n",
      "\t\t\t# testing\n",
      "\t\t\t#print 'self.t',self.t,'SpikePreSyn',SpikePreSyn,'SpikePostSyn',SpikePostSyn,'DeltaSpikeTime',DeltaSpikeTime,'DeltaW',DeltaW\n",
      "\t\t\t#if \t(t*ms) - SpikePreSyn > (1*ms):\n",
      "\t\t\t#\tDeltaW = .5\n",
      "\t\t\t#else:\n",
      "\t\t\t#\tDeltaW = -.5\t\t\t\t\n",
      "\n",
      "\t\t\treturn DeltaW\n",
      "\n",
      "\t\tdef returnNewW(WOld, DeltaW):\n",
      "\t\t\t# W is weight\n",
      "\t\t\tsynapseType = 'excitatory'\n",
      "\t\t\t# Default 'excitatory' values\n",
      "\t\t\tWMin = 0;\n",
      "\t\t\tWMax = 1;\n",
      "\t\t\tif synapseType == 'inhibitory':\n",
      "\t\t\t\tWMin = -1;\n",
      "\t\t\t\tWMax = 0;\t\t\n",
      "\t\t\t\t\n",
      "\t\t\t#print 'DeltaW', DeltaW\n",
      "\t\t\t## Relaxation rule implementation ##\n",
      "\t\t\tif DeltaW >= 0:\t\t\t\t\n",
      "\t\t\t\tWNew = WOld + (LearningRate * (DeltaW * (WMax - WOld)))\n",
      "\t\t\t\t\n",
      "\t\t\telif DeltaW < 0:\t\n",
      "\t\t\t\tWNew = WOld + (LearningRate * (DeltaW * (WOld - WMin)))\n",
      "\t\t\t#print 'WOld', WOld\n",
      "\t\t\t#print 'WNew', WNew\n",
      "\n",
      "\t\t\treturn WNew;\n",
      "\t\t\t##\t\t\t\n",
      "\n",
      "\t\tdef evaluateClassifier():\n",
      "\t\t\ttNorm = self.t - (floor(self.t/spikeIntervalUnformatted) * spikeIntervalUnformatted) \n",
      "\n",
      "\t\t\ttestR = [[1] * numberOfPixels]*dictionaryLongitude\n",
      "\t\t\t'''testW = [[1, 0, 1,0, 1, 0,0, 0, 0,0, 1, 0,0, 1, 0],\n",
      "\t\t\t[0, 0, 1,0, 1, 0,0, 0, 1,0, 1, 0,0, 0, 1],\n",
      "\t\t\t[0, 0, 0,0, 1, 1,0, 1, 1,0, 1, 1,0, 0, 0],\n",
      "\t\t\t[0, 0, 1,0, 1, 0,0, 1, 0,0, 1, 0,0, 0, 1]]'''\n",
      "\t\t\ttestW = [[ 0.69607004, 0.00413144, 0.91697601, 0.00360609, 0.91761815, 0.00445725, 0.00340361, 0.22605207, 0.0039314, 0.00451545, 0.91885474, 0.00333926, 0.00245632, 0.69608306, 0.22541202],\n",
      "\t\t\t[ 0.29794995, 0.0025975, 0.99158123, 0.00318387, 0.99296564, 0.00275211, 0.00305578, 0.0027208, 0.69734084, 0.00306026, 0.99202054, 0.00387052, 0.00440005, 0.29888318, 0.69716381],\n",
      "\t\t\t[ 0.0048261, 0.00419521, 0.33389914, 0.00392254, 0.96962399, 0.64231264, 0.00371715, 0.64278451, 0.97156676, 0.00332437, 0.96967301, 0.64113085, 0.00312674, 0.00290903, 0.33244029],\n",
      "\t\t\t[ 0.00562191, 0.00532413, 0.66298468, 0.00350251, 0.9567765, 0.29948389, 0.00621025, 0.9585158, 0.30201652, 0.00402158, 0.95678115, 0.30231021, 0.00520207, 0.00577489, 0.66244477]]\n",
      "\n",
      "\t\t\t# for each charactor input below test the classfication results\n",
      "\t\t\tfor neuronIndex in range(dictionaryLongitude):\n",
      "\t\t\t\t# Calculate tauD\n",
      "\t\t\t\ttestTauD = self.testTauD\n",
      "\t\t\t\ttestTauD = tauDCalc(neuronIndex, testTauD, testW)\n",
      "\t\t\t\t#print 't:',self.t,'neuronIndex',neuronIndex,'main calc tauDCalc()', testTauD\n",
      "\n",
      "\t\t\t\t# Calculate resistance\n",
      "\t\t\t\ttestR = self.testR\n",
      "\t\t\t\ttestR = resistanceCalc(neuronIndex, testTauD, testR)\n",
      "\n",
      "\t\t\t\t#Sample output for testing\n",
      "\t\t\t\ttestR = [[0.01016803758319553, 0.010171374818041036, 0.0083665317732988555, 0.01017281704840039, 0.0048279096384584727, 0.0071335782968518762, 0.010173903373815114, 0.0071306637775638056, 0.0048108924488047102, 0.010175980702300289, 0.0048274813185357644, 0.0071408747375879501, 0.010177025843651875, 0.010178177167130422, 0.0083748475057425463],\n",
      "\t\t\t\t[0.01016803758319553, 0.010171374818041036, 0.0083665317732988555, 0.01017281704840039, 0.0048279096384584727, 0.0071335782968518762, 0.010173903373815114, 0.0071306637775638056, 0.0048108924488047102, 0.010175980702300289, 0.0048274813185357644, 0.0071408747375879501, 0.010177025843651875, 0.010178177167130422, 0.0083748475057425463],\n",
      "\t\t\t\t[0.01016803758319553, 0.010171374818041036, 0.0083665317732988555, 0.01017281704840039, 0.0048279096384584727, 0.0071335782968518762, 0.010173903373815114, 0.0071306637775638056, 0.0048108924488047102, 0.010175980702300289, 0.0048274813185357644, 0.0071408747375879501, 0.010177025843651875, 0.010178177167130422, 0.0083748475057425463],\n",
      "\t\t\t\t[0.01016803758319553, 0.010171374818041036, 0.0083665317732988555, 0.01017281704840039, 0.0048279096384584727, 0.0071335782968518762, 0.010173903373815114, 0.0071306637775638056, 0.0048108924488047102, 0.010175980702300289, 0.0048274813185357644, 0.0071408747375879501, 0.010177025843651875, 0.010178177167130422, 0.0083748475057425463]]\n",
      "\n",
      "\t\t\t\t#print 't:',self.t,'neuronIndex',neuronIndex,'main calc resistanceCalc()', testR\n",
      "\n",
      "\t\t\t\ttestId[neuronIndex], self.testIdSpikeFired[neuronIndex], self.testIdRefractoryPeriod[neuronIndex] = dentritePostSynapticCurrent(neuronIndex, testId, self.testIdSpikeFired, self.testIdRefractoryPeriod, testR, testW, self.testSpiketimes)\n",
      "\t\t\t\t#print 'neuronIndex2',neuronIndex,'self.t',self.t,'testADDS.t',testADDS.t,'testId[neuronIndex]',testId[neuronIndex],'testADDS.v2Test',testADDS.v2Test\n",
      "\t\t\t\ttestIs = None\n",
      "\t\t\t\ttestADDS.IdVTest[neuronIndex] = totalSomaMembranePotential(neuronIndex, testId, testIs, tNorm)\n",
      "\t\t\t\t\n",
      "\t\tdef tauDCalc(neuronIndex, tau, W):\n",
      "\t\t\t# Weight loop\n",
      "\t\t\tfor WIndex in range(len(W[0][:])):\n",
      "\t\t\t\tif abs(W[neuronIndex][WIndex]) <= 1:\n",
      "\t\t\t\t\ttau[neuronIndex][WIndex] = tauMax - abs(W[neuronIndex][WIndex])*(tauMax-tauMin)\n",
      "\n",
      "\t\t\treturn tau\n",
      "\n",
      "\t\tdef resistanceCalc(neuronIndex, tau, R):\n",
      "\t\t\ttauM = self.tauM\n",
      "\t\t\t#Resistance loop\n",
      "\t\t\tfor RIndex in range(len(R[0][:])):\t\t\t\t\n",
      "\t\t\t\tif (tau[neuronIndex][RIndex]*.001 == tauM):\n",
      "\t\t\t\t\t# avoid a division by 0 issue\n",
      "\t\t\t\t\ttauM = tauM - .000001\n",
      "\n",
      "\t\t\t\tR[neuronIndex][RIndex] = (((tau[neuronIndex][RIndex]*.001)*neuronFiringThreshold) / Rm) * ((tauM / (tau[neuronIndex][RIndex]*.001) ) ** (tauM / (tauM - (tau[neuronIndex][RIndex]*.001) )))\n",
      "\n",
      "\t\t\treturn R\n",
      "\n",
      "\t\tdef timePeriodAndRefractoryCalcs():\n",
      "\t\t\tneuronIndex = self.neuronIndex\n",
      "\t\t\trefractoryPointCounter = self.refractoryPointCounter\n",
      "\t\t\trefractoryPointSwitch = self.refractoryPointSwitch\n",
      "\t\t\tneuronIndexCounter = self.neuronIndexCounter\n",
      "\t\t\tneuronIndexSwitch = self.neuronIndexSwitch\n",
      "\t\t\tt = self.t\n",
      "\t\t\t\n",
      "\t\t\t# changed time step time for testing\n",
      "\t\t\t#timeStepInterval = 0.01\n",
      "\t\t\t#timeStepInterval = 0.002\n",
      "\t\t\ttimeStepInterval = 0.001\n",
      "\t\t\tt = t + timeStepInterval\n",
      "\t\t\tself.timing.append(t)\n",
      "\t\t\trefractoryPointCounter = refractoryPointCounter + timeStepInterval\n",
      "\t\t\tneuronIndexCounter = neuronIndexCounter + timeStepInterval\n",
      "\n",
      "\t\t\t# At the end of each spike time interval refractory period is turned off and weight changes\n",
      "\t\t\t# are calculated.  Refractory turning off here * is not correct * because it can occur for\n",
      "\t\t\t# less than the set refractory period.  I am just using it for the time being for testing.\n",
      "\t\t\trefractoryPointSwitch = False\n",
      "\t\t\tif refractoryPointCounter >= spikeIntervalUnformatted:\n",
      "\t\t\t\t#refractoryPointCounter = 0.009\n",
      "\t\t\t\trefractoryPointCounter = 0.000\n",
      "\t\t\t\trefractoryPointSwitch = True\n",
      "\t\t\t\tself.lastSpikeInterval = self.t\n",
      "\t\t\t\tWeightChangeCalculation()\n",
      "\t\t\t\t# Report weights at different times\n",
      "\t\t\t\t#if self.t == 1.081 or self.t == 2.081 or self.t == 4.081 or self.t == 8.081 or self.t == 12.081:\n",
      "\t\t\t\t'''if self.currentEpoch == 2 or self.currentEpoch == 4 or self.currentEpoch == 8 or self.currentEpoch == 10 or self.currentEpoch == 12:\n",
      "\t\t\t\t\tprint 'self.t:\\t',self.t,'\\tself.currentEpoch\\t',self.currentEpoch,'\\tcurrent neuront\\t',self.neuronIndex\n",
      "\t\t\t\t\tprint '0',W[0][:]\n",
      "\t\t\t\t\tprint '1',W[1][:]\n",
      "\t\t\t\t\tprint '2',W[2][:]\n",
      "\t\t\t\t\tprint '3',W[3][:]'''\n",
      "\n",
      "\t\t\tneuronIndexSwitch = False\n",
      "\t\t\tif neuronIndexCounter >= (spikeIntervalUnformatted*3):\n",
      "\t\t\t\t#neuronIndexCounter = 0.009\n",
      "\t\t\t\tneuronIndexCounter = 0.0000\n",
      "\t\t\t\tneuronIndexSwitch = True\n",
      "\t\t\t\t# add epoch every epoch ms duration.  Occurs when a full series of input charactors has\n",
      "\t\t\t\t# occured and a new one starts.  self.neuronIndex == 3 really means it will roll back to\n",
      "\t\t\t\t# self.neuronIndex == 3 after neuronIndex is added\n",
      "\t\t\t\tif self.neuronIndex == 3:\n",
      "\t\t\t\t\tself.currentEpoch = self.currentEpoch + 1\t\t\t\t\n",
      "\n",
      "\t\t\t# revision of when new neuron index is used.  new neuron every 300ms\n",
      "\t\t\tif neuronIndexSwitch == True:\n",
      "\t\t\t\tneuronIndex = neuronIndex + 1\n",
      "\n",
      "\t\t\tif neuronIndex == 4: \n",
      "\t\t\t\tneuronIndex = 0\n",
      "\n",
      "\t\t\tself.neuronIndex = neuronIndex\n",
      "\t\t\tself.t = t\n",
      "\t\t\tself.refractoryPointCounter = refractoryPointCounter\n",
      "\t\t\tself.refractoryPointSwitch = refractoryPointSwitch\n",
      "\t\t\tself.neuronIndexCounter = neuronIndexCounter\t\t\t\n",
      "\t\t\tself.neuronIndexSwitch = neuronIndexSwitch\n",
      "\n",
      "\t\tdef OutputEvaluationResults(W, R, dictionaryLongitude):\n",
      "\t\t\tprint 'Final Weights\\n0',W[0][:]\n",
      "\t\t\tprint '1',W[1][:]\n",
      "\t\t\tprint '2',W[2][:]\n",
      "\t\t\tprint '3',W[3][:]\n",
      "\t\t\tprint 'Final Res\\n0',R[0][:]\n",
      "\t\t\tprint '1',R[1][:]\n",
      "\t\t\tprint '2',R[2][:]\n",
      "\t\t\tprint '3',R[3][:]\t\t\n",
      "\t\t\tprint '\\n'\n",
      "\t\t\tprint '+++ Results +++'\n",
      "\t\t\tprint 'Spike results: TP:\\t',self.truePositiveSpikeResults,'\\tFP:\\t',self.falsePositiveSpikeResults,'\\tTN:\\t',self.trueNegativeSpikeResults,'\\tFN:\\t',self.falseNegativeSpikeResults\n",
      "\t\t\tprint 'totalSpikeIntervalsTested:\\t',self.totalSpikeIntervals,'\\ttotalCharsPresented:\\t',dictionaryLongitude\n",
      "\t\t\tprint 'True positives correct percentage (TP/totalSpikeIntervalsTested):\\t',Decimal(format(self.truePositiveSpikeResults, '.1f'))/Decimal(format(self.totalSpikeIntervals, '.1f')),'\\t(this is the percentage of all true positves that were found)'\n",
      "\t\t\tprint 'Total correct percentage (TP+TN/(totalSpikeIntervals*totalCharsPresented)):\\t',(Decimal(format(self.truePositiveSpikeResults, '.1f'))+Decimal(format(self.trueNegativeSpikeResults, '.1f')))/(Decimal(format(self.totalSpikeIntervals, '.1f'))*Decimal(format(dictionaryLongitude, '.1f')))\n",
      "\t\t\tprint '+++++++++++++++'\n",
      "\n",
      "\t\t# This network_operation runs the membrane potential calculation function for every milisecond that occurs.\n",
      "\t\t# The Um output is saved directly to the ADDS V (voltage) records for use with Brian's code.\n",
      "\t\t@network_operation\n",
      "\t\tdef myoperation():\n",
      "\t\t\t#print 'neuronIndex', self.neuronIndex, 'self.t', self.t, 'refractoryPointCounter',self.refractoryPointCounter,'ADDS.t', ADDS.t, 'ADDS.v[0]', ADDS.v\n",
      "\t\t\t#print 'neuronIndex', self.neuronIndex, 'self.t', self.t, 'ADDS.t', ADDS.t, 'ADDS.IdVZ[0]', ADDS.IdVZ\n",
      "\t\t\treturnUm(self)\n",
      "\t\t\tspikeIntervalCounter = (floor(self.t/spikeIntervalUnformatted) * spikeIntervalUnformatted)*10\n",
      "\n",
      "\t\t\tfor vCheck in range(len(ADDS.v2)):\n",
      "\t\t\t\tif ADDS.v2[vCheck] == 10*mV:\n",
      "\t\t\t\t\tADDS.v2[vCheck] = 0*mV\n",
      "\n",
      "\t\t\tfor vCheck in range(len(testADDS.v2Test)):\n",
      "\t\t\t\tif testADDS.v2Test[vCheck] == 10*mV:\n",
      "\t\t\t\t\ttestADDS.v2Test[vCheck] = 0*mV\t\t\t\t\t\n",
      "\n",
      "\t\t\t# classifier performance test\n",
      "\t\t\tevaluateClassifier()\n",
      "\n",
      "\t\t\t# Only evaluate results for enough epochs to test each char in input (3 spike interv per char * 4 char = 12 spike intervals total)\n",
      "\t\t\t# the +1 in (self.totalSpikeIntervals+1) is to allow a last refractoryPointSwitch triggered negative spike evaluation to occur.\n",
      "\t\t\tif spikeIntervalCounter < (self.totalSpikeIntervals+1):\n",
      "\t\t\t\tfor neuronIndex in range(dictionaryLongitude):\t\t\t\t\n",
      "\t\t\t\t\t# Negative results below are only set to be measured after a full spike interval has passed and had the opportunity to have created a spike\n",
      "\t\t\t\t\t# (spikeIntervalCounter-1) is to correct for refractoryPointSwitch occuring after spikeInterval it addresses.\n",
      "\t\t\t\t\tif self.refractoryPointSwitch == true and (spikeIntervalCounter > 0):\n",
      "\t\t\t\t\t\tif self.testSpikesFiredInInterval[neuronIndex][spikeIntervalCounter-1] == False:\n",
      "\t\t\t\t\t\t\tif (self.correctSpikes[neuronIndex][(spikeIntervalCounter-1)] == 1):\n",
      "\t\t\t\t\t\t\t\tself.falseNegativeSpikeResults = self.falseNegativeSpikeResults + 1\t\t\n",
      "\t\t\t\t\t\t\telse:\n",
      "\t\t\t\t\t\t\t\tself.trueNegativeSpikeResults = self.trueNegativeSpikeResults + 1\t\n",
      "\n",
      "\t\t\t\t\t\tif (testADDS.testUmSpikeFired[neuronIndex] == True) and (spikeIntervalCounter < self.totalSpikeIntervals):\n",
      "\t\t\t\t\t\t\tif (self.correctSpikes[neuronIndex][spikeIntervalCounter] == 1):\n",
      "\t\t\t\t\t\t\t\tself.truePositiveSpikeResults = self.truePositiveSpikeResults + 1\t\n",
      "\t\t\t\t\t\t\telse:\n",
      "\t\t\t\t\t\t\t\tself.falsePositiveSpikeResults = self.falsePositiveSpikeResults + 1\t\n",
      "\t\t\t\t\t\t\tself.testSpikesFiredInInterval[neuronIndex][spikeIntervalCounter] = True\t\n",
      "\t\t\t\t\t\t\ttestADDS.testUmSpikeFired[neuronIndex] = False\n",
      "\n",
      "\t\t\t\t\t\t#self.testSpikesFiredInInterval[neuronIndex][spikeIntervalCounter] = False\n",
      "\t\t\t\t\t\tprint 'self.t',self.t,'neuronIndex',neuronIndex,'Spike results: TP:\\t',self.truePositiveSpikeResults,'\\tFP:\\t',self.falsePositiveSpikeResults,'\\tTN:\\t',self.trueNegativeSpikeResults,'\\tFN:\\t',self.falseNegativeSpikeResults\n",
      "\n",
      "\t\tM = SpikeMonitor(ADDS)\n",
      "\t\tself.M = M # for ipython compatibility\n",
      "\t\ttestM = SpikeMonitor(testADDS)\n",
      "\t\tself.testM = testM\n",
      "\t\tMv = StateMonitor(ADDS, 'V', record=True)\n",
      "\t\tMDendI = StateMonitor(ADDS, 'DendI', record=True)\n",
      "\t\tMSynI = StateMonitor(ADDS, 'SynI', record=True)\n",
      "\t\tUmM3 = StateMonitor(ADDS, 'v2', record=True)\n",
      "\t\tself.UmM3 = UmM3 # for ipython compatibility\n",
      "\t\ttestUmM3 = StateMonitor(testADDS, 'v2Test', record=True)\n",
      "\t\tself.testUmM3 = testUmM3\n",
      "\n",
      "\t\t#totalRunTime = 21\n",
      "\t\t#run(totalRunTime*ms,threads=2, report='text')\n",
      "\t\t#run(119*ms,report='text') # Run with enough time for scoring evaluation\n",
      "\t\trun(2000*ms,report='text')\n",
      "\n",
      "\tdef __init__(self):\n",
      "\t\tself.run_model()\n",
      "\n",
      "def main():\n",
      "\trun_gupta_paper = gupta_paper()\n",
      "\n",
      "if  __name__ =='__main__':main()\n"
     ],
     "language": "python",
     "metadata": {},
     "outputs": [
      {
       "output_type": "stream",
       "stream": "stdout",
       "text": [
        "initial Weights\n",
        "[[ 0.99976685  0.9632604   0.50939788  0.83064012  0.59855353  0.58399116\n",
        "   0.74734018  0.53820894  0.76043665  0.73470457  0.84014171  0.84507217\n",
        "   0.79481517  0.79381026  0.81804338]\n",
        " [ 0.77731497  0.93669079  0.77024319  0.68119915  0.52151506  0.84340478\n",
        "   0.54864424  0.9612985   0.63480946  0.63045137  0.85965457  0.68060539\n",
        "   0.64190969  0.80353895  0.64509941]\n",
        " [ 0.9653668   0.52086256  0.91282953  0.83647468  0.53219042  0.76970068\n",
        "   0.6345764   0.6792928   0.50652828  0.54902931  0.64345933  0.83612011\n",
        "   0.66290587  0.88739321  0.59673992]\n",
        " [ 0.99320736  0.70225505  0.82671098  0.92231915  0.64569939  0.50871867\n",
        "   0.88731606  0.81365371  0.59878612  0.95901202  0.93473107  0.87003707\n",
        "   0.92559832  0.79972348  0.86741694]]\n",
        "Starting simulation for duration 2. s\n"
       ]
      },
      {
       "output_type": "stream",
       "stream": "stdout",
       "text": [
        "self.t 0.1 neuronIndex 0 Spike results: TP:\t0 \tFP:\t0 \tTN:\t0 \tFN:\t1\n",
        "self.t 0.1 neuronIndex 1 Spike results: TP:\t0 \tFP:\t0 \tTN:\t1 \tFN:\t1\n",
        "self.t 0.1 neuronIndex 2 Spike results: TP:\t0 \tFP:\t0 \tTN:\t2 \tFN:\t1\n",
        "self.t 0.1 neuronIndex 3 Spike results: TP:\t0 \tFP:\t0 \tTN:\t3 \tFN:\t1\n",
        "self.t"
       ]
      },
      {
       "output_type": "stream",
       "stream": "stdout",
       "text": [
        " 0.2 neuronIndex 0 Spike results: TP:\t0 \tFP:\t0 \tTN:\t3 \tFN:\t2\n",
        "self.t 0.2 neuronIndex 1 Spike results: TP:\t0 \tFP:\t0 \tTN:\t4 \tFN:\t2\n",
        "self.t 0.2 neuronIndex 2 Spike results: TP:\t0 \tFP:\t0 \tTN:\t5 \tFN:\t2\n",
        "self.t 0.2 neuronIndex 3 Spike results: TP:\t0 \tFP:\t0 \tTN:\t6 \tFN:\t2\n",
        "self.t"
       ]
      },
      {
       "output_type": "stream",
       "stream": "stdout",
       "text": [
        " 0.3 neuronIndex 0 Spike results: TP:\t0 \tFP:\t1 \tTN:\t6 \tFN:\t3\n",
        "self.t 0.3 neuronIndex 1 Spike results: TP:\t1 \tFP:\t1 \tTN:\t7 \tFN:\t3\n",
        "self.t 0.3 neuronIndex 2 Spike results: TP:\t1 \tFP:\t2 \tTN:\t8 \tFN:\t3\n",
        "self.t 0.3 neuronIndex 3 Spike results: TP:\t1 \tFP:\t3 \tTN:\t9 \tFN:\t3\n",
        "self.t"
       ]
      },
      {
       "output_type": "stream",
       "stream": "stdout",
       "text": [
        " 0.4 neuronIndex 0 Spike results: TP:\t1 \tFP:\t4 \tTN:\t9 \tFN:\t3\n",
        "self.t 0.4 neuronIndex 1 Spike results: TP:\t2 \tFP:\t4 \tTN:\t9 \tFN:\t3\n",
        "self.t 0.4 neuronIndex 2 Spike results: TP:\t2 \tFP:\t5 \tTN:\t9 \tFN:\t3\n",
        "self.t 0.4 neuronIndex 3 Spike results: TP:\t2 \tFP:\t6 \tTN:\t9 \tFN:\t3\n",
        "self.t"
       ]
      },
      {
       "output_type": "stream",
       "stream": "stdout",
       "text": [
        " 0.5 neuronIndex 0 Spike results: TP:\t2 \tFP:\t7 \tTN:\t9 \tFN:\t3\n",
        "self.t 0.5 neuronIndex 1 Spike results: TP:\t3 \tFP:\t7 \tTN:\t9 \tFN:\t3\n",
        "self.t 0.5 neuronIndex 2 Spike results: TP:\t3 \tFP:\t8 \tTN:\t9 \tFN:\t3\n",
        "self.t 0.5 neuronIndex 3 Spike results: TP:\t3 \tFP:\t9 \tTN:\t9 \tFN:\t3\n",
        "self.t"
       ]
      },
      {
       "output_type": "stream",
       "stream": "stdout",
       "text": [
        " 0.6 neuronIndex 0 Spike results: TP:\t3 \tFP:\t10 \tTN:\t9 \tFN:\t3\n",
        "self.t 0.6 neuronIndex 1 Spike results: TP:\t3 \tFP:\t11 \tTN:\t9 \tFN:\t3\n",
        "self.t 0.6 neuronIndex 2 Spike results: TP:\t4 \tFP:\t11 \tTN:\t9 \tFN:\t3\n",
        "self.t 0.6 neuronIndex 3 Spike results: TP:\t4 \tFP:\t12 \tTN:\t9 \tFN:\t3\n",
        "self.t"
       ]
      },
      {
       "output_type": "stream",
       "stream": "stdout",
       "text": [
        " 0.7 neuronIndex 0 Spike results: TP:\t4 \tFP:\t12 \tTN:\t9 \tFN:\t3\n",
        "self.t 0.7 neuronIndex 1 Spike results: TP:\t4 \tFP:\t12 \tTN:\t9 \tFN:\t3\n",
        "self.t 0.7 neuronIndex 2 Spike results: TP:\t4 \tFP:\t12 \tTN:\t9 \tFN:\t3\n",
        "self.t 0.7 neuronIndex 3 Spike results: TP:\t4 \tFP:\t12 \tTN:\t9 \tFN:\t3\n",
        "self.t"
       ]
      },
      {
       "output_type": "stream",
       "stream": "stdout",
       "text": [
        " 0.8 neuronIndex 0 Spike results: TP:\t4 \tFP:\t13 \tTN:\t10 \tFN:\t3\n",
        "self.t 0.8 neuronIndex 1 Spike results: TP:\t4 \tFP:\t14 \tTN:\t11 \tFN:\t3\n",
        "self.t 0.8 neuronIndex 2 Spike results: TP:\t5 \tFP:\t14 \tTN:\t11 \tFN:\t4\n",
        "self.t 0.8 neuronIndex 3 Spike results: TP:\t5 \tFP:\t15 \tTN:\t12 \tFN:\t4\n",
        "self.t"
       ]
      },
      {
       "output_type": "stream",
       "stream": "stdout",
       "text": [
        " 0.9 neuronIndex 0 Spike results: TP:\t5 \tFP:\t15 \tTN:\t12 \tFN:\t4\n",
        "self.t 0.9 neuronIndex 1 Spike results: TP:\t5 \tFP:\t15 \tTN:\t12 \tFN:\t4\n",
        "self.t 0.9 neuronIndex 2 Spike results: TP:\t5 \tFP:\t16 \tTN:\t12 \tFN:\t4\n",
        "self.t 0.9 neuronIndex 3 Spike results: TP:\t6 \tFP:\t16 \tTN:\t12 \tFN:\t4\n",
        "self.t"
       ]
      },
      {
       "output_type": "stream",
       "stream": "stdout",
       "text": [
        " 1.0 neuronIndex 0 Spike results: TP:\t6 \tFP:\t17 \tTN:\t13 \tFN:\t4\n",
        "self.t 1.0 neuronIndex 1 Spike results: TP:\t6 \tFP:\t18 \tTN:\t14 \tFN:\t4\n",
        "self.t 1.0 neuronIndex 2 Spike results: TP:\t6 \tFP:\t18 \tTN:\t14 \tFN:\t4\n",
        "self.t 1.0 neuronIndex 3 Spike results: TP:\t6 \tFP:\t18 \tTN:\t14 \tFN:\t4\n",
        "103.6 ms (5%) simulated in 10s, estimated 3m 3s remaining.\n"
       ]
      },
      {
       "output_type": "stream",
       "stream": "stdout",
       "text": [
        "self.t 1.1 neuronIndex 0 Spike results: TP:\t6 \tFP:\t19 \tTN:\t15 \tFN:\t4\n",
        "self.t 1.1 neuronIndex 1 Spike results: TP:\t6 \tFP:\t20 \tTN:\t16 \tFN:\t4\n",
        "self.t 1.1 neuronIndex 2 Spike results: TP:\t6 \tFP:\t21 \tTN:\t16 \tFN:\t4\n",
        "self.t 1.1 neuronIndex 3 Spike results: TP:\t7 \tFP:\t21 \tTN:\t16 \tFN:\t4\n",
        "self.t"
       ]
      },
      {
       "output_type": "stream",
       "stream": "stdout",
       "text": [
        " 1.2 neuronIndex 0 Spike results: TP:\t7 \tFP:\t21 \tTN:\t16 \tFN:\t4\n",
        "self.t 1.2 neuronIndex 1 Spike results: TP:\t7 \tFP:\t21 \tTN:\t16 \tFN:\t4\n",
        "self.t 1.2 neuronIndex 2 Spike results: TP:\t7 \tFP:\t22 \tTN:\t16 \tFN:\t4\n",
        "self.t 1.2 neuronIndex 3 Spike results: TP:\t8 \tFP:\t22 \tTN:\t16 \tFN:\t4\n",
        "self.t"
       ]
      },
      {
       "output_type": "stream",
       "stream": "stdout",
       "text": [
        " 1.3 neuronIndex 0 Spike results: TP:\t8 \tFP:\t22 \tTN:\t17 \tFN:\t4\n",
        "self.t 1.3 neuronIndex 1 Spike results: TP:\t8 \tFP:\t22 \tTN:\t18 \tFN:\t4\n",
        "self.t 1.3 neuronIndex 2 Spike results: TP:\t8 \tFP:\t22 \tTN:\t18 \tFN:\t4\n",
        "self.t 1.3 neuronIndex 3 Spike results: TP:\t8 \tFP:\t22 \tTN:\t18 \tFN:\t4\n",
        "179. ms (8%) simulated in 20s, estimated 3m 24s remaining.\n"
       ]
      },
      {
       "output_type": "stream",
       "stream": "stdout",
       "text": [
        "240. ms (12%) simulated in 30s, estimated 3m 42s remaining.\n"
       ]
      },
      {
       "output_type": "stream",
       "stream": "stdout",
       "text": [
        "294.1 ms (14%) simulated in 40s, estimated 3m 53s remaining.\n"
       ]
      },
      {
       "output_type": "stream",
       "stream": "stdout",
       "text": [
        "0.3415 s (17%) simulated in 50s, estimated 4m 4s remaining.\n"
       ]
      },
      {
       "output_type": "stream",
       "stream": "stdout",
       "text": [
        "0.3846 s (19%) simulated in 1m 0s, estimated 4m 13s remaining.\n"
       ]
      },
      {
       "output_type": "stream",
       "stream": "stdout",
       "text": [
        "0.4231 s (21%) simulated in 1m 10s, estimated 4m 22s remaining.\n"
       ]
      },
      {
       "output_type": "stream",
       "stream": "stdout",
       "text": [
        "0.4609 s (23%) simulated in 1m 20s, estimated 4m 28s remaining.\n"
       ]
      },
      {
       "output_type": "stream",
       "stream": "stdout",
       "text": [
        "0.4956 s (24%) simulated in 1m 30s, estimated 4m 34s remaining.\n"
       ]
      },
      {
       "output_type": "stream",
       "stream": "stdout",
       "text": [
        "0.53 s (26%) simulated in 1m 40s, estimated 4m 39s remaining.\n"
       ]
      },
      {
       "output_type": "stream",
       "stream": "stdout",
       "text": [
        "0.5618 s (28%) simulated in 1m 50s, estimated 4m 43s remaining.\n"
       ]
      },
      {
       "output_type": "stream",
       "stream": "stdout",
       "text": [
        "0.593 s (29%) simulated in 2m 0s, estimated 4m 46s remaining.\n"
       ]
      },
      {
       "output_type": "stream",
       "stream": "stdout",
       "text": [
        "0.6231 s (31%) simulated in 2m 10s, estimated 4m 49s remaining.\n"
       ]
      },
      {
       "output_type": "stream",
       "stream": "stdout",
       "text": [
        "0.6516 s (32%) simulated in 2m 20s, estimated 4m 51s remaining.\n"
       ]
      },
      {
       "output_type": "stream",
       "stream": "stdout",
       "text": [
        "0.68 s (34%) simulated in 2m 31s, estimated 4m 54s remaining.\n"
       ]
      },
      {
       "output_type": "stream",
       "stream": "stdout",
       "text": [
        "0.7085 s (35%) simulated in 2m 41s, estimated 4m 54s remaining.\n"
       ]
      },
      {
       "output_type": "stream",
       "stream": "stdout",
       "text": [
        "0.7331 s (36%) simulated in 2m 51s, estimated 4m 56s remaining.\n"
       ]
      },
      {
       "output_type": "stream",
       "stream": "stdout",
       "text": [
        "0.7594 s (37%) simulated in 3m 1s, estimated 4m 56s remaining.\n"
       ]
      },
      {
       "output_type": "stream",
       "stream": "stdout",
       "text": [
        "0.7821 s (39%) simulated in 3m 11s, estimated 4m 58s remaining.\n"
       ]
      },
      {
       "output_type": "stream",
       "stream": "stdout",
       "text": [
        "0.8066 s (40%) simulated in 3m 21s, estimated 4m 58s remaining.\n"
       ]
      },
      {
       "output_type": "stream",
       "stream": "stdout",
       "text": [
        "0.83 s (41%) simulated in 3m 32s, estimated 4m 59s remaining.\n"
       ]
      },
      {
       "output_type": "stream",
       "stream": "stdout",
       "text": [
        "0.8522 s (42%) simulated in 3m 42s, estimated 4m 59s remaining.\n"
       ]
      },
      {
       "output_type": "stream",
       "stream": "stdout",
       "text": [
        "0.8715 s (43%) simulated in 3m 52s, estimated 5m 1s remaining.\n"
       ]
      },
      {
       "output_type": "stream",
       "stream": "stdout",
       "text": [
        "0.89 s (44%) simulated in 4m 2s, estimated 5m 3s remaining.\n"
       ]
      },
      {
       "output_type": "stream",
       "stream": "stdout",
       "text": [
        "0.91 s (45%) simulated in 4m 12s, estimated 5m 3s remaining.\n"
       ]
      },
      {
       "output_type": "stream",
       "stream": "stdout",
       "text": [
        "0.9311 s (46%) simulated in 4m 22s, estimated 5m 2s remaining.\n"
       ]
      },
      {
       "output_type": "stream",
       "stream": "stdout",
       "text": [
        "0.9502 s (47%) simulated in 4m 32s, estimated 5m 2s remaining.\n"
       ]
      },
      {
       "output_type": "stream",
       "stream": "stdout",
       "text": [
        "0.9706 s (48%) simulated in 4m 42s, estimated 5m 0s remaining.\n"
       ]
      },
      {
       "output_type": "stream",
       "stream": "stdout",
       "text": [
        "0.9904 s (49%) simulated in 4m 52s, estimated 4m 59s remaining.\n"
       ]
      },
      {
       "output_type": "stream",
       "stream": "stdout",
       "text": [
        "1.01 s (50%) simulated in 5m 3s, estimated 4m 57s remaining.\n"
       ]
      },
      {
       "output_type": "stream",
       "stream": "stdout",
       "text": [
        "1.03 s (51%) simulated in 5m 13s, estimated 4m 55s remaining.\n"
       ]
      },
      {
       "output_type": "stream",
       "stream": "stdout",
       "text": [
        "1.05 s (52%) simulated in 5m 24s, estimated 4m 53s remaining.\n"
       ]
      },
      {
       "output_type": "stream",
       "stream": "stdout",
       "text": [
        "1.07 s (53%) simulated in 5m 34s, estimated 4m 51s remaining.\n"
       ]
      },
      {
       "output_type": "stream",
       "stream": "stdout",
       "text": [
        "1.09 s (54%) simulated in 5m 45s, estimated 4m 49s remaining.\n"
       ]
      },
      {
       "output_type": "stream",
       "stream": "stdout",
       "text": [
        "1.1089 s (55%) simulated in 5m 55s, estimated 4m 46s remaining.\n"
       ]
      },
      {
       "output_type": "stream",
       "stream": "stdout",
       "text": [
        "1.1258 s (56%) simulated in 6m 5s, estimated 4m 44s remaining.\n"
       ]
      },
      {
       "output_type": "stream",
       "stream": "stdout",
       "text": [
        "1.1432 s (57%) simulated in 6m 15s, estimated 4m 42s remaining.\n"
       ]
      },
      {
       "output_type": "stream",
       "stream": "stdout",
       "text": [
        "1.16 s (57%) simulated in 6m 26s, estimated 4m 40s remaining.\n"
       ]
      },
      {
       "output_type": "stream",
       "stream": "stdout",
       "text": [
        "1.1791 s (58%) simulated in 6m 36s, estimated 4m 36s remaining.\n"
       ]
      },
      {
       "output_type": "stream",
       "stream": "stdout",
       "text": [
        "1.1952 s (59%) simulated in 6m 46s, estimated 4m 33s remaining.\n"
       ]
      },
      {
       "output_type": "stream",
       "stream": "stdout",
       "text": [
        "1.2101 s (60%) simulated in 6m 56s, estimated 4m 32s remaining.\n"
       ]
      },
      {
       "output_type": "stream",
       "stream": "stdout",
       "text": [
        "1.2282 s (61%) simulated in 7m 6s, estimated 4m 28s remaining.\n"
       ]
      },
      {
       "output_type": "stream",
       "stream": "stdout",
       "text": [
        "1.2439 s (62%) simulated in 7m 16s, estimated 4m 25s remaining.\n"
       ]
      },
      {
       "output_type": "stream",
       "stream": "stdout",
       "text": [
        "1.26 s (63%) simulated in 7m 26s, estimated 4m 22s remaining.\n"
       ]
      },
      {
       "output_type": "stream",
       "stream": "stdout",
       "text": [
        "1.2775 s (63%) simulated in 7m 36s, estimated 4m 18s remaining.\n"
       ]
      },
      {
       "output_type": "stream",
       "stream": "stdout",
       "text": [
        "1.2925 s (64%) simulated in 7m 46s, estimated 4m 15s remaining.\n"
       ]
      },
      {
       "output_type": "stream",
       "stream": "stdout",
       "text": [
        "1.3094 s (65%) simulated in 7m 56s, estimated 4m 11s remaining.\n"
       ]
      },
      {
       "output_type": "stream",
       "stream": "stdout",
       "text": [
        "1.3239 s (66%) simulated in 8m 6s, estimated 4m 9s remaining.\n"
       ]
      },
      {
       "output_type": "stream",
       "stream": "stdout",
       "text": [
        "1.34 s (67%) simulated in 8m 17s, estimated 4m 5s remaining.\n"
       ]
      },
      {
       "output_type": "stream",
       "stream": "stdout",
       "text": [
        "1.3554 s (67%) simulated in 8m 27s, estimated 4m 1s remaining.\n"
       ]
      },
      {
       "output_type": "stream",
       "stream": "stdout",
       "text": [
        "1.37 s (68%) simulated in 8m 39s, estimated 3m 59s remaining.\n"
       ]
      },
      {
       "output_type": "stream",
       "stream": "stdout",
       "text": [
        "1.3848 s (69%) simulated in 8m 49s, estimated 3m 55s remaining.\n"
       ]
      },
      {
       "output_type": "stream",
       "stream": "stdout",
       "text": [
        "1.4 s (70%) simulated in 9m 0s, estimated 3m 52s remaining.\n"
       ]
      },
      {
       "output_type": "stream",
       "stream": "stdout",
       "text": [
        "1.4135 s (70%) simulated in 9m 10s, estimated 3m 48s remaining.\n"
       ]
      },
      {
       "output_type": "stream",
       "stream": "stdout",
       "text": [
        "1.4278 s (71%) simulated in 9m 20s, estimated 3m 45s remaining.\n"
       ]
      },
      {
       "output_type": "stream",
       "stream": "stdout",
       "text": [
        "1.44 s (72%) simulated in 9m 31s, estimated 3m 42s remaining.\n"
       ]
      },
      {
       "output_type": "stream",
       "stream": "stdout",
       "text": [
        "1.4552 s (72%) simulated in 9m 41s, estimated 3m 38s remaining.\n"
       ]
      },
      {
       "output_type": "stream",
       "stream": "stdout",
       "text": [
        "1.47 s (73%) simulated in 9m 52s, estimated 3m 34s remaining.\n"
       ]
      },
      {
       "output_type": "stream",
       "stream": "stdout",
       "text": [
        "1.4837 s (74%) simulated in 10m 2s, estimated 3m 30s remaining.\n"
       ]
      },
      {
       "output_type": "stream",
       "stream": "stdout",
       "text": [
        "1.4981 s (74%) simulated in 10m 12s, estimated 3m 25s remaining.\n"
       ]
      },
      {
       "output_type": "stream",
       "stream": "stdout",
       "text": [
        "1.5102 s (75%) simulated in 10m 22s, estimated 3m 22s remaining.\n"
       ]
      },
      {
       "output_type": "stream",
       "stream": "stdout",
       "text": [
        "1.5247 s (76%) simulated in 10m 32s, estimated 3m 17s remaining.\n"
       ]
      },
      {
       "output_type": "stream",
       "stream": "stdout",
       "text": [
        "1.5368 s (76%) simulated in 10m 42s, estimated 3m 14s remaining.\n"
       ]
      },
      {
       "output_type": "stream",
       "stream": "stdout",
       "text": [
        "1.547 s (77%) simulated in 10m 52s, estimated 3m 11s remaining.\n"
       ]
      },
      {
       "output_type": "stream",
       "stream": "stdout",
       "text": [
        "1.56 s (78%) simulated in 11m 3s, estimated 3m 7s remaining.\n"
       ]
      },
      {
       "output_type": "stream",
       "stream": "stdout",
       "text": [
        "1.5742 s (78%) simulated in 11m 13s, estimated 3m 2s remaining.\n"
       ]
      },
      {
       "output_type": "stream",
       "stream": "stdout",
       "text": [
        "1.5879 s (79%) simulated in 11m 23s, estimated 2m 57s remaining.\n"
       ]
      },
      {
       "output_type": "stream",
       "stream": "stdout",
       "text": [
        "1.5975 s (79%) simulated in 11m 33s, estimated 2m 55s remaining.\n"
       ]
      },
      {
       "output_type": "stream",
       "stream": "stdout",
       "text": [
        "1.6077 s (80%) simulated in 11m 43s, estimated 2m 52s remaining.\n"
       ]
      },
      {
       "output_type": "stream",
       "stream": "stdout",
       "text": [
        "1.6191 s (80%) simulated in 11m 53s, estimated 2m 48s remaining.\n"
       ]
      },
      {
       "output_type": "stream",
       "stream": "stdout",
       "text": [
        "1.63 s (81%) simulated in 12m 4s, estimated 2m 44s remaining.\n"
       ]
      },
      {
       "output_type": "stream",
       "stream": "stdout",
       "text": [
        "1.6425 s (82%) simulated in 12m 14s, estimated 2m 40s remaining.\n"
       ]
      },
      {
       "output_type": "stream",
       "stream": "stdout",
       "text": [
        "1.6524 s (82%) simulated in 12m 24s, estimated 2m 37s remaining.\n"
       ]
      },
      {
       "output_type": "stream",
       "stream": "stdout",
       "text": [
        "1.6638 s (83%) simulated in 12m 34s, estimated 2m 32s remaining.\n"
       ]
      },
      {
       "output_type": "stream",
       "stream": "stdout",
       "text": [
        "1.6721 s (83%) simulated in 12m 44s, estimated 2m 30s remaining.\n"
       ]
      },
      {
       "output_type": "stream",
       "stream": "stdout",
       "text": [
        "1.6844 s (84%) simulated in 12m 54s, estimated 2m 25s remaining.\n"
       ]
      },
      {
       "output_type": "stream",
       "stream": "stdout",
       "text": [
        "1.6972 s (84%) simulated in 13m 4s, estimated 2m 20s remaining.\n"
       ]
      },
      {
       "output_type": "stream",
       "stream": "stdout",
       "text": [
        "1.71 s (85%) simulated in 13m 15s, estimated 2m 15s remaining.\n"
       ]
      },
      {
       "output_type": "stream",
       "stream": "stdout",
       "text": [
        "1.7224 s (86%) simulated in 13m 26s, estimated 2m 10s remaining.\n"
       ]
      },
      {
       "output_type": "stream",
       "stream": "stdout",
       "text": [
        "1.7318 s (86%) simulated in 13m 36s, estimated 2m 6s remaining.\n"
       ]
      },
      {
       "output_type": "stream",
       "stream": "stdout",
       "text": [
        "1.7445 s (87%) simulated in 13m 46s, estimated 2m 1s remaining.\n"
       ]
      },
      {
       "output_type": "stream",
       "stream": "stdout",
       "text": [
        "1.757 s (87%) simulated in 13m 56s, estimated 1m 56s remaining.\n"
       ]
      },
      {
       "output_type": "stream",
       "stream": "stdout",
       "text": [
        "1.7691 s (88%) simulated in 14m 6s, estimated 1m 50s remaining.\n"
       ]
      },
      {
       "output_type": "stream",
       "stream": "stdout",
       "text": [
        "1.7793 s (88%) simulated in 14m 16s, estimated 1m 46s remaining.\n"
       ]
      },
      {
       "output_type": "stream",
       "stream": "stdout",
       "text": [
        "1.79 s (89%) simulated in 14m 27s, estimated 1m 42s remaining.\n"
       ]
      },
      {
       "output_type": "stream",
       "stream": "stdout",
       "text": [
        "1.8 s (90%) simulated in 14m 38s, estimated 1m 38s remaining.\n"
       ]
      },
      {
       "output_type": "stream",
       "stream": "stdout",
       "text": [
        "1.812 s (90%) simulated in 14m 48s, estimated 1m 32s remaining.\n"
       ]
      },
      {
       "output_type": "stream",
       "stream": "stdout",
       "text": [
        "1.8234 s (91%) simulated in 14m 58s, estimated 1m 27s remaining.\n"
       ]
      },
      {
       "output_type": "stream",
       "stream": "stdout",
       "text": [
        "1.8348 s (91%) simulated in 15m 8s, estimated 1m 22s remaining.\n"
       ]
      },
      {
       "output_type": "stream",
       "stream": "stdout",
       "text": [
        "1.8465 s (92%) simulated in 15m 18s, estimated 1m 16s remaining.\n"
       ]
      },
      {
       "output_type": "stream",
       "stream": "stdout",
       "text": [
        "1.8581 s (92%) simulated in 15m 28s, estimated 1m 11s remaining.\n"
       ]
      },
      {
       "output_type": "stream",
       "stream": "stdout",
       "text": [
        "1.8698 s (93%) simulated in 15m 38s, estimated 1m 5s remaining.\n"
       ]
      },
      {
       "output_type": "stream",
       "stream": "stdout",
       "text": [
        "1.88 s (94%) simulated in 15m 49s, estimated 1m 1s remaining.\n"
       ]
      },
      {
       "output_type": "stream",
       "stream": "stdout",
       "text": [
        "1.8912 s (94%) simulated in 15m 59s, estimated 55s remaining.\n"
       ]
      },
      {
       "output_type": "stream",
       "stream": "stdout",
       "text": [
        "1.9004 s (95%) simulated in 16m 9s, estimated 51s remaining.\n"
       ]
      },
      {
       "output_type": "stream",
       "stream": "stdout",
       "text": [
        "1.9116 s (95%) simulated in 16m 19s, estimated 45s remaining.\n"
       ]
      },
      {
       "output_type": "stream",
       "stream": "stdout",
       "text": [
        "1.9228 s (96%) simulated in 16m 29s, estimated 40s remaining.\n"
       ]
      },
      {
       "output_type": "stream",
       "stream": "stdout",
       "text": [
        "1.9342 s (96%) simulated in 16m 39s, estimated 34s remaining.\n"
       ]
      },
      {
       "output_type": "stream",
       "stream": "stdout",
       "text": [
        "1.9455 s (97%) simulated in 16m 49s, estimated 28s remaining.\n"
       ]
      },
      {
       "output_type": "stream",
       "stream": "stdout",
       "text": [
        "1.9543 s (97%) simulated in 17m 0s, estimated 24s remaining.\n"
       ]
      },
      {
       "output_type": "stream",
       "stream": "stdout",
       "text": [
        "1.9645 s (98%) simulated in 17m 10s, estimated 19s remaining.\n"
       ]
      },
      {
       "output_type": "stream",
       "stream": "stdout",
       "text": [
        "1.974 s (98%) simulated in 17m 20s, estimated 14s remaining.\n"
       ]
      },
      {
       "output_type": "stream",
       "stream": "stdout",
       "text": [
        "1.9842 s (99%) simulated in 17m 30s, estimated 8s remaining.\n"
       ]
      },
      {
       "output_type": "stream",
       "stream": "stdout",
       "text": [
        "1.9952 s (99%) simulated in 17m 40s, estimated 3s remaining.\n"
       ]
      },
      {
       "output_type": "stream",
       "stream": "stdout",
       "text": [
        "2. s (100%) simulated in 17m 43s\n"
       ]
      }
     ],
     "prompt_number": 3
    },
    {
     "cell_type": "markdown",
     "metadata": {},
     "source": [
      "We will now save all the important variables : neuron voltages, neuron spikes, and weights to a file called simulation.hdf5\n",
      "while saving the data, we will generate downsampled arrays, so when we plot we don't use that much RAM.\n",
      "if you are on ubuntu you can use:\n",
      "\n",
      "    hdfview simulation.hdf5\n",
      "to explore the dataset.\n",
      "we haven't implemented a method for downsampling sparse arrays yet, so spiketime isn't save , but it shouldn't be to hard to do that"
     ]
    },
    {
     "cell_type": "code",
     "collapsed": false,
     "input": [
      "bp = brianPlotter('simulation.hdf5')\n",
      "\n",
      "gupta_paper = gupta_paper()\n",
      "\n",
      "# spikeVoltage and testSpikeVoltage used for reformatting to avoid formatting issue with plotting\n",
      "spikeVoltage = []\n",
      "for timeIndex in range(len(gupta_paper.M.i[:])):\n",
      "\tspikeVoltage.append(gupta_paper.M.i[timeIndex].tolist())\n",
      "\n",
      "testSpikeVoltage = []\n",
      "for timeIndex in range(len(gupta_paper.testM.i[:])):\n",
      "\ttestSpikeVoltage.append(gupta_paper.testM.i[timeIndex].tolist())\n",
      "\n",
      "spikes = zip(spikeVoltage, gupta_paper.M.t)\n",
      "testSpikes = zip(testSpikeVoltage, gupta_paper.testM.t)\n",
      "\n",
      "bp.saveData('spikes', np.asarray(spikes), downsample=False);\n",
      "bp.saveData('testSpikes', np.asarray(testSpikes), downsample=False);\n",
      "\n",
      "voltage =  np.asarray(gupta_paper.UmM3.v2.T/mV)\n",
      "testVoltage =  np.asarray(gupta_paper.testUmM3.v2Test.T/mV)\n",
      "#print 'voltage\\t',voltage\n",
      "bp.saveData('voltage',voltage)\n",
      "bp.saveData('testVoltage',testVoltage)\n",
      "\n",
      "del bp #you have to delete the object so the file is closed"
     ],
     "language": "python",
     "metadata": {},
     "outputs": [
      {
       "output_type": "stream",
       "stream": "stdout",
       "text": [
        "Starting simulation for duration 2. s\n"
       ]
      },
      {
       "output_type": "stream",
       "stream": "stdout",
       "text": [
        "self.t 0.1 neuronIndex 0 Spike results: TP:\t0 \tFP:\t0 \tTN:\t0 \tFN:\t1\n",
        "self.t 0.1 neuronIndex 1 Spike results: TP:\t0 \tFP:\t0 \tTN:\t1 \tFN:\t1\n",
        "self.t 0.1 neuronIndex 2 Spike results: TP:\t0 \tFP:\t0 \tTN:\t2 \tFN:\t1\n",
        "self.t 0.1 neuronIndex 3 Spike results: TP:\t0 \tFP:\t0 \tTN:\t3 \tFN:\t1\n",
        "self.t"
       ]
      },
      {
       "output_type": "stream",
       "stream": "stdout",
       "text": [
        " 0.2 neuronIndex 0 Spike results: TP:\t0 \tFP:\t0 \tTN:\t3 \tFN:\t2\n",
        "self.t 0.2 neuronIndex 1 Spike results: TP:\t0 \tFP:\t0 \tTN:\t4 \tFN:\t2\n",
        "self.t 0.2 neuronIndex 2 Spike results: TP:\t0 \tFP:\t0 \tTN:\t5 \tFN:\t2\n",
        "self.t 0.2 neuronIndex 3 Spike results: TP:\t0 \tFP:\t0 \tTN:\t6 \tFN:\t2\n",
        "self.t"
       ]
      },
      {
       "output_type": "stream",
       "stream": "stdout",
       "text": [
        " 0.3 neuronIndex 0 Spike results: TP:\t0 \tFP:\t1 \tTN:\t6 \tFN:\t3\n",
        "self.t 0.3 neuronIndex 1 Spike results: TP:\t1 \tFP:\t1 \tTN:\t7 \tFN:\t3\n",
        "self.t 0.3 neuronIndex 2 Spike results: TP:\t1 \tFP:\t2 \tTN:\t8 \tFN:\t3\n",
        "self.t 0.3 neuronIndex 3 Spike results: TP:\t1 \tFP:\t3 \tTN:\t9 \tFN:\t3\n",
        "self.t"
       ]
      },
      {
       "output_type": "stream",
       "stream": "stdout",
       "text": [
        " 0.4 neuronIndex 0 Spike results: TP:\t1 \tFP:\t3 \tTN:\t9 \tFN:\t3\n",
        "self.t 0.4 neuronIndex 1 Spike results: TP:\t1 \tFP:\t3 \tTN:\t9 \tFN:\t3\n",
        "self.t 0.4 neuronIndex 2 Spike results: TP:\t1 \tFP:\t3 \tTN:\t9 \tFN:\t3\n",
        "self.t 0.4 neuronIndex 3 Spike results: TP:\t1 \tFP:\t3 \tTN:\t9 \tFN:\t3\n",
        "self.t"
       ]
      },
      {
       "output_type": "stream",
       "stream": "stdout",
       "text": [
        " 0.5 neuronIndex 0 Spike results: TP:\t1 \tFP:\t4 \tTN:\t9 \tFN:\t3\n",
        "self.t 0.5 neuronIndex 1 Spike results: TP:\t2 \tFP:\t4 \tTN:\t9 \tFN:\t3\n",
        "self.t 0.5 neuronIndex 2 Spike results: TP:\t2 \tFP:\t5 \tTN:\t9 \tFN:\t3\n",
        "self.t 0.5 neuronIndex 3 Spike results: TP:\t2 \tFP:\t6 \tTN:\t9 \tFN:\t3\n",
        "self.t"
       ]
      },
      {
       "output_type": "stream",
       "stream": "stdout",
       "text": [
        " 0.6 neuronIndex 0 Spike results: TP:\t2 \tFP:\t7 \tTN:\t9 \tFN:\t3\n",
        "self.t 0.6 neuronIndex 1 Spike results: TP:\t2 \tFP:\t8 \tTN:\t9 \tFN:\t3\n",
        "self.t 0.6 neuronIndex 2 Spike results: TP:\t3 \tFP:\t8 \tTN:\t9 \tFN:\t3\n",
        "self.t 0.6 neuronIndex 3 Spike results: TP:\t3 \tFP:\t9 \tTN:\t9 \tFN:\t3\n",
        "self.t"
       ]
      },
      {
       "output_type": "stream",
       "stream": "stdout",
       "text": [
        " 0.7 neuronIndex 0 Spike results: TP:\t3 \tFP:\t9 \tTN:\t9 \tFN:\t3\n",
        "self.t 0.7 neuronIndex 1 Spike results: TP:\t3 \tFP:\t10 \tTN:\t9 \tFN:\t3\n",
        "self.t 0.7 neuronIndex 2 Spike results: TP:\t4 \tFP:\t10 \tTN:\t9 \tFN:\t3\n",
        "self.t 0.7 neuronIndex 3 Spike results: TP:\t4 \tFP:\t11 \tTN:\t9 \tFN:\t3\n",
        "self.t"
       ]
      },
      {
       "output_type": "stream",
       "stream": "stdout",
       "text": [
        " 0.8 neuronIndex 0 Spike results: TP:\t4 \tFP:\t12 \tTN:\t10 \tFN:\t3\n",
        "self.t 0.8 neuronIndex 1 Spike results: TP:\t4 \tFP:\t13 \tTN:\t10 \tFN:\t3\n",
        "self.t 0.8 neuronIndex 2 Spike results: TP:\t5 \tFP:\t13 \tTN:\t10 \tFN:\t3\n",
        "self.t 0.8 neuronIndex 3 Spike results: TP:\t5 \tFP:\t14 \tTN:\t10 \tFN:\t3\n",
        "self.t"
       ]
      },
      {
       "output_type": "stream",
       "stream": "stdout",
       "text": [
        " 0.9 neuronIndex 0 Spike results: TP:\t5 \tFP:\t14 \tTN:\t10 \tFN:\t3\n",
        "self.t 0.9 neuronIndex 1 Spike results: TP:\t5 \tFP:\t14 \tTN:\t10 \tFN:\t3\n",
        "self.t 0.9 neuronIndex 2 Spike results: TP:\t5 \tFP:\t14 \tTN:\t10 \tFN:\t3\n",
        "self.t 0.9 neuronIndex 3 Spike results: TP:\t5 \tFP:\t14 \tTN:\t10 \tFN:\t3\n",
        "self.t"
       ]
      },
      {
       "output_type": "stream",
       "stream": "stdout",
       "text": [
        " 1.0 neuronIndex 0 Spike results: TP:\t5 \tFP:\t15 \tTN:\t11 \tFN:\t3\n",
        "self.t 1.0 neuronIndex 1 Spike results: TP:\t5 \tFP:\t16 \tTN:\t12 \tFN:\t3\n",
        "self.t 1.0 neuronIndex 2 Spike results: TP:\t5 \tFP:\t17 \tTN:\t12 \tFN:\t3\n",
        "self.t 1.0 neuronIndex 3 Spike results: TP:\t6 \tFP:\t17 \tTN:\t12 \tFN:\t3\n",
        "101.1 ms (5%) simulated in 10s, estimated 3m 8s remaining.\n"
       ]
      },
      {
       "output_type": "stream",
       "stream": "stdout",
       "text": [
        "self.t 1.1 neuronIndex 0 Spike results: TP:\t6 \tFP:\t18 \tTN:\t13 \tFN:\t3\n",
        "self.t 1.1 neuronIndex 1 Spike results: TP:\t6 \tFP:\t19 \tTN:\t14 \tFN:\t3\n",
        "self.t 1.1 neuronIndex 2 Spike results: TP:\t6 \tFP:\t20 \tTN:\t14 \tFN:\t3\n",
        "self.t 1.1 neuronIndex 3 Spike results: TP:\t7 \tFP:\t20 \tTN:\t14 \tFN:\t3\n",
        "self.t"
       ]
      },
      {
       "output_type": "stream",
       "stream": "stdout",
       "text": [
        " 1.2 neuronIndex 0 Spike results: TP:\t7 \tFP:\t20 \tTN:\t14 \tFN:\t3\n",
        "self.t 1.2 neuronIndex 1 Spike results: TP:\t7 \tFP:\t20 \tTN:\t14 \tFN:\t3\n",
        "self.t 1.2 neuronIndex 2 Spike results: TP:\t7 \tFP:\t20 \tTN:\t14 \tFN:\t3\n",
        "self.t 1.2 neuronIndex 3 Spike results: TP:\t8 \tFP:\t20 \tTN:\t14 \tFN:\t3\n",
        "self.t"
       ]
      },
      {
       "output_type": "stream",
       "stream": "stdout",
       "text": [
        " 1.3 neuronIndex 0 Spike results: TP:\t8 \tFP:\t20 \tTN:\t15 \tFN:\t3\n",
        "self.t 1.3 neuronIndex 1 Spike results: TP:\t8 \tFP:\t20 \tTN:\t16 \tFN:\t3\n",
        "self.t 1.3 neuronIndex 2 Spike results: TP:\t8 \tFP:\t20 \tTN:\t16 \tFN:\t3\n",
        "self.t 1.3 neuronIndex 3 Spike results: TP:\t8 \tFP:\t20 \tTN:\t16 \tFN:\t3\n",
        "170.3 ms (8%) simulated in 20s, estimated 3m 35s remaining.\n"
       ]
      },
      {
       "output_type": "stream",
       "stream": "stdout",
       "text": [
        "231.3 ms (11%) simulated in 30s, estimated 3m 50s remaining.\n"
       ]
      },
      {
       "output_type": "stream",
       "stream": "stdout",
       "text": [
        "284.2 ms (14%) simulated in 40s, estimated 4m 2s remaining.\n"
       ]
      },
      {
       "output_type": "stream",
       "stream": "stdout",
       "text": [
        "0.331 s (16%) simulated in 50s, estimated 4m 12s remaining.\n"
       ]
      },
      {
       "output_type": "stream",
       "stream": "stdout",
       "text": [
        "0.3758 s (18%) simulated in 1m 0s, estimated 4m 20s remaining.\n"
       ]
      },
      {
       "output_type": "stream",
       "stream": "stdout",
       "text": [
        "0.4153 s (20%) simulated in 1m 10s, estimated 4m 27s remaining.\n"
       ]
      },
      {
       "output_type": "stream",
       "stream": "stdout",
       "text": [
        "0.4455 s (22%) simulated in 1m 20s, estimated 4m 39s remaining.\n"
       ]
      },
      {
       "output_type": "stream",
       "stream": "stdout",
       "text": [
        "0.48 s (24%) simulated in 1m 30s, estimated 4m 46s remaining.\n"
       ]
      },
      {
       "output_type": "stream",
       "stream": "stdout",
       "text": [
        "0.5127 s (25%) simulated in 1m 40s, estimated 4m 51s remaining.\n"
       ]
      },
      {
       "output_type": "stream",
       "stream": "stdout",
       "text": [
        "0.5461 s (27%) simulated in 1m 50s, estimated 4m 54s remaining.\n"
       ]
      },
      {
       "output_type": "stream",
       "stream": "stdout",
       "text": [
        "0.5778 s (28%) simulated in 2m 0s, estimated 4m 56s remaining.\n"
       ]
      },
      {
       "output_type": "stream",
       "stream": "stdout",
       "text": [
        "0.6082 s (30%) simulated in 2m 10s, estimated 4m 58s remaining.\n"
       ]
      },
      {
       "output_type": "stream",
       "stream": "stdout",
       "text": [
        "0.6351 s (31%) simulated in 2m 20s, estimated 5m 2s remaining.\n"
       ]
      },
      {
       "output_type": "stream",
       "stream": "stdout",
       "text": [
        "0.662 s (33%) simulated in 2m 30s, estimated 5m 4s remaining.\n"
       ]
      },
      {
       "output_type": "stream",
       "stream": "stdout",
       "text": [
        "0.6841 s (34%) simulated in 2m 40s, estimated 5m 9s remaining.\n"
       ]
      },
      {
       "output_type": "stream",
       "stream": "stdout",
       "text": [
        "0.71 s (35%) simulated in 2m 50s, estimated 5m 10s remaining.\n"
       ]
      },
      {
       "output_type": "stream",
       "stream": "stdout",
       "text": [
        "0.7335 s (36%) simulated in 3m 0s, estimated 5m 12s remaining.\n"
       ]
      },
      {
       "output_type": "stream",
       "stream": "stdout",
       "text": [
        "0.758 s (37%) simulated in 3m 10s, estimated 5m 12s remaining.\n"
       ]
      },
      {
       "output_type": "stream",
       "stream": "stdout",
       "text": [
        "0.7791 s (38%) simulated in 3m 20s, estimated 5m 14s remaining.\n"
       ]
      },
      {
       "output_type": "stream",
       "stream": "stdout",
       "text": [
        "0.799 s (39%) simulated in 3m 30s, estimated 5m 17s remaining.\n"
       ]
      },
      {
       "output_type": "stream",
       "stream": "stdout",
       "text": [
        "0.82 s (41%) simulated in 3m 41s, estimated 5m 18s remaining.\n"
       ]
      },
      {
       "output_type": "stream",
       "stream": "stdout",
       "text": [
        "0.8416 s (42%) simulated in 3m 51s, estimated 5m 18s remaining.\n"
       ]
      },
      {
       "output_type": "stream",
       "stream": "stdout",
       "text": [
        "0.8627 s (43%) simulated in 4m 1s, estimated 5m 18s remaining.\n"
       ]
      },
      {
       "output_type": "stream",
       "stream": "stdout",
       "text": [
        "0.8817 s (44%) simulated in 4m 11s, estimated 5m 19s remaining.\n"
       ]
      },
      {
       "output_type": "stream",
       "stream": "stdout",
       "text": [
        "0.9004 s (45%) simulated in 4m 21s, estimated 5m 19s remaining.\n"
       ]
      },
      {
       "output_type": "stream",
       "stream": "stdout",
       "text": [
        "0.92 s (46%) simulated in 4m 31s, estimated 5m 19s remaining.\n"
       ]
      },
      {
       "output_type": "stream",
       "stream": "stdout",
       "text": [
        "0.94 s (47%) simulated in 4m 41s, estimated 5m 18s remaining.\n"
       ]
      },
      {
       "output_type": "stream",
       "stream": "stdout",
       "text": [
        "0.9606 s (48%) simulated in 4m 51s, estimated 5m 16s remaining.\n"
       ]
      },
      {
       "output_type": "stream",
       "stream": "stdout",
       "text": [
        "0.98 s (49%) simulated in 5m 2s, estimated 5m 14s remaining.\n"
       ]
      },
      {
       "output_type": "stream",
       "stream": "stdout",
       "text": [
        "1. s (50%) simulated in 5m 12s, estimated 5m 12s remaining.\n"
       ]
      },
      {
       "output_type": "stream",
       "stream": "stdout",
       "text": [
        "1.02 s (51%) simulated in 5m 22s, estimated 5m 10s remaining.\n"
       ]
      },
      {
       "output_type": "stream",
       "stream": "stdout",
       "text": [
        "1.04 s (52%) simulated in 5m 33s, estimated 5m 7s remaining.\n"
       ]
      },
      {
       "output_type": "stream",
       "stream": "stdout",
       "text": [
        "1.06 s (53%) simulated in 5m 43s, estimated 5m 5s remaining.\n"
       ]
      },
      {
       "output_type": "stream",
       "stream": "stdout",
       "text": [
        "1.08 s (54%) simulated in 5m 54s, estimated 5m 2s remaining.\n"
       ]
      },
      {
       "output_type": "stream",
       "stream": "stdout",
       "text": [
        "1.1 s (55%) simulated in 6m 5s, estimated 4m 59s remaining.\n"
       ]
      },
      {
       "output_type": "stream",
       "stream": "stdout",
       "text": [
        "1.1185 s (55%) simulated in 6m 15s, estimated 4m 56s remaining.\n"
       ]
      },
      {
       "output_type": "stream",
       "stream": "stdout",
       "text": [
        "1.1347 s (56%) simulated in 6m 25s, estimated 4m 54s remaining.\n"
       ]
      },
      {
       "output_type": "stream",
       "stream": "stdout",
       "text": [
        "1.151 s (57%) simulated in 6m 35s, estimated 4m 52s remaining.\n"
       ]
      },
      {
       "output_type": "stream",
       "stream": "stdout",
       "text": [
        "1.1687 s (58%) simulated in 6m 45s, estimated 4m 48s remaining.\n"
       ]
      },
      {
       "output_type": "stream",
       "stream": "stdout",
       "text": [
        "1.1834 s (59%) simulated in 6m 55s, estimated 4m 47s remaining.\n"
       ]
      },
      {
       "output_type": "stream",
       "stream": "stdout",
       "text": [
        "1.1996 s (59%) simulated in 7m 5s, estimated 4m 44s remaining.\n"
       ]
      },
      {
       "output_type": "stream",
       "stream": "stdout",
       "text": [
        "1.2146 s (60%) simulated in 7m 15s, estimated 4m 42s remaining.\n"
       ]
      },
      {
       "output_type": "stream",
       "stream": "stdout",
       "text": [
        "1.23 s (61%) simulated in 7m 25s, estimated 4m 39s remaining.\n"
       ]
      },
      {
       "output_type": "stream",
       "stream": "stdout",
       "text": [
        "1.2466 s (62%) simulated in 7m 35s, estimated 4m 35s remaining.\n"
       ]
      },
      {
       "output_type": "stream",
       "stream": "stdout",
       "text": [
        "1.2606 s (63%) simulated in 7m 45s, estimated 4m 33s remaining.\n"
       ]
      },
      {
       "output_type": "stream",
       "stream": "stdout",
       "text": [
        "1.2775 s (63%) simulated in 7m 55s, estimated 4m 29s remaining.\n"
       ]
      },
      {
       "output_type": "stream",
       "stream": "stdout",
       "text": [
        "1.2917 s (64%) simulated in 8m 5s, estimated 4m 26s remaining.\n"
       ]
      },
      {
       "output_type": "stream",
       "stream": "stdout",
       "text": [
        "1.3086 s (65%) simulated in 8m 15s, estimated 4m 22s remaining.\n"
       ]
      },
      {
       "output_type": "stream",
       "stream": "stdout",
       "text": [
        "1.3227 s (66%) simulated in 8m 26s, estimated 4m 19s remaining.\n"
       ]
      },
      {
       "output_type": "stream",
       "stream": "stdout",
       "text": [
        "1.3386 s (66%) simulated in 8m 36s, estimated 4m 15s remaining.\n"
       ]
      },
      {
       "output_type": "stream",
       "stream": "stdout",
       "text": [
        "1.3523 s (67%) simulated in 8m 46s, estimated 4m 12s remaining.\n"
       ]
      },
      {
       "output_type": "stream",
       "stream": "stdout",
       "text": [
        "1.368 s (68%) simulated in 8m 56s, estimated 4m 8s remaining.\n"
       ]
      },
      {
       "output_type": "stream",
       "stream": "stdout",
       "text": [
        "1.38 s (69%) simulated in 9m 6s, estimated 4m 5s remaining.\n"
       ]
      },
      {
       "output_type": "stream",
       "stream": "stdout",
       "text": [
        "1.3953 s (69%) simulated in 9m 16s, estimated 4m 1s remaining.\n"
       ]
      },
      {
       "output_type": "stream",
       "stream": "stdout",
       "text": [
        "1.4096 s (70%) simulated in 9m 26s, estimated 3m 57s remaining.\n"
       ]
      },
      {
       "output_type": "stream",
       "stream": "stdout",
       "text": [
        "1.4212 s (71%) simulated in 9m 36s, estimated 3m 55s remaining.\n"
       ]
      },
      {
       "output_type": "stream",
       "stream": "stdout",
       "text": [
        "1.4361 s (71%) simulated in 9m 46s, estimated 3m 50s remaining.\n"
       ]
      },
      {
       "output_type": "stream",
       "stream": "stdout",
       "text": [
        "1.45 s (72%) simulated in 9m 57s, estimated 3m 47s remaining.\n"
       ]
      },
      {
       "output_type": "stream",
       "stream": "stdout",
       "text": [
        "1.4644 s (73%) simulated in 10m 7s, estimated 3m 42s remaining.\n"
       ]
      },
      {
       "output_type": "stream",
       "stream": "stdout",
       "text": [
        "1.4791 s (73%) simulated in 10m 17s, estimated 3m 37s remaining.\n"
       ]
      },
      {
       "output_type": "stream",
       "stream": "stdout",
       "text": [
        "1.491 s (74%) simulated in 10m 27s, estimated 3m 34s remaining.\n"
       ]
      },
      {
       "output_type": "stream",
       "stream": "stdout",
       "text": [
        "1.505 s (75%) simulated in 10m 37s, estimated 3m 30s remaining.\n"
       ]
      },
      {
       "output_type": "stream",
       "stream": "stdout",
       "text": [
        "1.5193 s (75%) simulated in 10m 47s, estimated 3m 25s remaining.\n"
       ]
      },
      {
       "output_type": "stream",
       "stream": "stdout",
       "text": [
        "1.5307 s (76%) simulated in 10m 57s, estimated 3m 22s remaining.\n"
       ]
      },
      {
       "output_type": "stream",
       "stream": "stdout",
       "text": [
        "1.5442 s (77%) simulated in 11m 7s, estimated 3m 17s remaining.\n"
       ]
      },
      {
       "output_type": "stream",
       "stream": "stdout",
       "text": [
        "1.5581 s (77%) simulated in 11m 17s, estimated 3m 12s remaining.\n"
       ]
      },
      {
       "output_type": "stream",
       "stream": "stdout",
       "text": [
        "1.57 s (78%) simulated in 11m 27s, estimated 3m 8s remaining.\n"
       ]
      },
      {
       "output_type": "stream",
       "stream": "stdout",
       "text": [
        "1.5829 s (79%) simulated in 11m 38s, estimated 3m 4s remaining.\n"
       ]
      },
      {
       "output_type": "stream",
       "stream": "stdout",
       "text": [
        "1.5956 s (79%) simulated in 11m 48s, estimated 2m 59s remaining.\n"
       ]
      },
      {
       "output_type": "stream",
       "stream": "stdout",
       "text": [
        "1.6085 s (80%) simulated in 11m 58s, estimated 2m 55s remaining.\n"
       ]
      },
      {
       "output_type": "stream",
       "stream": "stdout",
       "text": [
        "1.62 s (81%) simulated in 12m 8s, estimated 2m 51s remaining.\n"
       ]
      },
      {
       "output_type": "stream",
       "stream": "stdout",
       "text": [
        "1.633 s (81%) simulated in 12m 18s, estimated 2m 46s remaining.\n"
       ]
      },
      {
       "output_type": "stream",
       "stream": "stdout",
       "text": [
        "1.6456 s (82%) simulated in 12m 28s, estimated 2m 41s remaining.\n"
       ]
      },
      {
       "output_type": "stream",
       "stream": "stdout",
       "text": [
        "1.6582 s (82%) simulated in 12m 38s, estimated 2m 36s remaining.\n"
       ]
      },
      {
       "output_type": "stream",
       "stream": "stdout",
       "text": [
        "1.67 s (83%) simulated in 12m 49s, estimated 2m 32s remaining.\n"
       ]
      },
      {
       "output_type": "stream",
       "stream": "stdout",
       "text": [
        "1.6827 s (84%) simulated in 12m 59s, estimated 2m 27s remaining.\n"
       ]
      },
      {
       "output_type": "stream",
       "stream": "stdout",
       "text": [
        "1.6951 s (84%) simulated in 13m 9s, estimated 2m 22s remaining.\n"
       ]
      },
      {
       "output_type": "stream",
       "stream": "stdout",
       "text": [
        "1.707 s (85%) simulated in 13m 19s, estimated 2m 17s remaining.\n"
       ]
      },
      {
       "output_type": "stream",
       "stream": "stdout",
       "text": [
        "1.7186 s (85%) simulated in 13m 29s, estimated 2m 13s remaining.\n"
       ]
      },
      {
       "output_type": "stream",
       "stream": "stdout",
       "text": [
        "1.73 s (86%) simulated in 13m 41s, estimated 2m 8s remaining.\n"
       ]
      },
      {
       "output_type": "stream",
       "stream": "stdout",
       "text": [
        "1.7415 s (87%) simulated in 13m 51s, estimated 2m 3s remaining.\n"
       ]
      },
      {
       "output_type": "stream",
       "stream": "stdout",
       "text": [
        "1.7536 s (87%) simulated in 14m 1s, estimated 1m 58s remaining.\n"
       ]
      },
      {
       "output_type": "stream",
       "stream": "stdout",
       "text": [
        "1.7655 s (88%) simulated in 14m 11s, estimated 1m 53s remaining.\n"
       ]
      },
      {
       "output_type": "stream",
       "stream": "stdout",
       "text": [
        "1.7772 s (88%) simulated in 14m 21s, estimated 1m 48s remaining.\n"
       ]
      },
      {
       "output_type": "stream",
       "stream": "stdout",
       "text": [
        "1.7889 s (89%) simulated in 14m 31s, estimated 1m 43s remaining.\n"
       ]
      },
      {
       "output_type": "stream",
       "stream": "stdout",
       "text": [
        "1.8 s (90%) simulated in 14m 42s, estimated 1m 38s remaining.\n"
       ]
      },
      {
       "output_type": "stream",
       "stream": "stdout",
       "text": [
        "1.8119 s (90%) simulated in 14m 52s, estimated 1m 33s remaining.\n"
       ]
      },
      {
       "output_type": "stream",
       "stream": "stdout",
       "text": [
        "1.8235 s (91%) simulated in 15m 2s, estimated 1m 27s remaining.\n"
       ]
      },
      {
       "output_type": "stream",
       "stream": "stdout",
       "text": [
        "1.8351 s (91%) simulated in 15m 12s, estimated 1m 22s remaining.\n"
       ]
      },
      {
       "output_type": "stream",
       "stream": "stdout",
       "text": [
        "1.8468 s (92%) simulated in 15m 22s, estimated 1m 17s remaining.\n"
       ]
      },
      {
       "output_type": "stream",
       "stream": "stdout",
       "text": [
        "1.8581 s (92%) simulated in 15m 32s, estimated 1m 11s remaining.\n"
       ]
      },
      {
       "output_type": "stream",
       "stream": "stdout",
       "text": [
        "1.869 s (93%) simulated in 15m 42s, estimated 1m 6s remaining.\n"
       ]
      },
      {
       "output_type": "stream",
       "stream": "stdout",
       "text": [
        "1.8798 s (93%) simulated in 15m 52s, estimated 1m 1s remaining.\n"
       ]
      },
      {
       "output_type": "stream",
       "stream": "stdout",
       "text": [
        "1.89 s (94%) simulated in 16m 4s, estimated 56s remaining.\n"
       ]
      },
      {
       "output_type": "stream",
       "stream": "stdout",
       "text": [
        "1.901 s (95%) simulated in 16m 14s, estimated 51s remaining.\n"
       ]
      },
      {
       "output_type": "stream",
       "stream": "stdout",
       "text": [
        "1.9122 s (95%) simulated in 16m 24s, estimated 45s remaining.\n"
       ]
      },
      {
       "output_type": "stream",
       "stream": "stdout",
       "text": [
        "1.9231 s (96%) simulated in 16m 34s, estimated 40s remaining.\n"
       ]
      },
      {
       "output_type": "stream",
       "stream": "stdout",
       "text": [
        "1.933 s (96%) simulated in 16m 44s, estimated 35s remaining.\n"
       ]
      },
      {
       "output_type": "stream",
       "stream": "stdout",
       "text": [
        "1.9437 s (97%) simulated in 16m 54s, estimated 29s remaining.\n"
       ]
      },
      {
       "output_type": "stream",
       "stream": "stdout",
       "text": [
        "1.9544 s (97%) simulated in 17m 4s, estimated 24s remaining.\n"
       ]
      },
      {
       "output_type": "stream",
       "stream": "stdout",
       "text": [
        "1.9652 s (98%) simulated in 17m 14s, estimated 18s remaining.\n"
       ]
      },
      {
       "output_type": "stream",
       "stream": "stdout",
       "text": [
        "1.9761 s (98%) simulated in 17m 24s, estimated 13s remaining.\n"
       ]
      },
      {
       "output_type": "stream",
       "stream": "stdout",
       "text": [
        "1.9864 s (99%) simulated in 17m 34s, estimated 7s remaining.\n"
       ]
      },
      {
       "output_type": "stream",
       "stream": "stdout",
       "text": [
        "1.9973 s (99%) simulated in 17m 44s, estimated 1s remaining.\n"
       ]
      },
      {
       "output_type": "stream",
       "stream": "stdout",
       "text": [
        "2. s (100%) simulated in 17m 46s\n"
       ]
      },
      {
       "output_type": "stream",
       "stream": "stdout",
       "text": [
        "spikes sucessfully saved\n",
        "testSpikes sucessfully saved\n",
        "voltage sucessfully saved\n",
        "testVoltage sucessfully saved"
       ]
      },
      {
       "output_type": "stream",
       "stream": "stdout",
       "text": [
        "\n"
       ]
      }
     ],
     "prompt_number": 4
    },
    {
     "cell_type": "markdown",
     "metadata": {},
     "source": [
      "If you want to see the analysis of this simulation click here.\n",
      "\n",
      "Remember to shutdown this notebook to release memory"
     ]
    },
    {
     "cell_type": "code",
     "collapsed": false,
     "input": [
      "#Just to know when this finishes\n",
      "import time\n",
      "print time.ctime()"
     ],
     "language": "python",
     "metadata": {},
     "outputs": [
      {
       "output_type": "stream",
       "stream": "stdout",
       "text": [
        "Sat Jan 17 17:47:40 2015\n"
       ]
      }
     ],
     "prompt_number": 5
    }
   ],
   "metadata": {}
  }
 ]
}
