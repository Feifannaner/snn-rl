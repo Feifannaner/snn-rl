{
 "metadata": {
  "name": "",
  "signature": "sha256:7db30502846cb9c0282e4e76270b46e53c11180942ff708fff071d46275a1891"
 },
 "nbformat": 3,
 "nbformat_minor": 0,
 "worksheets": [
  {
   "cells": [
    {
     "cell_type": "code",
     "collapsed": false,
     "input": [
      "from dictionary import *\n",
      "from report_results_and_logging import *\n",
      "import numpy as np\n",
      "from sympy import * # used for differentiation\n",
      "import math # used for natural log\n",
      "#from random import random # for random gen\n",
      "from decimal import Decimal # Used for results reporting calculations\n",
      "from brian2 import *\n",
      "\n",
      "epochs = 100 \n",
      "spikeMiliseconds = 100\n",
      "spikeInterval = spikeMiliseconds * ms\n",
      "spikeIntervalUnformatted = spikeMiliseconds * .001\n",
      "dictionaryLongitude = 4\n",
      "spikesPerChar=3\n",
      "totalTime = epochs * spikesPerChar * dictionaryLongitude * spikeInterval \n",
      "epochsToPrint = [0,1,2,25,50,75]\n",
      "presentResults = False\n",
      "logger = False\n",
      "displayAllNeuronMemPotentials = False\n",
      "\n",
      "taum = 20 * ms\n",
      "taue = 1 * ms\n",
      "taui = 10 * ms\n",
      "Vt = 5 * mV\n",
      "Vr = -0.001 * mV\n",
      "\n",
      "Rm = 80\n",
      "## added tauS constant below ##\n",
      "tauS = 2\n",
      "tauMax = 30\n",
      "tauMin = 2\n",
      "#tauM = 30 * ms # appears different than taum above due to the article specifying this as 30\n",
      "tauM = .03 # removed ms for compatibility\n",
      "\n",
      "SimulationDuration = 10000\n",
      "epochMsDuration = (SimulationDuration / epochs) * 10 # Times 10 is to adjust to Ms scale\n",
      "\n",
      "numberOfPixels = 15\n",
      "#neuronFiringThreshold = 10 * mV\n",
      "neuronFiringThreshold = 10 # removed mV for compatibility\n",
      "W = np.random.uniform(0.5,1.0,[4,15]) # Initial weights\n",
      "# none to 1 below\n",
      "numberOfNeurons = 4\n",
      "R = [[1] * numberOfPixels]*dictionaryLongitude # Initial Resistance Values\n",
      "testR = [[1] * numberOfPixels]*dictionaryLongitude # Initial Resistance Values\n",
      "## Added 1 init below but I don't really know what the right init value is\n",
      "#Id = [[-.001] * numberOfPixels]*dictionaryLongitude # Initial Dendritic Post Synaptic Current\n",
      "Id = [[0] * numberOfPixels]*dictionaryLongitude # Initial Dendritic Post Synaptic Current\n",
      "testId = [[-.001] * numberOfPixels]*dictionaryLongitude # Initial Dendritic Post Synaptic Current\n",
      "## Added 1 init below but I don't really know what the right init value is\n",
      "tauD = [[1] * numberOfPixels]*dictionaryLongitude # Initial tauD\n",
      "testTauD = [[1] * numberOfPixels]*dictionaryLongitude # Initial tauD\n",
      "tF = [[None] * numberOfPixels]*dictionaryLongitude # Initial pre-synaptic spike times\n",
      "\n",
      "Is = [-.001] * dictionaryLongitude\n",
      "Um = [-.001] * dictionaryLongitude\n",
      "testUm = [-.001] * dictionaryLongitude\n",
      "\n",
      "Ureset = -.001\n",
      "#Ureset = 0\n",
      "\n",
      "APlus = 0.1\n",
      "AMinus = -0.105\n",
      "TauPlus = 1\n",
      "TauMinus = 1\n",
      "LearningRate = 0.1\n",
      "ActionPotentialThreshold = .01"
     ],
     "language": "python",
     "metadata": {},
     "outputs": [
      {
       "output_type": "stream",
       "stream": "stderr",
       "text": [
        "C:\\Python27\\lib\\site-packages\\brian\\utils\\sparse_patch\\__init__.py:39: UserWarning: Couldn't find matching sparse matrix patch for scipy version 0.14.0, but in most cases this shouldn't be a problem.\n",
        "  warnings.warn(\"Couldn't find matching sparse matrix patch for scipy version %s, but in most cases this shouldn't be a problem.\" % scipy.__version__)\n"
       ]
      }
     ],
     "prompt_number": 1
    },
    {
     "cell_type": "code",
     "collapsed": false,
     "input": [
      "import io\n",
      "from IPython.nbformat import current\n",
      "\n",
      "def execute_notebook(nbfile):\n",
      "    \n",
      "    with io.open(nbfile) as f:\n",
      "        nb = current.read(f, 'json')\n",
      "    \n",
      "    ip = get_ipython()\n",
      "    \n",
      "    for cell in nb.worksheets[0].cells:\n",
      "        if cell.cell_type != 'code':\n",
      "            continue\n",
      "        ip.run_cell(cell.input)\n",
      "        \n",
      "execute_notebook(\"commonFurtherFormulas.ipynb\")"
     ],
     "language": "python",
     "metadata": {},
     "outputs": [
      {
       "output_type": "stream",
       "stream": "stdout",
       "text": [
        "Sun Jan 25 14:42:00 2015\n"
       ]
      }
     ],
     "prompt_number": 2
    },
    {
     "cell_type": "code",
     "collapsed": false,
     "input": [
      "from architecture_further_formulas import *\n",
      "\n",
      "class gupta_paper:\n",
      "\tneuralnet = Network()\n",
      "\tdictionary = dictionary()\n",
      "\tspiketimes = dictionary.spikeTimes(dictionaryLongitude, spikeInterval, spikesPerChar, epochs)\n",
      "\ttestSpiketimes = spiketimes\n",
      "\tLIK = SpikeGeneratorGroup(N=15, indices=spiketimes[:,0], times=spiketimes[:,1]*ms)\n",
      "\tneuronIndex = 0\n",
      "\ttime = 0.0000\n",
      "\ttestTime = 0.0000\n",
      "\tSummedDendriteGroup = 0;\n",
      "\tSynapseToSoma = 0;\n",
      "\tSigmaWDSyn = .0375 * mV\n",
      "\tSigmaWDSynMod = .5\n",
      "\tRmEq = Rm #Rm * mV\n",
      "\tDendR = .0375 * mV\n",
      "\tDendW = 1\n",
      "\tDendDirac = 1\t\n",
      "\t# tauD and R lines below are to avoid an odd 'reference before assignment' error\n",
      "\ttauD = tauD\n",
      "\ttestTauD = testTauD\n",
      "\tR = R\n",
      "\ttestR = testR\n",
      "\ttauM = tauM\n",
      "\tlastSpikeInterval = -0.001#0.0\n",
      "\ttestLastSpikeInterval = -0.001#0.0\n",
      "\tcurrentEpoch = 0\n",
      "\ttimeStepInterval = 0.001\n",
      "\trefractoryPointCounter = 0.0\n",
      "\ttestRefractoryPointCounter = 0.0\n",
      "\trefractoryPointSwitch = False\n",
      "\ttestRefractoryPointSwitch = False\n",
      "\tneuronIndexCounter = 0.0\n",
      "\tneuronIndexSwitch = False\n",
      "\t#timing = []\n",
      "\ttruePositiveSpikeResults = 0\n",
      "\tfalsePositiveSpikeResults = 0\n",
      "\ttrueNegativeSpikeResults = 0\n",
      "\tfalseNegativeSpikeResults = 0\n",
      "\ttotalSpikeIntervals = 12\t\n",
      "\ttestSpikesFiredInInterval = np.array([[False]*(totalSpikeIntervals+1)]*dictionaryLongitude)\n",
      "\tIdSpikeFired = np.array([[False]*numberOfPixels]*dictionaryLongitude); \n",
      "\ttestIdSpikeFired = np.array([[False]*numberOfPixels]*dictionaryLongitude); \n",
      "\tIsSpikeFired = np.array([False]*dictionaryLongitude); \n",
      "\ttestIsSpikeFired = np.array([False]*dictionaryLongitude);\t\n",
      "\tUmSpikeFired = np.array([False]*dictionaryLongitude); \n",
      "\t#testUmSpikeFired = np.array([False]*dictionaryLongitude); \n",
      "\tIdRefractoryPeriod = np.array([[False]*numberOfPixels]*dictionaryLongitude); \n",
      "\ttestIdRefractoryPeriod = np.array([[False]*numberOfPixels]*dictionaryLongitude); \n",
      "\tIsRefractoryPeriod = np.array([False]*dictionaryLongitude); \n",
      "\ttestIsRefractoryPeriod = np.array([False]*dictionaryLongitude); \n",
      "\tUmRefractoryPeriod = np.array([False]*dictionaryLongitude); \n",
      "\ttestUmRefractoryPeriod = np.array([False]*dictionaryLongitude); \n",
      "\trefractoryGraphingSwitch = False\n",
      "\n",
      "\tcorrectSpikes = np.array([[1]*totalSpikeIntervals]*dictionaryLongitude);#[[1] * totalSpikeIntervals]*dictionaryLongitude\n",
      "\tcorrectSpikes[0][3:12] = 0\n",
      "\tcorrectSpikes[1][0:3] = 0\n",
      "\tcorrectSpikes[1][6:12] = 0\n",
      "\tcorrectSpikes[2][0:6] = 0\n",
      "\tcorrectSpikes[2][9:12] = 0\n",
      "\tcorrectSpikes[3][0:9] = 0\n",
      "    \n",
      "\tM = None\n",
      "\ttestM = None\n",
      "\tUmM3 = None\n",
      "\ttestUmM3 = None\n",
      "\ttestSpikeIntervalCounter = 0.0\n",
      "\n",
      "\tprint 'initial Weights\\n',W\n",
      "\n",
      "\tdef run_model(self):\n",
      "\t\tneuralnet = self.neuralnet\n",
      "\t\tdictionary = self.dictionary\n",
      "\t\tspiketimes = self.spiketimes\n",
      "\t\t#self.ADDSNeuronModel2 = self.ADDSNeuronModel\n",
      "\t\t#dv/dt = (-v+((RmZ/volt)*(IdVZ)))/(tauMZ) : volt (unless refractory)\n",
      "\t\t#dv/dt = (-v+((RmZ/volt)*(IdVZ)))/(tauMZ) : volt (unless refractory)\n",
      "\t\teqs = Equations('''\n",
      "\t\t\tdv/dt = (-v+((RmZ/mV)*(IdVZ)))/(20*ms) : volt (unless refractory)\n",
      "\t\t\tRmZ = 80*mV : volt\n",
      "\t\t\ttauMZ = 30*ms : second\n",
      "\t\t\tIdVZ : volt\n",
      "\t        V : volt\n",
      "\t        DendI : volt\n",
      "\t        SynI : volt\n",
      "\t        v2 : volt\t\n",
      "\t\t\ttestUmSpikeFired : volt\t\n",
      "\t\t\tlateralInhibActive : boolean\n",
      "\t\t\trefractoryPointSwitch : boolean\t\n",
      "\t\t    ''')\t\t\t\n",
      "\n",
      "\t\t#dv/dt = (-v+((r/volt)*dirac))/(tau) : volt (unless refractory)\n",
      "\t\t#dv/dt = (-v+((r/mV)*(w/mV)*dirac))/(tau) : volt (unless refractory)\n",
      "\t\t#dv/dt = (-v+(3*mV))/(20*ms) : volt (unless refractory)\n",
      "\t\t#dv/dt = (-v+((r/volt)*(w/volt)*dirac*.001))/(tau) : volt (unless refractory)\n",
      "\t\tdendriteEqs = Equations('''\n",
      "\t\t\tdv/dt = (-v+((r/volt)*(w/volt)*dirac))/(tau) : volt (unless refractory)\n",
      "\t\t\tV : volt\n",
      "\t        r : volt\n",
      "\t        w : volt\n",
      "\t        dirac : volt\n",
      "\t        tau : second\n",
      "\t        v2: volt\n",
      "\t\t\t''')\n",
      "\n",
      "\t\tdirectToSomaEqs = Equations('''\n",
      "\t\t\tdv/dt = (-v+summedWandIDirac)/(tauMZ) : volt (unless refractory)\n",
      "\t\t\ttauMZ = 30*ms : second\n",
      "\t\t\tIdVZ : volt\n",
      "\t        V : volt\n",
      "\t        DendI : volt\n",
      "\t        SynI : volt\n",
      "\t        v2 : volt\n",
      "\t\t\t''')\t\t\n",
      "\n",
      "\t\t'''myclock=Clock(dt=1*ms)\n",
      "\t\ttestMyclock=Clock(dt=1*ms)\t\t\n",
      "\n",
      "\t\tADDS = NeuronGroup(N=4, model=eqs,threshold='v>.01*mV', reset='v=-0.002 * mV; dv=0; IdVZ = 0*mV;v2=10*mV',refractory=10*ms,clock=myclock)\n",
      "\t\ttestADDS = NeuronGroup(N=4, model=testEqs,threshold='vTest>.01*mV', reset='vTest=-0.002 * mV; dvTest=0; IdVZTest = 0*mV;v2Test=10*mV;lateralInhibActive=True',refractory=10*ms,clock=testMyclock)'''\n",
      "\n",
      "\t\tclass ADDSNeuronModel(NeuronGroup, gupta_paper): \n",
      "\t\t\tneuronIndex = self.neuronIndex\n",
      "\t\t\trefractoryPointCounter = self.refractoryPointCounter\n",
      "\t\t\tcalcDirac2 = None\n",
      "\t\t\tdef __init__(self, params): \n",
      "\t\t\t\tmyclock=Clock(dt=1*ms)\n",
      "\t\t\t\tNeuronGroup.__init__(self, N=4, model=eqs,threshold='v>10*mV', reset='v=-0.002 * mV; dv=0; IdVZ = 0*mV;v2=10*mV',refractory=10*ms,clock=myclock)\n",
      "\t\t\t\t#NeuronGroup.__init__(self, N=15, model=dendriteEqs,threshold='v>.002*mV', reset='v=-0.002 * mV',refractory=0.3*ms) \n",
      "\t\t\t\t@network_operation \n",
      "\t\t\t\tdef additionToNetwork(): \n",
      "\t\t\t\t\tneuronIndex = self.neuronIndex\n",
      "\t\t\t\t\tspikeIntervalCounter = (floor(self.time/spikeIntervalUnformatted) * spikeIntervalUnformatted)*10\n",
      "\t\t\t\t\t#print 'neuronIndex', self.neuronIndex, 'self.time', self.time,'ADDS.t', ADDS.t, 'ADDS.v', ADDS.v[neuronIndex]\n",
      "\t\t\t\t\t#print 'neuronIndex', neuronIndex, 'self.time', self.time, 'refractoryPointCounter',self.refractoryPointCounter,'ADDS.t', ADDS.t, 'testADDS.vTest', testADDS.vTest\n",
      "\t\t\t\t\t#print 'neuronIndex', self.neuronIndex, 'self.time', self.time, 'ADDS.t', ADDS.t, 'ADDS.IdVZ', ADDS.IdVZ[neuronIndex]\n",
      "\t\t\t\t\t#print 'neuronIndex', neuronIndex, 'self.time', self.time, 'ADDS.t', ADDS.t, 'testADDS.IdVTest', testADDS.IdVTest\n",
      "\n",
      "\t\t\t\t\t#returnUm(self)\n",
      "\n",
      "\t\t\t\t\tdef timePeriodAndRefractoryCalcs():\n",
      "\t\t\t\t\t\tneuronIndex = self.neuronIndex\n",
      "\t\t\t\t\t\trefractoryPointCounter = self.refractoryPointCounter\n",
      "\t\t\t\t\t\t#refractoryPointSwitch = self.refractoryPointSwitch\n",
      "\t\t\t\t\t\tneuronIndexCounter = self.neuronIndexCounter\n",
      "\t\t\t\t\t\tneuronIndexSwitch = self.neuronIndexSwitch\n",
      "\t\t\t\t\t\ttime = self.time\n",
      "\n",
      "\t\t\t\t\t\ttime = time + self.timeStepInterval\n",
      "\t\t\t\t\t\t#self.timing.append(time)\n",
      "\t\t\t\t\t\trefractoryPointCounter = refractoryPointCounter + self.timeStepInterval\n",
      "\t\t\t\t\t\t# if statement below corrects for offset of spiketimes starting at .1 sec.\n",
      "\t\t\t\t\t\tif time >= .1:\n",
      "\t\t\t\t\t\t\tneuronIndexCounter = neuronIndexCounter + self.timeStepInterval\n",
      "\n",
      "\t\t\t\t\t\t#print '===+++__','time',time,'refractoryPointCounter',refractoryPointCounter\n",
      "\n",
      "\t\t\t\t\t\t# At the end of each spike time interval refractory period is turned off and weight changes\n",
      "\t\t\t\t\t\t# are calculated.  Refractory turning off here * is not correct * because it can occur for\n",
      "\t\t\t\t\t\t# less than the set refractory period.  I am just using it for the time being for testing.\n",
      "\t\t\t\t\t\tself.refractoryPointSwitch = False\n",
      "\t\t\t\t\t\tif refractoryPointCounter >= spikeIntervalUnformatted:\n",
      "\t\t\t\t\t\t\t#refractoryPointCounter = 0.009\n",
      "\t\t\t\t\t\t\trefractoryPointCounter = 0.000\n",
      "\t\t\t\t\t\t\tself.refractoryPointSwitch = True\n",
      "\t\t\t\t\t\t\tself.lastSpikeInterval = time-self.timeStepInterval\n",
      "\t\t\t\t\t\t\t#self.lastSpikeInterval = self.time\n",
      "\t\t\t\t\t\t\tWeightChangeCalculation()\n",
      "\t\t\t\t\t\t\t# Report weights at different times\n",
      "\t\t\t\t\t\t\t#if self.time == 1.081 or self.time == 2.081 or self.time == 4.081 or self.time == 8.081 or self.time == 12.081:\n",
      "\t\t\t\t\t\t\t'''if self.currentEpoch == 2 or self.currentEpoch == 4 or self.currentEpoch == 8 or self.currentEpoch == 10 or self.currentEpoch == 12:\n",
      "\t\t\t\t\t\t\t\tprint 'self.time:\\t',self.time,'\\tself.currentEpoch\\t',self.currentEpoch,'\\tcurrent neuront\\t',self.neuronIndex\n",
      "\t\t\t\t\t\t\t\tprint '0',W[0][:]\n",
      "\t\t\t\t\t\t\t\tprint '1',W[1][:]\n",
      "\t\t\t\t\t\t\t\tprint '2',W[2][:]\n",
      "\t\t\t\t\t\t\t\tprint '3',W[3][:]'''\n",
      "\n",
      "\t\t\t\t\t\tneuronIndexSwitch = False\n",
      "\t\t\t\t\t\tif neuronIndexCounter >= (spikeIntervalUnformatted*3):\n",
      "\t\t\t\t\t\t\t#neuronIndexCounter = 0.009\n",
      "\t\t\t\t\t\t\tneuronIndexCounter = 0.0000\n",
      "\t\t\t\t\t\t\tneuronIndexSwitch = True\n",
      "\t\t\t\t\t\t\t# add epoch every epoch ms duration.  Occurs when a full series of input charactors has\n",
      "\t\t\t\t\t\t\t# occured and a new one starts.  self.neuronIndex == 3 really means it will roll back to\n",
      "\t\t\t\t\t\t\t# self.neuronIndex == 3 after neuronIndex is added\n",
      "\t\t\t\t\t\t\tif self.neuronIndex == 3:\n",
      "\t\t\t\t\t\t\t\tself.currentEpoch = self.currentEpoch + 1\t\t\n",
      "\t\t\t\t\t\t\t# Clear prior settings.  TODO: figure out if this would be updated anyway if dirac is triggered by spiketimes\n",
      "\t\t\t\t\t\t\t# if the spike input would have really activated it.\n",
      "\t\t\t\t\t\t\tdend[neuronIndex].dirac = [0*volt]*len(dend[neuronIndex][:])\n",
      "\n",
      "\t\t\t\t\t\t# revision of when new neuron index is used.  new neuron every 300ms\n",
      "\t\t\t\t\t\tif neuronIndexSwitch == True:\n",
      "\t\t\t\t\t\t\tneuronIndex = neuronIndex + 1\n",
      "\n",
      "\t\t\t\t\t\tif neuronIndex == 4: \n",
      "\t\t\t\t\t\t\tneuronIndex = 0\n",
      "\n",
      "\t\t\t\t\t\tfor vCheck in range(len(ADDS.v2)):\n",
      "\t\t\t\t\t\t\tif ADDS.v2[vCheck] == 10*mV:\n",
      "\t\t\t\t\t\t\t\tADDS.v2[vCheck] = 0*mV\n",
      "\t\t\t\t\t\t\t\t# Clear prior settings.  These are workarounds to avoid an unwanted lingering voltage in\n",
      "\t\t\t\t\t\t\t\t# the dend input after the training section for its neuron index is done.  TODO: see if there\n",
      "\t\t\t\t\t\t\t\t# is a better biologically accurate way for this if needed\n",
      "\t\t\t\t\t\t\t\tdend[neuronIndex].dirac = [0*volt]*len(dend[neuronIndex][:])\n",
      "\t\t\t\t\t\t\t\tdend[neuronIndex].v = [0*volt]*len(dend[neuronIndex][:])\n",
      "\n",
      "\t\t\t\t\t\tself.neuronIndex = neuronIndex\n",
      "\t\t\t\t\t\tself.time = time\n",
      "\t\t\t\t\t\tself.refractoryPointCounter = refractoryPointCounter\n",
      "\t\t\t\t\t\t#self.refractoryPointSwitch = refractoryPointSwitch\n",
      "\t\t\t\t\t\tself.neuronIndexCounter = neuronIndexCounter\t\t\t\n",
      "\t\t\t\t\t\tself.neuronIndexSwitch = neuronIndexSwitch\n",
      "\n",
      "\t\t\t\t\tdef WeightChangeCalculation():\n",
      "\t\t\t\t\t\tfor inputNeuronIndex in range(numberOfPixels):\n",
      "\t\t\t\t\t\t\t## General STDP learning rule implementation ##\n",
      "\t\t\t\t\t\t\t# Find SpikePreSyn if it exists\n",
      "\t\t\t\t\t\t\t# Note: could replace this with use of dictionary data structure for lookups if convenient\n",
      "\t\t\t\t\t\t\t# for processing time later\n",
      "\n",
      "\t\t\t\t\t\t\t# SpikePreSyn not found than make it max distance from SpikePostSyn\n",
      "\t\t\t\t\t\t\t# TODO SpikePreSyn = 0.1 # (Max spike time interval distance)\n",
      "\t\t\t\t\t\t\t# round up to nearest 100ms interval\n",
      "\t\t\t\t\t\t\tSpikePreSyn = (math.ceil(self.time*10)*.1)*second\n",
      "\t\t\t\t\t\t\t# SpikePostSyn not found than make it max distance from SpikePreSyn\n",
      "\t\t\t\t\t\t\t# TODO SpikePostSyn = 0.0\n",
      "\t\t\t\t\t\t\t#SpikePostSyn = 0*ms\n",
      "\t\t\t\t\t\t\tSpikePostSyn = (math.floor(self.time*10)*.1)*second\n",
      "\n",
      "\t\t\t\t\t\t\tpreSynSpikeFound = False\n",
      "\t\t\t\t\t\t\tpostSynSpikeFound = False\n",
      "\n",
      "\t\t\t\t\t\t\tspikeCollection = spiketimes\n",
      "\t\t\t\t\t\t\tNumberOfSpikes = shape(spikeCollection)[0]\n",
      "\t\t\t\t\t\t\tfor i in range(NumberOfSpikes):\n",
      "\t\t\t\t\t\t\t\tCurrentSpikeNueron = spikeCollection[i][0]\n",
      "\t\t\t\t\t\t\t\tCurrentSpikeTime = spikeCollection[i][1]*second\n",
      "\n",
      "\t\t\t\t\t\t\t\t# exit loop once values below current time elapsed have all been checked\n",
      "\t\t\t\t\t\t\t\tif CurrentSpikeTime > (self.time*second):\n",
      "\t\t\t\t\t\t\t\t\t#print 'eeww1:\\tspiketimes\\t',spiketimes,'\\tqq\\t',CurrentSpikeTime\n",
      "\t\t\t\t\t\t\t\t\tbreak\n",
      "\n",
      "\t\t\t\t\t\t\t\t# (self.time*second-.1*second) is to check if in relevant time window below.\n",
      "\t\t\t\t\t\t\t\t# Note: that may not be a good cut off and I should check it\n",
      "\t\t\t\t\t\t\t\t# added < self.time just for testing\n",
      "\t\t\t\t\t\t\t\tif CurrentSpikeNueron == inputNeuronIndex and CurrentSpikeTime > (self.time*second-.1*second):# and CurrentSpikeTime < (self.time*second):\n",
      "\t\t\t\t\t\t\t\t\tSpikePreSyn = CurrentSpikeTime\n",
      "\t\t\t\t\t\t\t\t\tpreSynSpikeFound = True\n",
      "\n",
      "\t\t\t\t\t\t\t# Find SpikePostSyn if exists\n",
      "\t\t\t\t\t\t\t#spikeCollection = M.spikes\n",
      "\t\t\t\t\t\t\tspikeCollection = M.it\n",
      "\t\t\t\t\t\t\t#print 'spikeCollection',spikeCollection\n",
      "\t\t\t\t\t\t\t#print 'spikeCollection', spikeCollection\n",
      "\t\t\t\t\t\t\tNumberOfSpikes = len(spikeCollection[0])\n",
      "\t\t\t\t\t\t\tfor i in range(NumberOfSpikes):\n",
      "\t\t\t\t\t\t\t\t#CurrentSpikeNueron = spikeCollection[i][0]\n",
      "\t\t\t\t\t\t\t\t#CurrentSpikeTime = spikeCollection[i][1]*1000\n",
      "\t\t\t\t\t\t\t\tCurrentSpikeNueron = spikeCollection[0][i]\n",
      "\t\t\t\t\t\t\t\t#CurrentSpikeTime = spikeCollection[1][i]*1000\n",
      "\t\t\t\t\t\t\t\tCurrentSpikeTime = spikeCollection[1][i]*10\n",
      "\t\t\t\t\t\t\t\t#print 'CurrentSpikeNueron',CurrentSpikeNueron,'CurrentSpikeTime',CurrentSpikeTime,'self.time*second',self.time*second\n",
      "\n",
      "\t\t\t\t\t\t\t\t# exit loop once values below current time elapsed have all been checked\n",
      "\t\t\t\t\t\t\t\t# Disabled due to spikeCollection not being sorted and causing break too early\n",
      "\t\t\t\t\t\t\t\t#if CurrentSpikeTime > (self.time*second):\n",
      "\t\t\t\t\t\t\t\t#\tbreak\n",
      "\n",
      "\t\t\t\t\t\t\t\t# (self.time*second-.1*second) is to check if in relevant time window below.\n",
      "\t\t\t\t\t\t\t\t# Note: that may not be a good cut off and I should check it\n",
      "\t\t\t\t\t\t\t\t# * Important difference: CurrentSpikeNueron is compared to self.neuronIndex and not inputNeuronIndex here\n",
      "\t\t\t\t\t\t\t\t# added (.1+.008)\n",
      "\t\t\t\t\t\t\t\tif CurrentSpikeNueron == self.neuronIndex and CurrentSpikeTime >= (self.time*second-(.1+.008)*second) and CurrentSpikeTime <= (self.time*second):\n",
      "\t\t\t\t\t\t\t\t\tSpikePostSyn = CurrentSpikeTime\t\n",
      "\t\t\t\t\t\t\t\t\tpostSynSpikeFound = True\t\n",
      "\n",
      "\t\t\t\t\t\t\tif preSynSpikeFound == False or postSynSpikeFound == False:\n",
      "\t\t\t\t\t\t\t\t# Todo: watch more for spikes in a relevant time frame but are actually from different synapses and would\n",
      "\t\t\t\t\t\t\t\t# give different results?  could cause unwanted results? brain would know synapse difference?\n",
      "\n",
      "\t\t\t\t\t\t\t\t## todo: currently included is logic for processing if SpikePostSyn or SpikePreSyn were not found?\n",
      "\n",
      "\t\t\t\t\t\t\t\tif preSynSpikeFound == False and postSynSpikeFound == True:\n",
      "\t\t\t\t\t\t\t\t\tSpikePreSyn = SpikePostSyn + .1*second\n",
      "\t\t\t\t\t\t\t\t\t#print 'F T'\n",
      "\t\t\t\t\t\t\t\telif preSynSpikeFound == True and postSynSpikeFound == False:\n",
      "\t\t\t\t\t\t\t\t\t# Note: does postSynSpikeFound need to be true for the weight to be allowed to increase?\n",
      "\t\t\t\t\t\t\t\t\tSpikePostSyn = SpikePreSyn - .1*second\n",
      "\t\t\t\t\t\t\t\t\t#print 'T F'\n",
      "\t\t\t\t\t\t\t\t#else:\n",
      "\t\t\t\t\t\t\t\t\t#print 'F F'\n",
      "\n",
      "\t\t\t\t\t\t\t#SpikePreSyn = 500*ms\n",
      "\t\t\t\t\t\t\t#SpikePostSyn = 700*ms\n",
      "\t\t\t\t\t\t\t#print 'neuronIndex', self.neuronIndex, 'inputNeuronIndex',inputNeuronIndex,'self.time', self.time, 'ADDS.v2',ADDS.v2, 'preSynSpikeFound',preSynSpikeFound,'postSynSpikeFound',postSynSpikeFound,'SpikePostSyn', SpikePostSyn, 'SpikePreSyn', SpikePreSyn\n",
      "\n",
      "\t\t\t\t\t\t\t# Find DeltaW\n",
      "\t\t\t\t\t\t\tDeltaW = returnDeltaW(SpikePreSyn, SpikePostSyn)  \n",
      "\n",
      "\t\t\t\t\t\t\t# Find new weight\n",
      "\t\t\t\t\t\t\tWOld = W[self.neuronIndex][inputNeuronIndex];\n",
      "\n",
      "\t\t\t\t\t\t\tW[self.neuronIndex][inputNeuronIndex] = returnNewW(WOld, DeltaW);\n",
      "\n",
      "\t\t\t\t\t\t\tdend[self.neuronIndex].w[inputNeuronIndex] = W[self.neuronIndex][inputNeuronIndex]*volt\n",
      "\n",
      "\t\t\t\t\tdef returnDeltaW(SpikePreSyn, SpikePostSyn):\n",
      "\t\t\t\t\t\tDeltaSpikeTime = SpikePreSyn - SpikePostSyn\n",
      "\t\t\t\t\t\t# TODO: figure out if DeltaW = 0 is really fine for init value\n",
      "\t\t\t\t\t\tDeltaW = 0\n",
      "\t\t\t\t\t\t# changed below line from that content in the article for a workaround/temp fix\n",
      "\t\t\t\t\t\t#if DeltaSpikeTime < 0:\n",
      "\t\t\t\t\t\tif DeltaSpikeTime <= 0:\n",
      "\t\t\t\t\t\t\tDeltaW = APlus * (e ** (DeltaSpikeTime / (TauPlus*ms)))\n",
      "\t\t\t\t\t\t\t# for testing\n",
      "\t\t\t\t\t\t\tDeltaW = 1\n",
      "\t\t\t\t\t\telif DeltaSpikeTime > 0:\n",
      "\t\t\t\t\t\t\tDeltaW = AMinus * (e ** (-DeltaSpikeTime / (TauMinus*ms)))\t\n",
      "\t\t\t\t\t\t\t# for testing\n",
      "\t\t\t\t\t\t\tDeltaW = -1\n",
      "\n",
      "\t\t\t\t\t\t# testing\n",
      "\t\t\t\t\t\t#print 'self.time',self.time,'SpikePreSyn',SpikePreSyn,'SpikePostSyn',SpikePostSyn,'DeltaSpikeTime',DeltaSpikeTime,'DeltaW',DeltaW\n",
      "\t\t\t\t\t\t#if \t(t*ms) - SpikePreSyn > (1*ms):\n",
      "\t\t\t\t\t\t#\tDeltaW = .5\n",
      "\t\t\t\t\t\t#else:\n",
      "\t\t\t\t\t\t#\tDeltaW = -.5\t\t\t\t\n",
      "\n",
      "\t\t\t\t\t\treturn DeltaW\n",
      "\n",
      "\t\t\t\t\tdef returnNewW(WOld, DeltaW):\n",
      "\t\t\t\t\t\t# W is weight\n",
      "\t\t\t\t\t\tsynapseType = 'excitatory'\n",
      "\t\t\t\t\t\t# Default 'excitatory' values\n",
      "\t\t\t\t\t\tWMin = 0;\n",
      "\t\t\t\t\t\tWMax = 1;\n",
      "\t\t\t\t\t\tif synapseType == 'inhibitory':\n",
      "\t\t\t\t\t\t\tWMin = -1;\n",
      "\t\t\t\t\t\t\tWMax = 0;\t\t\n",
      "\t\t\t\t\t\t\t\n",
      "\t\t\t\t\t\t#print 'DeltaW', DeltaW\n",
      "\t\t\t\t\t\t## Relaxation rule implementation ##\n",
      "\t\t\t\t\t\tif DeltaW >= 0:\t\t\t\t\n",
      "\t\t\t\t\t\t\tWNew = WOld + (LearningRate * (DeltaW * (WMax - WOld)))\n",
      "\t\t\t\t\t\t\t\n",
      "\t\t\t\t\t\telif DeltaW < 0:\t\n",
      "\t\t\t\t\t\t\tWNew = WOld + (LearningRate * (DeltaW * (WOld - WMin)))\n",
      "\t\t\t\t\t\t#print 'WOld', WOld\n",
      "\t\t\t\t\t\t#print 'WNew', WNew\n",
      "\n",
      "\t\t\t\t\t\treturn WNew;\n",
      "\t\t\t\t\t\t##\t\n",
      "\n",
      "\t\t\t\t\tdef tauDCalc(neuronIndex, dendObject, W):\n",
      "\t\t\t\t\t\t# Weight loop\n",
      "\t\t\t\t\t\tfor WIndex in range(len(W[0][:])):\n",
      "\t\t\t\t\t\t\tif abs(W[neuronIndex][WIndex]) <= 1:\n",
      "\t\t\t\t\t\t\t\tdendObject[neuronIndex].tau[WIndex] = (tauMax - abs(W[neuronIndex][WIndex])*(tauMax-tauMin)) * .001 * second# .001 is scaling factor found in dirac method\n",
      "\n",
      "\t\t\t\t\t\treturn dendObject[neuronIndex].tau\n",
      "\n",
      "\t\t\t\t\tdef resistanceCalc(neuronIndex, dendObject, R):\n",
      "\t\t\t\t\t\ttauM = self.tauM\n",
      "\t\t\t\t\t\t#Resistance loop\n",
      "\t\t\t\t\t\tfor RIndex in range(len(R[0][:])):\t\t\t\t\n",
      "\t\t\t\t\t\t\tif (dendObject[neuronIndex].tau[RIndex]*.001 == tauM*second):\n",
      "\t\t\t\t\t\t\t\t# avoid a division by 0 issue\n",
      "\t\t\t\t\t\t\t\ttauM = tauM - .000001\n",
      "\n",
      "\t\t\t\t\t\t\tdendObject[neuronIndex].r[RIndex] = (((((dendObject[neuronIndex].tau[RIndex]*.001)/ms)*neuronFiringThreshold) / Rm) * ((tauM / ((dendObject[neuronIndex].tau[RIndex]/ms)*.001) ) ** (tauM / (tauM - ((dendObject[neuronIndex].tau[RIndex]/ms)*.001) ))))*volt\n",
      "\n",
      "\t\t\t\t\t\treturn dendObject[neuronIndex].r\t\t\t\t\n",
      "\n",
      "\t\t\t\t\tdef mainSimulationCalcs():\n",
      "\t\t\t\t\t\t# dirac\n",
      "\t\t\t\t\t\t#dend[neuronIndex].dirac = self.diracCalc(dend, False)#super(gupta_paper, run_model).diracCalc(dend, False)\n",
      "\t\t\t\t\t\tdend[neuronIndex].dirac = self.diracCalc(dend, False, self.time, math.e, self.neuronIndex, spiketimes,self.lastSpikeInterval)\n",
      "\t\t\t\t\t\t'''print 'neuronIndex',self.neuronIndex,'time',self.time\n",
      "\t\t\t\t\t\tprint 'dend.dirac',dend[0].dirac,dend[1].dirac,dend[2].dirac,dend[3].dirac\n",
      "\t\t\t\t\t\tprint 'dend.v',dend[0].v,dend[1].v,dend[2].v,dend[3].v\n",
      "\t\t\t\t\t\tprint 'sum(dend[neuronIndex].v[:])',sum(dend[neuronIndex].v[:])\n",
      "\t\t\t\t\t\tprint 'Prelim Weights\\n0',dend[0].w[:]\n",
      "\t\t\t\t\t\tprint '1',dend[1].w[:]\n",
      "\t\t\t\t\t\tprint '2',dend[2].w[:]\n",
      "\t\t\t\t\t\tprint '3',dend[3].w[:]\n",
      "\t\t\t\t\t\tprint 'Prelim Tau\\n0',dend[0].tau[:]\n",
      "\t\t\t\t\t\tprint '1',dend[1].tau[:]\n",
      "\t\t\t\t\t\tprint '2',dend[2].tau[:]\n",
      "\t\t\t\t\t\tprint '3',dend[3].tau[:]\t\t\t\t\t\n",
      "\t\t\t\t\t\tprint 'Prelim Res\\n0',dend[0].r[:]\n",
      "\t\t\t\t\t\tprint '1',dend[1].r[:]\n",
      "\t\t\t\t\t\tprint '2',dend[2].r[:]\n",
      "\t\t\t\t\t\tprint '3',dend[3].r[:]'''\n",
      "\t\t\t\t\t\t'''for i in range(4):\n",
      "\t\t\t\t\t\t\tif i != neuronIndex:\n",
      "\t\t\t\t\t\t\t\tdend[i].dirac = [0*volt]*15'''\n",
      "\n",
      "\t\t\t\t\t\t# Calculate tauD\n",
      "\t\t\t\t\t\ttauD = self.tauD\n",
      "\t\t\t\t\t\ttauD = tauDCalc(neuronIndex, dend, W)\n",
      "\t\t\t\t\t\t#self.tauD = tauD # this line is just for resutls reporting and can be removed later\n",
      "\t\t\t\t\t\t#print 'tauD',tauD\n",
      "\n",
      "\t\t\t\t\t\t# Calculate resistance\n",
      "\t\t\t\t\t\tR = self.R\n",
      "\t\t\t\t\t\tR = resistanceCalc(neuronIndex, dend, R)\n",
      "\t\t\t\t\t\t#self.R = R # this line is just for resutls reporting and can be removed later\n",
      "\t\t\t\t\t\t#print 'R',R\n",
      "\n",
      "\t\t\t\t\t\t# Record sum of dend voltage\n",
      "\t\t\t\t\t\t#ADDS.IdVZ[neuronIndex] = sum(dend[neuronIndex].v[:])#0.0375*mV \n",
      "\t\t\t\t\t\tfor i in range(4):\n",
      "\t\t\t\t\t\t\tADDS.IdVZ[i] = sum(dend[i].v[:])\n",
      "\t\t\t\t\t\t'''for i in range(4):\n",
      "\t\t\t\t\t\t\tif i != neuronIndex:\n",
      "\t\t\t\t\t\t\t\tADDS.IdVZ[i] = 0*volt'''\n",
      "\t\t\t\t\t\t#print '::ADDS.IdVZ::\\t', ADDS.IdVZ\n",
      "\t\t\t\t\t\t#print 'ADDS.v2',ADDS.v2\n",
      "\n",
      "\t\t\t\t\t\ttimePeriodAndRefractoryCalcs()\n",
      "\n",
      "\t\t\t\t\tmainSimulationCalcs()\n",
      "\n",
      "\t\t\t\tself.contained_objects.append(additionToNetwork)\t\n",
      "\n",
      "\t\t\tdef diracCalc(self, IDend, evaluationActive, time, e, neuronIndex, spiketimes,lastSpikeInterval):\n",
      "\t\t\t\t# This method only calculates dirac\n",
      "\t\t\t\t'''time = self.time\n",
      "\t\t\t\te = math.e\n",
      "\t\t\t\tneuronIndex = self.neuronIndex'''\n",
      "\n",
      "\n",
      "\t\t\t\t#print ':::range(len(IDend[neuronIndex][:])\\t','self.time\\t',self.time,'\\tneuronIndex\\t',neuronIndex,'\\t',IDend,'\\t',IDend[neuronIndex]\n",
      "\n",
      "\t\t\t\t# normalize t to count just time within spike interval.  Formula from article just uses t in a way\n",
      "\t\t\t\t# relative to the spike interval it seems and therefore that approach is applied to the formula here.\t\n",
      "\t\t\t\t#tNorm = time - (floor(time/spikeIntervalUnformatted) * spikeIntervalUnformatted) \n",
      "\n",
      "\t\t\t\tdendGroup = [None]*len(dend[neuronIndex][:])\n",
      "\t\t\t\tfor IdIndex in range(len(dend[neuronIndex][:])):\n",
      "\t\t\t\t\t#tauDen = tauD[neuronIndex][IdIndex]\n",
      "\t\t\t\t\t#r = R[neuronIndex][IdIndex]\n",
      "\t\t\t\t\t#w = W[neuronIndex][IdIndex]\n",
      "\n",
      "\t\t\t\t\t# set tpresyn initially too far to trigger dirac\n",
      "\t\t\t\t\t#tPreSyn = -t - 1\n",
      "\t\t\t\t\ttPreSyn = time + 1\n",
      "\t\t\t\t\tfor presynInd in range(shape(spiketimes)[0]):\n",
      "\t\t\t\t\t\tcomparedSpikeTime = spiketimes[presynInd][1]\n",
      "\n",
      "\t\t\t\t\t\t#print '+++===self.time',self.time,'neuronIndex',neuronIndex,'spiketimes[presynInd][0]',spiketimes[presynInd][0],'comparedSpikeTime',comparedSpikeTime,'IdIndex',IdIndex,'lastSpikeInterval',lastSpikeInterval,'spikeIntervalUnformatted',spikeIntervalUnformatted#,'self.lastSpikeInterval',self.lastSpikeInterval,'spikeIntervalUnformatted',spikeIntervalUnformatted,'IdIndex',IdIndex,'spiketimes[presynInd][0]',spiketimes[presynInd][0]\n",
      "\t\t\t\t\t\t# this is true? -> commented out logic below due to spiketimes perhaps not being in sorted order, a relevant entry could occur after an irrelevant one\n",
      "\t\t\t\t\t\t#if (comparedSpikeTime-spikeIntervalUnformatted) > t:\n",
      "\t\t\t\t\t\t# spike times are in order of earliest to latest times grouped with input pixel number.  therefore the below cutoff in the loop is fine.\n",
      "\t\t\t\t\t\t#if comparedSpikeTime > self.lastSpikeInterval:\n",
      "\t\t\t\t\t\tif comparedSpikeTime > (lastSpikeInterval + spikeIntervalUnformatted):\n",
      "\t\t\t\t\t\t\tbreak\n",
      "\n",
      "\t\t\t\t\t\t#print ':::',comparedSpikeTime,self.lastSpikeInterval,spikeIntervalUnformatted\n",
      "\t\t\t\t\t\t##print 'comparedSpikeTime:::\\t',comparedSpikeTime,'\\t::self.lastSpikeInterval\\t',self.lastSpikeInterval,'spikeIntervalUnformatted',spikeIntervalUnformatted,'spiketimes[presynInd][0] == IdIndex',(spiketimes[presynInd][0] == IdIndex),'IdIndex',IdIndex,'comparedSpikeTime > self.lastSpikeInterval',(comparedSpikeTime > self.lastSpikeInterval),'comparedSpikeTime <= (self.lastSpikeInterval + spikeIntervalUnformatted)',(comparedSpikeTime <= (self.lastSpikeInterval + spikeIntervalUnformatted))\n",
      "\t\t\t\t\t\t'''# spikeIntervalUnformatted included below to have offset where skiping input starting at .1 becomes 0.0, representing input spikes right from\n",
      "\t\t\t\t\t\t# 0.0 to 300 ms, as the input is intended\n",
      "\t\t\t\t\t\t# changed <= to < below to see if that works better\n",
      "\t\t\t\t\t\tif spiketimes[presynInd][0] == IdIndex and (comparedSpikeTime-spikeIntervalUnformatted) < t:'''\n",
      "\t\t\t\t\t\t# checking prior interval for a spike.  This looks for a spike in the prior spike time interval \n",
      "\t\t\t\t\t\t#if spiketimes[presynInd][0] == IdIndex and comparedSpikeTime > (self.lastSpikeInterval - spikeIntervalUnformatted):\n",
      "\t\t\t\t\t\t#if spiketimes[presynInd][0] == IdIndex and comparedSpikeTime > (self.lastSpikeInterval - (spikeIntervalUnformatted*2)) and comparedSpikeTime <= (self.lastSpikeInterval - spikeIntervalUnformatted):\n",
      "\t\t\t\t\t\t#if spiketimes[presynInd][0] == IdIndex and comparedSpikeTime > (self.lastSpikeInterval - spikeIntervalUnformatted) and comparedSpikeTime <= self.lastSpikeInterval:\n",
      "\t\t\t\t\t\tif spiketimes[presynInd][0] == IdIndex and comparedSpikeTime > lastSpikeInterval and comparedSpikeTime <= (lastSpikeInterval + spikeIntervalUnformatted):\n",
      "\t\t\t\t\t\t\t## adding below if statement to avoid constant input stimulus in evaluation, that seem more accurate to how the article did it's evaulation.\n",
      "\t\t\t\t\t\t\t#print 'tNorm',tNorm\n",
      "\t\t\t\t\t\t\ttNorm2 = time - (floor((time/.001)*.01) * .1)\n",
      "\t\t\t\t\t\t\t#print 'tNorm2',tNorm2\n",
      "\t\t\t\t\t\t\t#if tNorm2 < .02 or evaluationActive == False:\n",
      "\t\t\t\t\t\t\tif True:\n",
      "\t\t\t\t\t\t\t\ttPreSyn = comparedSpikeTime\n",
      "\t\t\t\t\t\t\t\t#print '++++++++++'\n",
      "\n",
      "\t\t\t\t\t#Id2 = IDend[neuronIndex].v[IdIndex]\n",
      "\t\t\t\t\t#Dt = time - tPreSyn\n",
      "\t\t\t\t\tDt = Decimal(format(time, '.8f')) - Decimal(format(tPreSyn, '.8f'))\n",
      "\t\t\t\t\t#print '++++++++Dt++++++++',Dt,'Decimal(format(time, .8f))',Decimal(format(time, '.8f')),'Decimal(format(tPreSyn, .8f))',Decimal(format(tPreSyn, '.8f'))\n",
      "\t\t\t\t\t# self.time == lines below are a workaround for initialization values\n",
      "\t\t\t\t\tif self.time == 0.121 or self.time == 0.421 or self.time == 0.721 or self.time == 1.021:\n",
      "\t\t\t\t\t\tDt = 1.0\n",
      "\t\t\t\t\t##print 'neuronIndex',neuronIndex,'tPreSyn000:',tPreSyn,'Dt',Dt\n",
      "\t\t\t\t\t# dirac function helps allow or disallow signal to be sent from input neurons through dendrite nodes or not\n",
      "\t\t\t\t\t# converted Dt to units which seem to make more sense for dirac function used, not sure if right to do that\n",
      "\t\t\t\t\t# though\n",
      "\t\t\t\t\t# simplify dirac for testing\n",
      "\t\t\t\t\t#DiracFun = 0\n",
      "\t\t\t\t\t#DiracFun = 1/Dt\n",
      "\n",
      "\t\t\t\t\t#SpikeModCoeff = (r*w*DiracFun)\n",
      "\n",
      "\t\t\t\t\t# dirac test\n",
      "\t\t\t\t\t# t in dirac forumula means curent time or last spike time?\t\t\n",
      "\t\t\t\t\t#if (t > -(Dt/2) and t < (Dt/2)):\n",
      "\t\t\t\t\t#if Dt <= spikeIntervalUnformatted:\n",
      "\t\t\t\t\t#SpikeModCoeff = (r*w)\n",
      "\t\t\t\t\tSpikeModCoeff = 0 # leaving this for reference\n",
      "\t\t\t\t\tif evaluationActive == True: SpikeModCoeff *= 0.018#0.018#0.015#0.003#0.01#0.0206325\n",
      "\t\t\t\t\t\n",
      "\t\t\t\t\t#print '***ni:\\t',neuronIndex,'\\tIdIndex\\t',IdIndex,'\\t***w:\\t',w\n",
      "\n",
      "\t\t\t\t\t# correct for scaling\n",
      "\t\t\t\t\t#tauDen = tauDen * .001\n",
      "\t\t\t\t\t\n",
      "\t\t\t\t\t#if -Dt/2<(tNorm or t?)<Dt/2:\n",
      "\t\t\t\t\t#if Dt <= 0.0:\n",
      "\t\t\t\t\tif Dt >= 0.0:\n",
      "\t\t\t\t\t\tif self.time == 0.121 or self.time == 0.421 or self.time == 0.721 or self.time == 1.021:\n",
      "\t\t\t\t\t\t\tDiracFun = 1.00\n",
      "\t\t\t\t\t\t#SpikeModCoeff = .011\n",
      "\t\t\t\t\t\t#DiracFun = 0.66\n",
      "\t\t\t\t\t\t#SpikeModCoeff = (SpikeModCoeff*DiracFun)\n",
      "\t\t\t\t\t\t#tauDen = .03\t\n",
      "\t\t\t\t\t\t#IDend[neuronIndex][IdIndex] = -(SpikeModCoeff - Id2) * (e ** (-tNorm/tauDen)) + SpikeModCoeff\n",
      "\t\t\t\t\t\t#if evaluationActive == True: print 'test IDend2:\\tneuronIndex',neuronIndex,'IdIndex',IdIndex,'self.time',self.time,'IDend[neuronIndex]',IDend[neuronIndex],'SpikeModCoeff',SpikeModCoeff\n",
      "\t\t\t\t\t\tif Dt != 0: \n",
      "\t\t\t\t\t\t\tDiracFun = 1/Dt\n",
      "\t\t\t\t\t\telse:\n",
      "\t\t\t\t\t\t\tDiracFun = 1000\n",
      "\t\t\t\t\t\tdendGroup[IdIndex] = float(DiracFun)*volt*.001 #add .001 as scaling factor\n",
      "\t\t\t\t\telse:\n",
      "\t\t\t\t\t\tDiracFun = 0\n",
      "\t\t\t\t\t\t#SpikeModCoeff = (SpikeModCoeff*DiracFun)\t\t\t\t\t\t\t\t\t\t\t\t\t\t\t\n",
      "\t\t\t\t\t\t#IDend[neuronIndex][IdIndex] = -(SpikeModCoeff - Id2) * (e ** (-tNorm/tauDen)) + SpikeModCoeff\n",
      "\t\t\t\t\t\tdendGroup[IdIndex] = float(DiracFun)*volt*.001\t\t\t\t\t\t\n",
      "\n",
      "\t\t\t\t\t#print 'neuronIndex',neuronIndex,'IdIndex',IdIndex,'dirac\\t',DiracFun\n",
      "\t\t\t\treturn dendGroup\t\t\t\t\n",
      "\n",
      "\t\tclass DendriteNeuronModel(NeuronGroup): \n",
      "\t\t\tdef __init__(self, params): \n",
      "\t\t\t\tdendClock=Clock(dt=1*ms)\n",
      "\t\t\t\tNeuronGroup.__init__(self, N=15, model=dendriteEqs,threshold='v>10*mV', reset='v=-0.002*mV; dv=0; v2=10*mV',refractory=10*ms,clock=dendClock) \n",
      "\t\t\t\t#NeuronGroup.__init__(self, N=15, model=dendriteEqs,threshold='v>.01*mV', reset='v=-0.002*mV; dv=0; v2=10*mV',refractory=10*ms,clock=dendClock) \n",
      "\t\t\t\t#NeuronGroup.__init__(self, N=15, model=dendriteEqs,threshold='v>.002*mV', reset='v=-0.002 * mV',refractory=0.3*ms) \n",
      "\t\t\t\t@network_operation \n",
      "\t\t\t\tdef additionToNetwork(): \n",
      "\t\t\t\t\tplaceHolderForLaterContent = True\n",
      "\t\t\t\tself.contained_objects.append(additionToNetwork)\n",
      "\n",
      "\t\tdend = [None]*dictionaryLongitude\n",
      "\t\ttestDend = [None]*dictionaryLongitude\n",
      "\t\tfor firstLayerIndex in range(dictionaryLongitude):\n",
      "\t\t\tdend[firstLayerIndex] = DendriteNeuronModel(15)\n",
      "\t\t\ttestDend[firstLayerIndex] = DendriteNeuronModel(15)\t\t\t\t\t\n",
      "\n",
      "\t\tclass testADDSNeuronModel(NeuronGroup, gupta_paper): \n",
      "\t\t\ttestW = None\n",
      "\t\t\ttestR = None\n",
      "\t\t\t#time = self.time\n",
      "\t\t\t#intitializeParameters()\n",
      "\n",
      "\t\t\tdef __init__(self, params): \n",
      "\t\t\t\t#self.time = time\n",
      "\t\t\t\ttestMyclock=Clock(dt=1*ms)\n",
      "\t\t\t\tNeuronGroup.__init__(self, N=4, model=eqs,threshold='v>10*mV', reset='v=-0.002 * mV; dv=0; IdVZ = 0*mV;v2=10*mV;testUmSpikeFired=1*mV;lateralInhibActive=True',refractory=10*ms,clock=testMyclock)\n",
      "\t\t\t\t#NeuronGroup.__init__(self, N=4, model=testEqs,threshold='vTest>.002*mV', reset='vTest=-0.002 * mV',refractory=0.3*ms) \n",
      "\t\t\t\t#NeuronGroup.__init__(self, N=15, model=dendriteEqs,threshold='v>.002*mV', reset='v=-0.002 * mV',refractory=0.3*ms) \n",
      "\t\t\t\t@network_operation \n",
      "\t\t\t\tdef additionToNetwork(): \n",
      "\t\t\t\t\ttimeAndRefractoryCalcs()\n",
      "\n",
      "\t\t\t\t\tmainTestSimulationCalcs()\t\t\t\n",
      "\t\t\t\t\t#print '*******time********',ADDS.time\t\t\t\t\t\n",
      "\t\t\t\t\t# classifier performance test\n",
      "\t\t\t\t\tevaluateClassifier()\t\t\t\t\n",
      "\n",
      "\t\t\t\tdef mainTestSimulationCalcs():\n",
      "\t\t\t\t\t# for each charactor input below test the classfication results\n",
      "\t\t\t\t\ttest1 = [None]*4\n",
      "\t\t\t\t\tfor neuronIndex in range(dictionaryLongitude):\n",
      "\t\t\t\t\t\t#testDend[neuronIndex].dirac = ADDS.diracCalc(testDend, False)\n",
      "\t\t\t\t\t\ttestDend[neuronIndex].dirac = ADDS.diracCalc(testDend, True, self.testTime, math.e, neuronIndex, spiketimes,self.testLastSpikeInterval)\n",
      "\t\t\t\t\t\t#print '^^^diracCalc^^^',False, self.testTime, math.e, neuronIndex, self.testLastSpikeInterval\n",
      "\n",
      "\t\t\t\t\t\tfor indexOfDend in range(dictionaryLongitude):\n",
      "\t\t\t\t\t\t\ttestADDS.IdVZ[indexOfDend] = sum(testDend[indexOfDend].v[:])\n",
      "\n",
      "\t\t\t\t\tfor vCheck in range(len(testADDS.v2)):\n",
      "\t\t\t\t\t\tif self.v2[vCheck] == 10*mV:\n",
      "\t\t\t\t\t\t\tself.v2[vCheck] = 0*mV\t\n",
      "\n",
      "\t\t\t\t\t'''print 'testDend.dirac',testDend[0].dirac,testDend[1].dirac,testDend[2].dirac,testDend[3].dirac\n",
      "\t\t\t\t\tprint 'testDend.v',testDend[0].v,testDend[1].v,testDend[2].v,testDend[3].v\n",
      "\t\t\t\t\tprint 'sum(testDend[neuronIndex].v[:])',sum(testDend[neuronIndex].v[:])\t\t\t\t\t\t\t\n",
      "\t\t\t\t\tprint 'Prelim Weights\\n0',testDend[0].w[:]\n",
      "\t\t\t\t\tprint '1',testDend[1].w[:]\n",
      "\t\t\t\t\tprint '2',testDend[2].w[:]\n",
      "\t\t\t\t\tprint '3',testDend[3].w[:]\n",
      "\t\t\t\t\tprint 'Prelim Tau\\n0',testDend[0].tau[:]\n",
      "\t\t\t\t\tprint '1',testDend[1].tau[:]\n",
      "\t\t\t\t\tprint '2',testDend[2].tau[:]\n",
      "\t\t\t\t\tprint '3',testDend[3].tau[:]\t\t\t\t\t\n",
      "\t\t\t\t\tprint 'Prelim Res\\n0',testDend[0].r[:]\n",
      "\t\t\t\t\tprint '1',testDend[1].r[:]\n",
      "\t\t\t\t\tprint '2',testDend[2].r[:]\n",
      "\t\t\t\t\tprint '3',testDend[3].r[:]\t'''\t\t\t\t\n",
      "\n",
      "\t\t\t\tdef timeAndRefractoryCalcs():\n",
      "\t\t\t\t\tself.testTime = self.testTime + self.timeStepInterval\n",
      "\t\t\t\t\tself.testRefractoryPointCounter = self.testRefractoryPointCounter + self.timeStepInterval\t\n",
      "\t\t\t\t\tself.testSpikeIntervalCounter = (floor(self.testTime/spikeIntervalUnformatted) * spikeIntervalUnformatted)*10\n",
      "\n",
      "\t\t\t\t\t#print 'self.testSpikeIntervalCounterself.testSpikeIntervalCounter=',self.testSpikeIntervalCounter,'self.testTime',self.testTime,'spikeIntervalUnformatted',spikeIntervalUnformatted\n",
      "\n",
      "\t\t\t\t\tself.testRefractoryPointSwitch = False\n",
      "\t\t\t\t\t#print 'testRefractoryPointCountertestRefractoryPointCounter=',self.testRefractoryPointCounter\n",
      "\t\t\t\t\tif self.testRefractoryPointCounter >= spikeIntervalUnformatted:\n",
      "\t\t\t\t\t\tself.testRefractoryPointCounter = 0.000\n",
      "\t\t\t\t\t\tself.testRefractoryPointSwitch = True\n",
      "\t\t\t\t\t\tself.testLastSpikeInterval = self.testTime-self.timeStepInterval\t\n",
      "\n",
      "\t\t\t\t\t#print '__+++===','time',self.testTime,'refractoryPointCounter',self.testRefractoryPointCounter\n",
      "\n",
      "\t\t\t\tdef evaluateClassifier():\n",
      "\t\t\t\t\t# Only evaluate results for enough epochs to test each char in input (3 spike interv per char * 4 char = 12 spike intervals total)\n",
      "\t\t\t\t\t# the +1 in (self.timeotalSpikeIntervals+1) is to allow a last refractoryPointSwitch triggered negative spike evaluation to occur.\n",
      "\t\t\t\t\tif self.testSpikeIntervalCounter < (self.totalSpikeIntervals+1):\n",
      "\t\t\t\t\t\tfor neuronIndex in range(dictionaryLongitude):\t\t\t\t\n",
      "\t\t\t\t\t\t\t# Negative results below are only set to be measured after a full spike interval has passed and had the opportunity to have created a spike\n",
      "\t\t\t\t\t\t\t# (self.testSpikeIntervalCounter-1) is to correct for refractoryPointSwitch occuring after spikeInterval it addresses.\n",
      "\t\t\t\t\t\t\t#print 'refractoryPointSwitch = ', self.refractoryPointSwitch\n",
      "\t\t\t\t\t\t\t#print 'refractoryPointSwitch =', self.testRefractoryPointSwitch\n",
      "\t\t\t\t\t\t\t#if self.refractoryPointSwitch == true and (self.testSpikeIntervalCounter > 0):\n",
      "\t\t\t\t\t\t\tif self.testRefractoryPointSwitch == True and (self.testSpikeIntervalCounter > 0):\n",
      "\t\t\t\t\t\t\t\t#if self.testSpikesFiredInInterval[neuronIndex][self.testSpikeIntervalCounter-1] == False:\n",
      "\n",
      "\n",
      "\t\t\t\t\t\t\t\tif (testADDS.testUmSpikeFired[neuronIndex] == 1*mV) and (self.testSpikeIntervalCounter < self.totalSpikeIntervals):\n",
      "\t\t\t\t\t\t\t\t\tif (self.correctSpikes[neuronIndex][self.testSpikeIntervalCounter] == 1):\n",
      "\t\t\t\t\t\t\t\t\t\tself.truePositiveSpikeResults = self.truePositiveSpikeResults + 1\t\n",
      "\t\t\t\t\t\t\t\t\telse:\n",
      "\t\t\t\t\t\t\t\t\t\tself.falsePositiveSpikeResults = self.falsePositiveSpikeResults + 1\t\n",
      "\t\t\t\t\t\t\t\t\t#self.testSpikesFiredInInterval[neuronIndex][self.testSpikeIntervalCounter] = True\t\n",
      "\t\t\t\t\t\t\t\telif (testADDS.testUmSpikeFired[neuronIndex] == 0*mV) and (self.testSpikeIntervalCounter < self.totalSpikeIntervals):\n",
      "\t\t\t\t\t\t\t\t\tif (self.correctSpikes[neuronIndex][(self.testSpikeIntervalCounter-1)] == 1):\n",
      "\t\t\t\t\t\t\t\t\t\tself.falseNegativeSpikeResults = self.falseNegativeSpikeResults + 1\t\t\n",
      "\t\t\t\t\t\t\t\t\telse:\n",
      "\t\t\t\t\t\t\t\t\t\tself.trueNegativeSpikeResults = self.trueNegativeSpikeResults + 1\t\n",
      "\t\t\t\t\t\t\t\ttestADDS.testUmSpikeFired[neuronIndex] = 0*mV\t\n",
      "\t\t\t\t\t\t#print 'results',self.truePositiveSpikeResults,self.falsePositiveSpikeResults,self.trueNegativeSpikeResults,self.falseNegativeSpikeResults\n",
      "\t\t\t\tself.contained_objects.append(additionToNetwork)\n",
      "\n",
      "\t\t\tdef intitializeParameters():\n",
      "\t\t\t\t#tNorm = self.time - (floor(self.time/spikeIntervalUnformatted) * spikeIntervalUnformatted) \n",
      "\t\t\t\ttNorm = self.testTime - (floor((self.testTime/.001)*.01) * .1)\n",
      "\n",
      "\t\t\t\t'''testW = [[1, 0, 1,0, 1, 0,0, 0, 0,0, 1, 0,0, 1, 0],\n",
      "\t\t\t\t[0, 0, 1,0, 1, 0,0, 0, 1,0, 1, 0,0, 0, 1],\n",
      "\t\t\t\t[0, 0, 0,0, 1, 1,0, 1, 1,0, 1, 1,0, 0, 0],\n",
      "\t\t\t\t[0, 0, 1,0, 1, 0,0, 1, 0,0, 1, 0,0, 0, 1]]'''\n",
      "\t\t\t\ttestW = [[0.7004951, 0.00299856, 0.70085791, 0.00369599, 0.70079641, 0.00245995, 0.00433145, 0.00302166, 0.00261059, 0.00338837, 0.70107221, 0.00382794, 0.00391812, 0.7002158, 0.00261986],\n",
      "\t\t\t\t[0.00355271, 0.00352117, 0.70031808, 0.00371104, 0.70217063, 0.00440704, 0.00331328, 0.00297992, 0.70041271, 0.00235294, 0.70154393, 0.00271551, 0.00442378, 0.00403136, 0.70143686],\n",
      "\t\t\t\t[0.00401543, 0.00265892, 0.00361079, 0.00434494, 0.66817783, 0.66848986, 0.00432942, 0.66698178, 0.66919802, 0.00411504, 0.66889164, 0.66714679, 0.00295245, 0.00363973, 0.00374949],\n",
      "\t\t\t\t[0.00527166, 0.00558407, 0.70225087, 0.00466969, 0.70021103, 0.00467829, 0.00430914, 0.69986055, 0.00358859, 0.00480534, 0.70199339, 0.00578071, 0.00583865, 0.00618692, 0.70014918]]\n",
      "\n",
      "\t\t\t\tself.testW = testW\n",
      "\n",
      "\t\t\t\t# Calculate tauD\n",
      "\t\t\t\t#testTauD = self.testTauD\n",
      "\t\t\t\t#testTauD = tauDCalc(neuronIndex, testTauD, testW)\n",
      "\t\t\t\t#print 't:',self.time,'neuronIndex',neuronIndex,'main calc tauDCalc()', testTauD\n",
      "\n",
      "\t\t\t\ttestTauD = [[10.37748461, 29.90900423, 10.33746184, 29.88206559, 10.37939543, 29.928977, 29.932435, 29.89185801, 29.87504059, 29.87123073, 10.39396579, 29.90699629, 29.87304979, 10.39251402, 29.89803348],\n",
      "\t\t\t\t[29.91250761, 29.91511768, 10.36228604, 29.92972817, 10.37676875, 29.92606665, 29.8806098, 29.93119539, 10.37107451, 29.92359325, 10.33742747, 29.91957909, 29.89789419, 29.93362677, 10.38618516],\n",
      "\t\t\t\t[29.89507952, 29.84756941, 29.89640735, 29.85177368, 12.28555811, 12.29181016, 29.88055016, 12.3308681, 12.3610359, 29.90614938, 12.35836972, 12.31503375, 29.87499997, 29.911543, 29.88966829],\n",
      "\t\t\t\t[29.89320623, 29.86032567, 10.35528394, 29.85394614, 10.32808049, 29.85050638, 29.88449768, 10.33466202, 29.82325308, 29.87764556, 10.38815977, 29.83505713, 29.90864456, 29.85475254, 10.32299042]]\n",
      "\n",
      "\t\t\t\t# Calculate resistance\n",
      "\t\t\t\t#testR = self.testR\n",
      "\t\t\t\t#testR = resistanceCalc(neuronIndex, testTauD, testR)\n",
      "\n",
      "\t\t\t\t#Sample output for testing\n",
      "\t\t\t\t'''testR = [[0.01016803758319553, 0.010171374818041036, 0.0083665317732988555, 0.01017281704840039, 0.0048279096384584727, 0.0071335782968518762, 0.010173903373815114, 0.0071306637775638056, 0.0048108924488047102, 0.010175980702300289, 0.0048274813185357644, 0.0071408747375879501, 0.010177025843651875, 0.010178177167130422, 0.0083748475057425463],\n",
      "\t\t\t\t[0.01016803758319553, 0.010171374818041036, 0.0083665317732988555, 0.01017281704840039, 0.0048279096384584727, 0.0071335782968518762, 0.010173903373815114, 0.0071306637775638056, 0.0048108924488047102, 0.010175980702300289, 0.0048274813185357644, 0.0071408747375879501, 0.010177025843651875, 0.010178177167130422, 0.0083748475057425463],\n",
      "\t\t\t\t[0.01016803758319553, 0.010171374818041036, 0.0083665317732988555, 0.01017281704840039, 0.0048279096384584727, 0.0071335782968518762, 0.010173903373815114, 0.0071306637775638056, 0.0048108924488047102, 0.010175980702300289, 0.0048274813185357644, 0.0071408747375879501, 0.010177025843651875, 0.010178177167130422, 0.0083748475057425463],\n",
      "\t\t\t\t[0.01016803758319553, 0.010171374818041036, 0.0083665317732988555, 0.01017281704840039, 0.0048279096384584727, 0.0071335782968518762, 0.010173903373815114, 0.0071306637775638056, 0.0048108924488047102, 0.010175980702300289, 0.0048274813185357644, 0.0071408747375879501, 0.010177025843651875, 0.010178177167130422, 0.0083748475057425463]]'''\n",
      "\t\t\t\ttestR = [[0.0065761, 0.01017929, 0.00657398, 0.01017597, 0.00657434, 0.01018185, 0.01017295, 0.01017918, 0.01018114, 0.01017743, 0.00657273, 0.01017534, 0.01017491, 0.00657773, 0.01018109],\n",
      "\t\t\t\t[0.01017665, 0.0101768, 0.00657714, 0.0101759, 0.00656631, 0.01017259, 0.01017779, 0.01017938, 0.00657658, 0.01018236, 0.00656997, 0.01018064, 0.01017251, 0.01017437, 0.0065706],\n",
      "\t\t\t\t[0.01017233, 0.0101795, 0.01017447, 0.01017058, 0.00697279, 0.00697084, 0.01017066, 0.00698027, 0.0069664, 0.0101718, 0.00696832, 0.00697924, 0.01017795, 0.01017431, 0.01017373],\n",
      "\t\t\t\t[0.01016847, 0.01016698, 0.00656584, 0.01017134, 0.00657776, 0.01017129, 0.01017305, 0.00657981, 0.01017648, 0.01017069, 0.00656734, 0.01016605, 0.01016577, 0.01016411, 0.00657812]]\n",
      "\t\t\t\t#print 't:',self.time,'neuronIndex',neuronIndex,'main calc resistanceCalc()', testR\n",
      "\n",
      "\t\t\t\tself.testR = testR\n",
      "\n",
      "\t\t\t\t#testId[neuronIndex], self.testIdSpikeFired[neuronIndex], self.testIdRefractoryPeriod[neuronIndex] = dentritePostSynapticCurrent2(neuronIndex, testId, self.testIdSpikeFired, self.testIdRefractoryPeriod, testR, testW, self.testSpiketimes, True)\n",
      "\t\t\t\t\n",
      "\t\t\t\tfor indexOfDend in range(dictionaryLongitude):\n",
      "\t\t\t\t\t# TODO see if some of these do not need to be recomputed every time\n",
      "\t\t\t\t\ttestDend[indexOfDend].w = testW[indexOfDend]*volt\n",
      "\t\t\t\t\ttestDend[indexOfDend].tau = testTauD[indexOfDend]*ms\n",
      "\t\t\t\t\ttestDend[indexOfDend].r = testR[indexOfDend]*volt\t\n",
      "\n",
      "\t\t\tdef OutputEvaluationResults(self):\n",
      "\t\t\t\tprint 'Final Weights\\n0',dend[0].w[:]\n",
      "\t\t\t\tprint '1',dend[1].w[:]\n",
      "\t\t\t\tprint '2',dend[2].w[:]\n",
      "\t\t\t\tprint '3',dend[3].w[:]\n",
      "\t\t\t\tprint 'Final Res\\n0',dend[0].r[:]\n",
      "\t\t\t\tprint '1',dend[1].r[:]\n",
      "\t\t\t\tprint '2',dend[2].r[:]\n",
      "\t\t\t\tprint '3',dend[3].r[:]\t\t\n",
      "\t\t\t\tprint '\\n'\n",
      "\t\t\t\tprint '+++ Results +++'\n",
      "\t\t\t\tprint 'Spike results: TP:\\t',self.truePositiveSpikeResults,'\\tFP:\\t',self.falsePositiveSpikeResults,'\\tTN:\\t',self.trueNegativeSpikeResults,'\\tFN:\\t',self.falseNegativeSpikeResults\n",
      "\t\t\t\tprint 'totalSpikeIntervalsTested:\\t',self.totalSpikeIntervals,'\\ttotalCharsPresented:\\t',dictionaryLongitude\n",
      "\t\t\t\tprint 'True positives correct percentage (TP/totalSpikeIntervalsTested):\\t',Decimal(format(self.truePositiveSpikeResults, '.1f'))/Decimal(format(self.totalSpikeIntervals, '.1f')),'\\t(this is the percentage of all true positves that were found)'\n",
      "\t\t\t\tprint 'Total correct percentage (TP+TN/(totalSpikeIntervals*totalCharsPresented)):\\t',(Decimal(format(self.truePositiveSpikeResults, '.1f'))+Decimal(format(self.trueNegativeSpikeResults, '.1f')))/(Decimal(format(self.totalSpikeIntervals, '.1f'))*Decimal(format(dictionaryLongitude, '.1f')))\n",
      "\t\t\t\tprint '+++++++++++++++'\n",
      "\n",
      "\t\t\tintitializeParameters()\n",
      "\n",
      "\t\t#S = Synapses(testADDS, testADDS, pre='vTest -= (vTest*.9)')\n",
      "\t\t#S.connect('i != j') # all-to-all but no self-connections\n",
      "\n",
      "\t\tADDS = ADDSNeuronModel(4)\n",
      "\t\ttestADDS = testADDSNeuronModel(4)\t\n",
      "\n",
      "\t\tdef lateralInhibition(neuronIndex):\n",
      "\t\t\tfor inhibitionNeuronIndex in range(len(testADDS.vTest)):\n",
      "\t\t\t\tif inhibitionNeuronIndex != neuronIndex:\n",
      "\t\t\t\t\ttestADDS.vTest[inhibitionNeuronIndex] -= testADDS.vTest[neuronIndex]*0.5\n",
      "\t\t\t\t\t#a = 1\n",
      "\n",
      "\t\tM = SpikeMonitor(ADDS)\n",
      "\t\tself.M = M # for ipython compatibility\n",
      "\t\ttestM = SpikeMonitor(testADDS)\n",
      "\t\tself.testM = testM\n",
      "\t\tMv = StateMonitor(ADDS, 'V', record=True)\n",
      "\t\ttestMv = StateMonitor(testADDS, 'v', record=True)\n",
      "\t\tMDendI = StateMonitor(ADDS, 'DendI', record=True)\n",
      "\t\tMSynI = StateMonitor(ADDS, 'SynI', record=True)\n",
      "\t\tUmM3 = StateMonitor(ADDS, 'v2', record=True)\n",
      "\t\tself.UmM3 = UmM3 # for ipython compatibility\n",
      "\t\ttestUmM3 = StateMonitor(testADDS, 'v2', record=True)\n",
      "\t\tself.testUmM3 = testUmM3\n",
      "\t\tdendSpikeM = [None]*dictionaryLongitude\n",
      "\t\tdendVoltageM = [None]*dictionaryLongitude\n",
      "\t\ttestDendSpikeM = [None]*dictionaryLongitude\n",
      "\t\ttestDendVoltageM = [None]*dictionaryLongitude\n",
      "\t\tfor firstLayerIndex in range(dictionaryLongitude):\n",
      "\t\t\tdendSpikeM[firstLayerIndex] = SpikeMonitor(dend[firstLayerIndex])\n",
      "\t\t\tdendVoltageM[firstLayerIndex] = StateMonitor(dend[firstLayerIndex], 'v', record=True)\n",
      "\t\t\ttestDendSpikeM[firstLayerIndex] = SpikeMonitor(dend[firstLayerIndex])\n",
      "\t\t\ttestDendVoltageM[firstLayerIndex] = StateMonitor(dend[firstLayerIndex], 'v', record=True)\n",
      "\n",
      "\t\t\tneuralnet.add(dend[firstLayerIndex])\n",
      "\t\t\tneuralnet.add(dendSpikeM[firstLayerIndex])\n",
      "\t\t\tneuralnet.add(dendVoltageM[firstLayerIndex])\n",
      "\t\t\tneuralnet.add(testDend[firstLayerIndex])\n",
      "\t\t\tneuralnet.add(testDendSpikeM[firstLayerIndex])\n",
      "\t\t\tneuralnet.add(testDendVoltageM[firstLayerIndex])\t\t\t\n",
      "\n",
      "\t\tneuralnet.add(ADDS)\n",
      "\t\tneuralnet.add(testADDS)\n",
      "\t\tneuralnet.add(M)\n",
      "\t\tneuralnet.add(testM)\n",
      "\t\tneuralnet.add(testMv)\n",
      "\t\tneuralnet.add(UmM3)\n",
      "\t\tneuralnet.add(testUmM3)\n",
      "\t\tneuralnet.run(500*ms,report='text')\n",
      "\n",
      "\t\ttestADDS.OutputEvaluationResults()\n",
      "\n",
      "\t\tneuronToPlot = 1\n",
      "\t\tsubplot(221)\n",
      "\t\tplot(M.t/ms, M.i, '.')\n",
      "\t\t#plot(M.t/ms, M.i, '.')\n",
      "\t\t#plot(dendSpikeM[0].t/ms, dendSpikeM[0].i, '.')\n",
      "\t\tsubplot(222)\n",
      "\t\tplot(testM.t/ms, testM.i, '.')\n",
      "\t\t#plot(testM.t/ms, testM.i, '.')\n",
      "\t\t#plot(dendSpikeM[0].t/ms, dendSpikeM[0].i, '.')\n",
      "\t\tsubplot(223)\n",
      "\t\t#plot(UmM3.t, UmM3.v2.T/mV)\n",
      "\t\tplot(UmM3.t, UmM3.v2.T/mV)\n",
      "\t\txlabel('Time (ms)')\n",
      "\t\tylabel('Membrane Potential (mV)')\n",
      "\t\tsubplot(224)\n",
      "\t\tplot(testUmM3.t, testUmM3.v2.T/mV)\t\t\n",
      "\t\t#plot(testUmM3.t, testUmM3.v2Test.T/mV)\n",
      "\t\t#plot(testMv.t, testMv.vTest.T/mV)\n",
      "\t\t#plot(dendVoltageM[0].t, dendVoltageM[0].v.T/mV)\n",
      "\t\txlabel('Time (ms)')\n",
      "\t\tylabel('Membrane Potential (mV)')\n",
      "\t\tshow()\n",
      "\n",
      "\tdef __init__(self):\n",
      "\t\tself.run_model()\n",
      "\n",
      "def main():\n",
      "\trun_gupta_paper = gupta_paper()\n",
      "\n",
      "if  __name__ =='__main__':main()\n"
     ],
     "language": "python",
     "metadata": {},
     "outputs": [
      {
       "output_type": "stream",
       "stream": "stdout",
       "text": [
        "initial Weights\n",
        "[[ 0.78590068  0.94520226  0.57161506  0.76185125  0.75886101  0.60634688\n",
        "   0.98825592  0.96587673  0.94051897  0.98601567  0.80314046  0.90623494\n",
        "   0.5883536   0.54483425  0.97163295]\n",
        " [ 0.87006698  0.51739762  0.72260592  0.64778199  0.64327283  0.72737379\n",
        "   0.79958479  0.54436655  0.56229355  0.55080259  0.92952179  0.61827146\n",
        "   0.59198931  0.53557958  0.89607083]\n",
        " [ 0.63472468  0.57776339  0.57154526  0.84454715  0.7212883   0.8317773\n",
        "   0.87265998  0.98376973  0.56002606  0.50081658  0.83758131  0.63745214\n",
        "   0.74620109  0.71633602  0.74355389]\n",
        " [ 0.63752645  0.97022199  0.71012424  0.87786078  0.53847692  0.82500812\n",
        "   0.61800028  0.86858502  0.85135793  0.64516853  0.59538193  0.54988257\n",
        "   0.93636898  0.70610716  0.98922905]]\n",
        "Starting simulation for duration 0.5 s\n"
       ]
      },
      {
       "output_type": "stream",
       "stream": "stderr",
       "text": [
        "WARNING  py.warnings: <string>:19: RuntimeWarning: divide by zero encountered in divide\n",
        "\n"
       ]
      },
      {
       "output_type": "stream",
       "stream": "stderr",
       "text": [
        "WARNING:py.warnings:<string>:19: RuntimeWarning: divide by zero encountered in divide\n",
        "\n"
       ]
      },
      {
       "output_type": "stream",
       "stream": "stderr",
       "text": [
        "WARNING  py.warnings: <string>:19: RuntimeWarning: divide by zero encountered in divide\n",
        "\n"
       ]
      },
      {
       "output_type": "stream",
       "stream": "stderr",
       "text": [
        "WARNING:py.warnings:<string>:19: RuntimeWarning: divide by zero encountered in divide\n",
        "\n"
       ]
      },
      {
       "output_type": "stream",
       "stream": "stderr",
       "text": [
        "WARNING  py.warnings: <string>:19: RuntimeWarning: divide by zero encountered in divide\n",
        "\n"
       ]
      },
      {
       "output_type": "stream",
       "stream": "stderr",
       "text": [
        "WARNING:py.warnings:<string>:19: RuntimeWarning: divide by zero encountered in divide\n",
        "\n"
       ]
      },
      {
       "output_type": "stream",
       "stream": "stdout",
       "text": [
        "14.3 ms (2%) simulated in 10s, estimated 5m 40s remaining.\n"
       ]
      },
      {
       "output_type": "stream",
       "stream": "stdout",
       "text": [
        "29.4 ms (5%) simulated in 20s, estimated 5m 21s remaining.\n"
       ]
      },
      {
       "output_type": "stream",
       "stream": "stdout",
       "text": [
        "44.2 ms (8%) simulated in 30s, estimated 5m 10s remaining.\n"
       ]
      },
      {
       "output_type": "stream",
       "stream": "stdout",
       "text": [
        "59.7 ms (11%) simulated in 40s, estimated 4m 56s remaining.\n"
       ]
      },
      {
       "output_type": "stream",
       "stream": "stdout",
       "text": [
        "71.7 ms (14%) simulated in 50s, estimated 4m 59s remaining.\n"
       ]
      },
      {
       "output_type": "stream",
       "stream": "stdout",
       "text": [
        "83.8 ms (16%) simulated in 1m 0s, estimated 4m 59s remaining.\n"
       ]
      },
      {
       "output_type": "stream",
       "stream": "stdout",
       "text": [
        "97.1 ms (19%) simulated in 1m 10s, estimated 4m 51s remaining.\n"
       ]
      },
      {
       "output_type": "stream",
       "stream": "stdout",
       "text": [
        "110.9 ms (22%) simulated in 1m 20s, estimated 4m 41s remaining.\n"
       ]
      },
      {
       "output_type": "stream",
       "stream": "stdout",
       "text": [
        "123.8 ms (24%) simulated in 1m 30s, estimated 4m 34s remaining.\n"
       ]
      },
      {
       "output_type": "stream",
       "stream": "stdout",
       "text": [
        "137.6 ms (27%) simulated in 1m 40s, estimated 4m 24s remaining.\n"
       ]
      },
      {
       "output_type": "stream",
       "stream": "stdout",
       "text": [
        "151.4 ms (30%) simulated in 1m 50s, estimated 4m 14s remaining.\n"
       ]
      },
      {
       "output_type": "stream",
       "stream": "stdout",
       "text": [
        "164.9 ms (32%) simulated in 2m 0s, estimated 4m 4s remaining.\n"
       ]
      },
      {
       "output_type": "stream",
       "stream": "stdout",
       "text": [
        "179.2 ms (35%) simulated in 2m 10s, estimated 3m 53s remaining.\n"
       ]
      },
      {
       "output_type": "stream",
       "stream": "stdout",
       "text": [
        "192. ms (38%) simulated in 2m 20s, estimated 3m 45s remaining.\n"
       ]
      },
      {
       "output_type": "stream",
       "stream": "stdout",
       "text": [
        "206.2 ms (41%) simulated in 2m 30s, estimated 3m 34s remaining.\n"
       ]
      },
      {
       "output_type": "stream",
       "stream": "stdout",
       "text": [
        "220. ms (44%) simulated in 2m 40s, estimated 3m 25s remaining.\n"
       ]
      },
      {
       "output_type": "stream",
       "stream": "stdout",
       "text": [
        "233.8 ms (46%) simulated in 2m 50s, estimated 3m 14s remaining.\n"
       ]
      },
      {
       "output_type": "stream",
       "stream": "stdout",
       "text": [
        "248.1 ms (49%) simulated in 3m 0s, estimated 3m 4s remaining.\n"
       ]
      },
      {
       "output_type": "stream",
       "stream": "stdout",
       "text": [
        "262.7 ms (52%) simulated in 3m 10s, estimated 2m 52s remaining.\n"
       ]
      },
      {
       "output_type": "stream",
       "stream": "stdout",
       "text": [
        "275.1 ms (55%) simulated in 3m 20s, estimated 2m 44s remaining.\n"
       ]
      },
      {
       "output_type": "stream",
       "stream": "stdout",
       "text": [
        "287. ms (57%) simulated in 3m 30s, estimated 2m 37s remaining.\n"
       ]
      },
      {
       "output_type": "stream",
       "stream": "stdout",
       "text": [
        "298.8 ms (59%) simulated in 3m 41s, estimated 2m 29s remaining.\n"
       ]
      },
      {
       "output_type": "stream",
       "stream": "stdout",
       "text": [
        "311.4 ms (62%) simulated in 3m 51s, estimated 2m 20s remaining.\n"
       ]
      },
      {
       "output_type": "stream",
       "stream": "stdout",
       "text": [
        "0.3246 s (64%) simulated in 4m 1s, estimated 2m 10s remaining.\n"
       ]
      },
      {
       "output_type": "stream",
       "stream": "stdout",
       "text": [
        "0.3373 s (67%) simulated in 4m 11s, estimated 2m 1s remaining.\n"
       ]
      },
      {
       "output_type": "stream",
       "stream": "stdout",
       "text": [
        "0.3476 s (69%) simulated in 4m 21s, estimated 1m 55s remaining.\n"
       ]
      },
      {
       "output_type": "stream",
       "stream": "stdout",
       "text": [
        "0.3601 s (72%) simulated in 4m 31s, estimated 1m 45s remaining.\n"
       ]
      },
      {
       "output_type": "stream",
       "stream": "stdout",
       "text": [
        "0.3723 s (74%) simulated in 4m 41s, estimated 1m 36s remaining.\n"
       ]
      },
      {
       "output_type": "stream",
       "stream": "stdout",
       "text": [
        "0.3849 s (76%) simulated in 4m 51s, estimated 1m 27s remaining.\n"
       ]
      },
      {
       "output_type": "stream",
       "stream": "stdout",
       "text": [
        "0.398 s (79%) simulated in 5m 1s, estimated 1m 17s remaining.\n"
       ]
      },
      {
       "output_type": "stream",
       "stream": "stdout",
       "text": [
        "0.41 s (82%) simulated in 5m 11s, estimated 1m 8s remaining.\n"
       ]
      },
      {
       "output_type": "stream",
       "stream": "stdout",
       "text": [
        "0.4224 s (84%) simulated in 5m 21s, estimated 59s remaining.\n"
       ]
      },
      {
       "output_type": "stream",
       "stream": "stdout",
       "text": [
        "0.4351 s (87%) simulated in 5m 31s, estimated 49s remaining.\n"
       ]
      },
      {
       "output_type": "stream",
       "stream": "stdout",
       "text": [
        "0.4462 s (89%) simulated in 5m 41s, estimated 41s remaining.\n"
       ]
      },
      {
       "output_type": "stream",
       "stream": "stdout",
       "text": [
        "0.4587 s (91%) simulated in 5m 51s, estimated 32s remaining.\n"
       ]
      },
      {
       "output_type": "stream",
       "stream": "stdout",
       "text": [
        "0.4694 s (93%) simulated in 6m 1s, estimated 24s remaining.\n"
       ]
      },
      {
       "output_type": "stream",
       "stream": "stdout",
       "text": [
        "0.48 s (96%) simulated in 6m 11s, estimated 15s remaining.\n"
       ]
      },
      {
       "output_type": "stream",
       "stream": "stdout",
       "text": [
        "0.4917 s (98%) simulated in 6m 21s, estimated 6s remaining.\n"
       ]
      },
      {
       "output_type": "stream",
       "stream": "stdout",
       "text": [
        "0.5 s (100%) simulated in 6m 28s\n"
       ]
      },
      {
       "output_type": "stream",
       "stream": "stderr",
       "text": [
        "WARNING  py.warnings: C:\\Python27\\lib\\site-packages\\brian2\\units\\fundamentalunits.py:1479: UserWarning: As a workaround for a bug in matplotlib 1.3.1, calling \"ravel()\" on a quantity will return unit-less values. If you get this warning during plotting, consider removing the units before plotting, e.g. by dividing by the unit. If you are explicitly calling \"ravel()\", consider using \"flatten()\" instead.\n",
        "  warn(('As a workaround for a bug in matplotlib 1.3.1, calling '\n",
        "\n"
       ]
      },
      {
       "output_type": "stream",
       "stream": "stderr",
       "text": [
        "WARNING:py.warnings:C:\\Python27\\lib\\site-packages\\brian2\\units\\fundamentalunits.py:1479: UserWarning: As a workaround for a bug in matplotlib 1.3.1, calling \"ravel()\" on a quantity will return unit-less values. If you get this warning during plotting, consider removing the units before plotting, e.g. by dividing by the unit. If you are explicitly calling \"ravel()\", consider using \"flatten()\" instead.\n",
        "  warn(('As a workaround for a bug in matplotlib 1.3.1, calling '\n",
        "\n"
       ]
      },
      {
       "output_type": "stream",
       "stream": "stdout",
       "text": [
        "Final Weights\n",
        "0 [ 687.2947511   216.23196027  638.27307339  174.28712863  681.10894052\n",
        "  138.71271668  226.08125656  220.96161412  215.16057327  225.56875849\n",
        "  691.23865932  207.31748701  134.59643255  632.14648331  222.27845279] mV\n",
        "1 [ 245.73261487  146.12836933  707.17893823  182.95276655  684.77292968\n",
        "  205.4318419   225.82636071  153.74519243  661.90199057  155.56292153\n",
        "  765.61809125  174.61812317  167.19526628  151.26349291  756.17055108] mV\n",
        "2 [ 0.179265    0.16317745  0.16142126  0.23852506  0.7068068   0.73801216\n",
        "  0.24646495  0.78093931  0.66126158  0.14144539  0.73965138  0.683129\n",
        "  0.21074923  0.20231445  0.21000158] V\n",
        "3 [ 0.1800563   0.27401935  0.70365374  0.24793381  0.65517547  0.23300666\n",
        "  0.17454153  0.74840775  0.24044863  0.18221465  0.67124713  0.15530308\n",
        "  0.26445826  0.19942552  0.78248118] V\n",
        "Final Res\n",
        "0 [ 6.85252432  9.02651467  7.15850128  9.25706761  6.89157766  9.45090172\n",
        "  8.97204425  9.00037414  9.03243201  8.97488179  6.82755371  9.07570362\n",
        "  9.47323418  7.19620708  8.99309071] mV\n",
        "1 [ 8.99928059  9.4899366   6.5369709   9.30968595  6.66755192  9.19900672\n",
        "  9.09814737  9.45275818  6.79916398  9.44387771  6.18763929  9.35059624\n",
        "  9.38697462  9.4648775   6.24505705] mV\n",
        "2 [ 9.32779556  9.40664344  9.41523585  9.03512687  6.53915373  6.35434994\n",
        "  8.99563521  6.0936648   6.80282614  9.51276806  6.34453911  6.67706696\n",
        "  9.17275138  9.21438591  9.17644474] mV\n",
        "3 [ 9.32391081  8.85804425  6.55762904  8.98832183  6.83756878  9.06253442\n",
        "  9.35097188  6.29194759  9.02556564  9.3133117   6.74558308  9.44514735\n",
        "  8.9058834   9.22862925  6.08414627] mV\n",
        "\n",
        "\n",
        "+++ Results +++\n",
        "Spike results: TP:\t11 \tFP:\t29 \tTN:\t7 \tFN:\t1\n",
        "totalSpikeIntervalsTested:\t12 \ttotalCharsPresented:\t4\n",
        "True positives correct percentage (TP/totalSpikeIntervalsTested):\t0.9166666666666666666666666667 \t(this is the percentage of all true positves that were found)\n",
        "Total correct percentage (TP+TN/(totalSpikeIntervals*totalCharsPresented)):\t0.375\n",
        "+++++++++++++++\n"
       ]
      },
      {
       "metadata": {},
       "output_type": "display_data",
       "png": "[encoded data removed]",
       "text": [
        "<matplotlib.figure.Figure at 0xe100a10>"
       ]
      }
     ],
     "prompt_number": 3
    },
    {
     "cell_type": "markdown",
     "metadata": {},
     "source": [
      "We will now save all the important variables : neuron voltages, neuron spikes, and weights to a file called simulation.hdf5\n",
      "while saving the data, we will generate downsampled arrays, so when we plot we don't use that much RAM.\n",
      "if you are on ubuntu you can use:\n",
      "\n",
      "    hdfview simulation.hdf5\n",
      "to explore the dataset.\n",
      "we haven't implemented a method for downsampling sparse arrays yet, so spiketime isn't save , but it shouldn't be to hard to do that"
     ]
    },
    {
     "cell_type": "code",
     "collapsed": false,
     "input": [
      "bp = brianPlotter('simulation.hdf5')\n",
      "\n",
      "gupta_paper = gupta_paper()\n",
      "\n",
      "# spikeVoltage and testSpikeVoltage used for reformatting to avoid formatting issue with plotting\n",
      "spikeVoltage = []\n",
      "for timeIndex in range(len(gupta_paper.M.i[:])):\n",
      "\tspikeVoltage.append(gupta_paper.M.i[timeIndex].tolist())\n",
      "\n",
      "testSpikeVoltage = []\n",
      "for timeIndex in range(len(gupta_paper.testM.i[:])):\n",
      "\ttestSpikeVoltage.append(gupta_paper.testM.i[timeIndex].tolist())\n",
      "\n",
      "spikes = zip(spikeVoltage, gupta_paper.M.t)\n",
      "testSpikes = zip(testSpikeVoltage, gupta_paper.testM.t)\n",
      "\n",
      "bp.saveData('spikes', np.asarray(spikes), downsample=False);\n",
      "bp.saveData('testSpikes', np.asarray(testSpikes), downsample=False);\n",
      "\n",
      "voltage =  np.asarray(gupta_paper.UmM3.v2.T/mV)\n",
      "testVoltage =  np.asarray(gupta_paper.testUmM3.v2.T/mV)\n",
      "#print 'voltage\\t',voltage\n",
      "bp.saveData('voltage',voltage)\n",
      "bp.saveData('testVoltage',testVoltage)\n",
      "\n",
      "del bp #you have to delete the object so the file is closed"
     ],
     "language": "python",
     "metadata": {},
     "outputs": [
      {
       "output_type": "stream",
       "stream": "stdout",
       "text": [
        "Starting simulation for duration 0.5 s\n"
       ]
      },
      {
       "output_type": "stream",
       "stream": "stderr",
       "text": [
        "WARNING  py.warnings: <string>:19: RuntimeWarning: divide by zero encountered in divide\n",
        "\n"
       ]
      },
      {
       "output_type": "stream",
       "stream": "stderr",
       "text": [
        "WARNING:py.warnings:<string>:19: RuntimeWarning: divide by zero encountered in divide\n",
        "\n"
       ]
      },
      {
       "output_type": "stream",
       "stream": "stderr",
       "text": [
        "WARNING  py.warnings: <string>:19: RuntimeWarning: divide by zero encountered in divide\n",
        "\n"
       ]
      },
      {
       "output_type": "stream",
       "stream": "stderr",
       "text": [
        "WARNING:py.warnings:<string>:19: RuntimeWarning: divide by zero encountered in divide\n",
        "\n"
       ]
      },
      {
       "output_type": "stream",
       "stream": "stderr",
       "text": [
        "WARNING  py.warnings: <string>:19: RuntimeWarning: divide by zero encountered in divide\n",
        "\n"
       ]
      },
      {
       "output_type": "stream",
       "stream": "stderr",
       "text": [
        "WARNING:py.warnings:<string>:19: RuntimeWarning: divide by zero encountered in divide\n",
        "\n"
       ]
      },
      {
       "output_type": "stream",
       "stream": "stdout",
       "text": [
        "3.75 ms (0%) simulated in 10s, estimated 22m 9s remaining.\n"
       ]
      },
      {
       "output_type": "stream",
       "stream": "stdout",
       "text": [
        "7.05 ms (1%) simulated in 20s, estimated 23m 25s remaining.\n"
       ]
      },
      {
       "output_type": "stream",
       "stream": "stdout",
       "text": [
        "10. ms (2%) simulated in 30s, estimated 24m 48s remaining.\n"
       ]
      },
      {
       "output_type": "stream",
       "stream": "stdout",
       "text": [
        "13.35 ms (2%) simulated in 40s, estimated 24m 33s remaining.\n"
       ]
      },
      {
       "output_type": "stream",
       "stream": "stdout",
       "text": [
        "16.6 ms (3%) simulated in 50s, estimated 24m 33s remaining.\n"
       ]
      },
      {
       "output_type": "stream",
       "stream": "stdout",
       "text": [
        "20. ms (4%) simulated in 1m 1s, estimated 24m 29s remaining.\n"
       ]
      },
      {
       "output_type": "stream",
       "stream": "stdout",
       "text": [
        "23.2 ms (4%) simulated in 1m 11s, estimated 24m 23s remaining.\n"
       ]
      },
      {
       "output_type": "stream",
       "stream": "stdout",
       "text": [
        "26.4 ms (5%) simulated in 1m 21s, estimated 24m 19s remaining.\n"
       ]
      },
      {
       "output_type": "stream",
       "stream": "stdout",
       "text": [
        "29.95 ms (5%) simulated in 1m 31s, estimated 23m 53s remaining.\n"
       ]
      },
      {
       "output_type": "stream",
       "stream": "stdout",
       "text": [
        "33.25 ms (6%) simulated in 1m 41s, estimated 23m 42s remaining.\n"
       ]
      },
      {
       "output_type": "stream",
       "stream": "stdout",
       "text": [
        "36.55 ms (7%) simulated in 1m 51s, estimated 23m 33s remaining.\n"
       ]
      },
      {
       "output_type": "stream",
       "stream": "stdout",
       "text": [
        "40. ms (7%) simulated in 2m 2s, estimated 23m 24s remaining.\n"
       ]
      },
      {
       "output_type": "stream",
       "stream": "stdout",
       "text": [
        "43.5 ms (8%) simulated in 2m 12s, estimated 23m 7s remaining.\n"
       ]
      },
      {
       "output_type": "stream",
       "stream": "stdout",
       "text": [
        "46.7 ms (9%) simulated in 2m 22s, estimated 23m 0s remaining.\n"
       ]
      },
      {
       "output_type": "stream",
       "stream": "stdout",
       "text": [
        "49.75 ms (9%) simulated in 2m 32s, estimated 22m 58s remaining.\n"
       ]
      },
      {
       "output_type": "stream",
       "stream": "stdout",
       "text": [
        "52.55 ms (10%) simulated in 2m 42s, estimated 23m 2s remaining.\n"
       ]
      },
      {
       "output_type": "stream",
       "stream": "stdout",
       "text": [
        "55.05 ms (11%) simulated in 2m 52s, estimated 23m 14s remaining.\n"
       ]
      },
      {
       "output_type": "stream",
       "stream": "stdout",
       "text": [
        "58.1 ms (11%) simulated in 3m 2s, estimated 23m 9s remaining.\n"
       ]
      },
      {
       "output_type": "stream",
       "stream": "stdout",
       "text": [
        "60.9 ms (12%) simulated in 3m 12s, estimated 23m 9s remaining.\n"
       ]
      },
      {
       "output_type": "stream",
       "stream": "stdout",
       "text": [
        "63.65 ms (12%) simulated in 3m 22s, estimated 23m 10s remaining.\n"
       ]
      },
      {
       "output_type": "stream",
       "stream": "stdout",
       "text": [
        "66.35 ms (13%) simulated in 3m 32s, estimated 23m 11s remaining.\n"
       ]
      },
      {
       "output_type": "stream",
       "stream": "stdout",
       "text": [
        "69.25 ms (13%) simulated in 3m 42s, estimated 23m 6s remaining.\n"
       ]
      },
      {
       "output_type": "stream",
       "stream": "stdout",
       "text": [
        "71.9 ms (14%) simulated in 3m 52s, estimated 23m 7s remaining.\n"
       ]
      },
      {
       "output_type": "stream",
       "stream": "stdout",
       "text": [
        "75. ms (15%) simulated in 4m 3s, estimated 22m 59s remaining.\n"
       ]
      },
      {
       "output_type": "stream",
       "stream": "stdout",
       "text": [
        "78.2 ms (15%) simulated in 4m 13s, estimated 22m 47s remaining.\n"
       ]
      },
      {
       "output_type": "stream",
       "stream": "stdout",
       "text": [
        "80.8 ms (16%) simulated in 4m 23s, estimated 22m 47s remaining.\n"
       ]
      },
      {
       "output_type": "stream",
       "stream": "stdout",
       "text": [
        "83.95 ms (16%) simulated in 4m 33s, estimated 22m 35s remaining.\n"
       ]
      },
      {
       "output_type": "stream",
       "stream": "stdout",
       "text": [
        "86.75 ms (17%) simulated in 4m 43s, estimated 22m 31s remaining.\n"
       ]
      },
      {
       "output_type": "stream",
       "stream": "stdout",
       "text": [
        "89.7 ms (17%) simulated in 4m 53s, estimated 22m 23s remaining.\n"
       ]
      },
      {
       "output_type": "stream",
       "stream": "stdout",
       "text": [
        "92.15 ms (18%) simulated in 5m 3s, estimated 22m 24s remaining.\n"
       ]
      },
      {
       "output_type": "stream",
       "stream": "stdout",
       "text": [
        "95. ms (19%) simulated in 5m 14s, estimated 22m 20s remaining.\n"
       ]
      },
      {
       "output_type": "stream",
       "stream": "stdout",
       "text": [
        "97.9 ms (19%) simulated in 5m 24s, estimated 22m 12s remaining.\n"
       ]
      },
      {
       "output_type": "stream",
       "stream": "stdout",
       "text": [
        "100.55 ms (20%) simulated in 5m 34s, estimated 22m 9s remaining.\n"
       ]
      },
      {
       "output_type": "stream",
       "stream": "stdout",
       "text": [
        "103.5 ms (20%) simulated in 5m 44s, estimated 22m 0s remaining.\n"
       ]
      },
      {
       "output_type": "stream",
       "stream": "stdout",
       "text": [
        "106.1 ms (21%) simulated in 5m 54s, estimated 21m 57s remaining.\n"
       ]
      },
      {
       "output_type": "stream",
       "stream": "stdout",
       "text": [
        "108.85 ms (21%) simulated in 6m 4s, estimated 21m 51s remaining.\n"
       ]
      },
      {
       "output_type": "stream",
       "stream": "stdout",
       "text": [
        "111.6 ms (22%) simulated in 6m 14s, estimated 21m 44s remaining.\n"
       ]
      },
      {
       "output_type": "stream",
       "stream": "stdout",
       "text": [
        "114.5 ms (22%) simulated in 6m 24s, estimated 21m 35s remaining.\n"
       ]
      },
      {
       "output_type": "stream",
       "stream": "stdout",
       "text": [
        "117.15 ms (23%) simulated in 6m 34s, estimated 21m 30s remaining.\n"
       ]
      },
      {
       "output_type": "stream",
       "stream": "stdout",
       "text": [
        "120. ms (24%) simulated in 6m 45s, estimated 21m 25s remaining.\n"
       ]
      },
      {
       "output_type": "stream",
       "stream": "stdout",
       "text": [
        "122.45 ms (24%) simulated in 6m 55s, estimated 21m 22s remaining.\n"
       ]
      },
      {
       "output_type": "stream",
       "stream": "stdout",
       "text": [
        "125. ms (25%) simulated in 7m 6s, estimated 21m 19s remaining.\n"
       ]
      },
      {
       "output_type": "stream",
       "stream": "stdout",
       "text": [
        "127.95 ms (25%) simulated in 7m 16s, estimated 21m 9s remaining.\n"
       ]
      },
      {
       "output_type": "stream",
       "stream": "stdout",
       "text": [
        "130.55 ms (26%) simulated in 7m 26s, estimated 21m 4s remaining.\n"
       ]
      },
      {
       "output_type": "stream",
       "stream": "stdout",
       "text": [
        "133.4 ms (26%) simulated in 7m 36s, estimated 20m 55s remaining.\n"
       ]
      },
      {
       "output_type": "stream",
       "stream": "stdout",
       "text": [
        "135.85 ms (27%) simulated in 7m 46s, estimated 20m 51s remaining.\n"
       ]
      },
      {
       "output_type": "stream",
       "stream": "stdout",
       "text": [
        "138.5 ms (27%) simulated in 7m 56s, estimated 20m 44s remaining.\n"
       ]
      },
      {
       "output_type": "stream",
       "stream": "stdout",
       "text": [
        "140.85 ms (28%) simulated in 8m 6s, estimated 20m 41s remaining.\n"
       ]
      },
      {
       "output_type": "stream",
       "stream": "stdout",
       "text": [
        "143.4 ms (28%) simulated in 8m 16s, estimated 20m 36s remaining.\n"
       ]
      },
      {
       "output_type": "stream",
       "stream": "stdout",
       "text": [
        "145.85 ms (29%) simulated in 8m 26s, estimated 20m 31s remaining.\n"
       ]
      },
      {
       "output_type": "stream",
       "stream": "stdout",
       "text": [
        "148.55 ms (29%) simulated in 8m 36s, estimated 20m 23s remaining.\n"
       ]
      },
      {
       "output_type": "stream",
       "stream": "stdout",
       "text": [
        "150.95 ms (30%) simulated in 8m 47s, estimated 20m 19s remaining.\n"
       ]
      },
      {
       "output_type": "stream",
       "stream": "stdout",
       "text": [
        "153.7 ms (30%) simulated in 8m 57s, estimated 20m 10s remaining.\n"
       ]
      },
      {
       "output_type": "stream",
       "stream": "stdout",
       "text": [
        "156.3 ms (31%) simulated in 9m 7s, estimated 20m 3s remaining.\n"
       ]
      },
      {
       "output_type": "stream",
       "stream": "stdout",
       "text": [
        "159.05 ms (31%) simulated in 9m 17s, estimated 19m 55s remaining.\n"
       ]
      },
      {
       "output_type": "stream",
       "stream": "stdout",
       "text": [
        "161.55 ms (32%) simulated in 9m 27s, estimated 19m 49s remaining.\n"
       ]
      },
      {
       "output_type": "stream",
       "stream": "stdout",
       "text": [
        "163.7 ms (32%) simulated in 9m 37s, estimated 19m 46s remaining.\n"
       ]
      },
      {
       "output_type": "stream",
       "stream": "stdout",
       "text": [
        "166.15 ms (33%) simulated in 9m 47s, estimated 19m 41s remaining.\n"
       ]
      },
      {
       "output_type": "stream",
       "stream": "stdout",
       "text": [
        "168.25 ms (33%) simulated in 9m 57s, estimated 19m 39s remaining.\n"
       ]
      },
      {
       "output_type": "stream",
       "stream": "stdout",
       "text": [
        "170. ms (34%) simulated in 10m 7s, estimated 19m 40s remaining.\n"
       ]
      },
      {
       "output_type": "stream",
       "stream": "stdout",
       "text": [
        "172.2 ms (34%) simulated in 10m 17s, estimated 19m 36s remaining.\n"
       ]
      },
      {
       "output_type": "stream",
       "stream": "stdout",
       "text": [
        "174.35 ms (34%) simulated in 10m 28s, estimated 19m 33s remaining.\n"
       ]
      },
      {
       "output_type": "stream",
       "stream": "stdout",
       "text": [
        "175.5 ms (35%) simulated in 10m 38s, estimated 19m 40s remaining.\n"
       ]
      },
      {
       "output_type": "stream",
       "stream": "stdout",
       "text": [
        "176.9 ms (35%) simulated in 10m 48s, estimated 19m 44s remaining.\n"
       ]
      },
      {
       "output_type": "stream",
       "stream": "stdout",
       "text": [
        "178.85 ms (35%) simulated in 10m 58s, estimated 19m 42s remaining.\n"
       ]
      },
      {
       "output_type": "stream",
       "stream": "stdout",
       "text": [
        "180.2 ms (36%) simulated in 11m 8s, estimated 19m 46s remaining.\n"
       ]
      },
      {
       "output_type": "stream",
       "stream": "stdout",
       "text": [
        "181.9 ms (36%) simulated in 11m 18s, estimated 19m 47s remaining.\n"
       ]
      },
      {
       "output_type": "stream",
       "stream": "stdout",
       "text": [
        "183.55 ms (36%) simulated in 11m 28s, estimated 19m 48s remaining.\n"
       ]
      },
      {
       "output_type": "stream",
       "stream": "stdout",
       "text": [
        "185. ms (37%) simulated in 11m 40s, estimated 19m 52s remaining.\n"
       ]
      },
      {
       "output_type": "stream",
       "stream": "stdout",
       "text": [
        "186.6 ms (37%) simulated in 11m 50s, estimated 19m 53s remaining.\n"
       ]
      },
      {
       "output_type": "stream",
       "stream": "stdout",
       "text": [
        "188.3 ms (37%) simulated in 12m 0s, estimated 19m 53s remaining.\n"
       ]
      },
      {
       "output_type": "stream",
       "stream": "stdout",
       "text": [
        "190. ms (38%) simulated in 12m 11s, estimated 19m 53s remaining.\n"
       ]
      },
      {
       "output_type": "stream",
       "stream": "stdout",
       "text": [
        "191.9 ms (38%) simulated in 12m 21s, estimated 19m 51s remaining.\n"
       ]
      },
      {
       "output_type": "stream",
       "stream": "stdout",
       "text": [
        "193.9 ms (38%) simulated in 12m 31s, estimated 19m 46s remaining.\n"
       ]
      },
      {
       "output_type": "stream",
       "stream": "stdout",
       "text": [
        "195.7 ms (39%) simulated in 12m 41s, estimated 19m 45s remaining.\n"
       ]
      },
      {
       "output_type": "stream",
       "stream": "stdout",
       "text": [
        "197.6 ms (39%) simulated in 12m 51s, estimated 19m 41s remaining.\n"
       ]
      },
      {
       "output_type": "stream",
       "stream": "stdout",
       "text": [
        "199.45 ms (39%) simulated in 13m 1s, estimated 19m 38s remaining.\n"
       ]
      },
      {
       "output_type": "stream",
       "stream": "stdout",
       "text": [
        "200.9 ms (40%) simulated in 13m 11s, estimated 19m 39s remaining.\n"
       ]
      },
      {
       "output_type": "stream",
       "stream": "stdout",
       "text": [
        "203.05 ms (40%) simulated in 13m 22s, estimated 19m 33s remaining.\n"
       ]
      },
      {
       "output_type": "stream",
       "stream": "stdout",
       "text": [
        "205.35 ms (41%) simulated in 13m 32s, estimated 19m 25s remaining.\n"
       ]
      },
      {
       "output_type": "stream",
       "stream": "stdout",
       "text": [
        "207.8 ms (41%) simulated in 13m 42s, estimated 19m 16s remaining.\n"
       ]
      },
      {
       "output_type": "stream",
       "stream": "stdout",
       "text": [
        "209.9 ms (41%) simulated in 13m 52s, estimated 19m 10s remaining.\n"
       ]
      },
      {
       "output_type": "stream",
       "stream": "stdout",
       "text": [
        "211.45 ms (42%) simulated in 14m 2s, estimated 19m 10s remaining.\n"
       ]
      },
      {
       "output_type": "stream",
       "stream": "stdout",
       "text": [
        "214.05 ms (42%) simulated in 14m 12s, estimated 18m 59s remaining.\n"
       ]
      },
      {
       "output_type": "stream",
       "stream": "stdout",
       "text": [
        "216.3 ms (43%) simulated in 14m 22s, estimated 18m 52s remaining.\n"
       ]
      },
      {
       "output_type": "stream",
       "stream": "stdout",
       "text": [
        "218.85 ms (43%) simulated in 14m 32s, estimated 18m 41s remaining.\n"
       ]
      },
      {
       "output_type": "stream",
       "stream": "stdout",
       "text": [
        "220.85 ms (44%) simulated in 14m 42s, estimated 18m 36s remaining.\n"
       ]
      },
      {
       "output_type": "stream",
       "stream": "stdout",
       "text": [
        "223.2 ms (44%) simulated in 14m 53s, estimated 18m 28s remaining.\n"
       ]
      },
      {
       "output_type": "stream",
       "stream": "stdout",
       "text": [
        "225. ms (45%) simulated in 15m 3s, estimated 18m 24s remaining.\n"
       ]
      },
      {
       "output_type": "stream",
       "stream": "stdout",
       "text": [
        "227.7 ms (45%) simulated in 15m 13s, estimated 18m 12s remaining.\n"
       ]
      },
      {
       "output_type": "stream",
       "stream": "stdout",
       "text": [
        "230. ms (46%) simulated in 15m 24s, estimated 18m 5s remaining.\n"
       ]
      },
      {
       "output_type": "stream",
       "stream": "stdout",
       "text": [
        "232.55 ms (46%) simulated in 15m 34s, estimated 17m 55s remaining.\n"
       ]
      },
      {
       "output_type": "stream",
       "stream": "stdout",
       "text": [
        "234.95 ms (46%) simulated in 15m 44s, estimated 17m 46s remaining.\n"
       ]
      },
      {
       "output_type": "stream",
       "stream": "stdout",
       "text": [
        "236.9 ms (47%) simulated in 15m 55s, estimated 17m 41s remaining.\n"
       ]
      },
      {
       "output_type": "stream",
       "stream": "stdout",
       "text": [
        "239.45 ms (47%) simulated in 16m 5s, estimated 17m 30s remaining.\n"
       ]
      },
      {
       "output_type": "stream",
       "stream": "stdout",
       "text": [
        "241.65 ms (48%) simulated in 16m 15s, estimated 17m 23s remaining.\n"
       ]
      },
      {
       "output_type": "stream",
       "stream": "stdout",
       "text": [
        "244.45 ms (48%) simulated in 16m 25s, estimated 17m 10s remaining.\n"
       ]
      },
      {
       "output_type": "stream",
       "stream": "stdout",
       "text": [
        "246.4 ms (49%) simulated in 16m 35s, estimated 17m 5s remaining.\n"
       ]
      },
      {
       "output_type": "stream",
       "stream": "stdout",
       "text": [
        "249.15 ms (49%) simulated in 16m 45s, estimated 16m 53s remaining.\n"
       ]
      },
      {
       "output_type": "stream",
       "stream": "stdout",
       "text": [
        "0.5 s (100%) simulated in 16m 48s\n"
       ]
      },
      {
       "output_type": "stream",
       "stream": "stdout",
       "text": [
        "Final Weights\n",
        "0 [ 294.17491538   12.57383162  291.32431771   10.13475069  293.81521212\n",
        "    8.06610799   13.14656561   12.84885975   12.51153075   13.11676398\n",
        "  294.40425261   12.05545735    7.82674715  290.96805811   12.92543357] mV\n",
        "1 [  19.60121664   11.65614025  278.73608236   14.59349144  276.94883475\n",
        "   16.38656732   18.01336555   12.26370714  275.12450129   12.40870093\n",
        "  283.39756573   13.92866658   13.33657169   12.0657508   282.64396905] mV\n",
        "2 [  14.29933117   13.01608453   12.87599988   19.02629554  344.31639837\n",
        "  346.80553879   19.65963262  350.2296851   340.68341828   11.282596\n",
        "  346.93629389  342.42770396   16.81071622   16.137904     16.75107909] mV\n",
        "3 [  14.36245062   21.85754867  344.06488997   19.7767984   340.19795067\n",
        "   18.58611246   13.92255716  347.63475789   19.17973168   14.53461451\n",
        "  341.47992956   12.38797426   21.09489447   15.90746432  350.35267473] mV\n",
        "Final Res\n",
        "0 [  8.5917053   10.12702457   8.60776597  10.13994198   8.59373262\n",
        "  10.15089321  10.12399056  10.12556767  10.12735459  10.12414844\n",
        "   8.59041263  10.12977036  10.15216011   8.60977229  10.12516203] mV\n",
        "1 [ 10.10017054  10.13805813   8.83440543  10.12405638   8.84336558\n",
        "  10.11550595  10.10774633  10.13516252   8.85250786  10.13447145\n",
        "   8.81101821  10.12722603  10.13004866  10.13610599   8.81480081] mV\n",
        "2 [ 10.12545887  10.13157636  10.1322441   10.10291376   8.50296326\n",
        "   8.49027634  10.09989179   8.47281041   8.52146562  10.13983828\n",
        "   8.48960967   8.51258433  10.11348301  10.11669187  10.11376745] mV\n",
        "3 [ 10.12515794  10.08940206   8.50424472  10.0993327    8.52393675\n",
        "  10.10501392  10.12725516   8.48604808  10.10218167  10.1243371\n",
        "   8.51741056  10.13457024  10.0930423   10.11779083   8.47218278] mV\n",
        "\n",
        "\n",
        "+++ Results +++\n",
        "Spike results: TP:\t11 \tFP:\t29 \tTN:\t7 \tFN:\t1\n",
        "totalSpikeIntervalsTested:\t12 \ttotalCharsPresented:\t4\n",
        "True positives correct percentage (TP/totalSpikeIntervalsTested):\t0.9166666666666666666666666667 \t(this is the percentage of all true positves that were found)\n",
        "Total correct percentage (TP+TN/(totalSpikeIntervals*totalCharsPresented)):\t0.375\n",
        "+++++++++++++++\n"
       ]
      },
      {
       "metadata": {},
       "output_type": "display_data",
       "png": "[encoded data removed]",
       "text": [
        "<matplotlib.figure.Figure at 0x104b8f70>"
       ]
      },
      {
       "output_type": "stream",
       "stream": "stdout",
       "text": [
        "spikes sucessfully saved\n",
        "testSpikes sucessfully saved\n",
        "voltage sucessfully saved\n",
        "testVoltage sucessfully saved\n"
       ]
      }
     ],
     "prompt_number": 4
    },
    {
     "cell_type": "markdown",
     "metadata": {},
     "source": [
      "If you want to see the analysis of this simulation click here.\n",
      "\n",
      "Remember to shutdown this notebook to release memory"
     ]
    },
    {
     "cell_type": "code",
     "collapsed": false,
     "input": [
      "#Just to know when this finishes\n",
      "import time\n",
      "print time.ctime()"
     ],
     "language": "python",
     "metadata": {},
     "outputs": [
      {
       "output_type": "stream",
       "stream": "stdout",
       "text": [
        "Sun Jan 25 15:06:31 2015\n"
       ]
      }
     ],
     "prompt_number": 5
    }
   ],
   "metadata": {}
  }
 ]
}
