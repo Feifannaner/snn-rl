{
 "metadata": {
  "name": "",
  "signature": "sha256:2119b32e4e5dec42719e6dbce0e550bbf383d03a3ce3eed6133950b5b47b2f65"
 },
 "nbformat": 3,
 "nbformat_minor": 0,
 "worksheets": [
  {
   "cells": [
    {
     "cell_type": "code",
     "collapsed": false,
     "input": [
      "import io\n",
      "from IPython.nbformat import current\n",
      "\n",
      "def execute_notebook(nbfile):\n",
      "    \n",
      "    with io.open(nbfile) as f:\n",
      "        nb = current.read(f, 'json')\n",
      "    \n",
      "    ip = get_ipython()\n",
      "    \n",
      "    for cell in nb.worksheets[0].cells:\n",
      "        if cell.cell_type != 'code':\n",
      "            continue\n",
      "        ip.run_cell(cell.input)\n",
      "        \n",
      "execute_notebook(\"common.ipynb\")"
     ],
     "language": "python",
     "metadata": {},
     "outputs": [
      {
       "output_type": "stream",
       "stream": "stdout",
       "text": [
        "Sun Dec 21 15:05:26 2014\n"
       ]
      },
      {
       "output_type": "stream",
       "stream": "stderr",
       "text": [
        "/usr/local/lib/python2.7/dist-packages/brian/utils/sparse_patch/__init__.py:39: UserWarning: Couldn't find matching sparse matrix patch for scipy version 0.14.0, but in most cases this shouldn't be a problem.\n",
        "  warnings.warn(\"Couldn't find matching sparse matrix patch for scipy version %s, but in most cases this shouldn't be a problem.\" % scipy.__version__)\n"
       ]
      }
     ],
     "prompt_number": "*"
    },
    {
     "cell_type": "code",
     "collapsed": false,
     "input": [
      "epochs = 100 \n",
      "spikeMiliseconds = 100\n",
      "spikeInterval = spikeMiliseconds * ms\n",
      "spikeIntervalUnformatted = spikeMiliseconds * .001\n",
      "dictionaryLongitude = 4\n",
      "spikesPerChar=3\n",
      "firstLayerSize = 15\n",
      "\n",
      "dictionary = dictionary()\n",
      "spiketimes = dictionary.spikeTimes(dictionaryLongitude, spikeInterval, spikesPerChar, epochs)\n",
      "LIK = SpikeGeneratorGroup(firstLayerSize, spiketimes)\n",
      "\n",
      "N = 1000\n",
      "taum = 300 * ms\n",
      "Vt = -54 * mV\n",
      "Vr = -60 * mV\n",
      "El = -74 * mV\n",
      "taue = 100 * ms\n",
      "taui = 100 * ms\n",
      "\n",
      "eqs = Equations('''\n",
      "\t  dV/dt  = (-V+ge-gi)/taum : volt\n",
      "\t  dge/dt = -ge/taue        : volt\n",
      "\t  dgi/dt = -gi/taui        : volt\n",
      "\t  ''')\n",
      "ADDS = NeuronGroup(N=4, model=eqs,threshold=Vt, reset=Vr)\n",
      "\n",
      "excitatory = Connection(LIK, ADDS , 'ge',structure='dense',max_delay=30 * ms,\n",
      "                        delay=lambda i, j:(10 + 20 * rand()) * ms )\n",
      "Wexcitatory = np.random.uniform(0,15,[15,4]) * mV\n",
      "excitatory.connect(LIK,ADDS,Wexcitatory)\n",
      "Ap = 1 * mV\n",
      "Am = 1 * mV\n",
      "stdpE=ExponentialSTDP(excitatory,taue,taum,Ap,Am,wmax=15 * mV,interactions='all',update='additive')\n",
      "\n",
      "inhibitory = Connection(ADDS, ADDS , 'gi',delay=0*ms,structure='dense')\n",
      "#Connect adds layer via lateral inhibitory connections\n",
      "#the diagonal should be 0 to not auto-inhibate\n",
      "Winhibitory = np.random.uniform(0,200,[4,4]) * mV\n",
      "diagonal = np.diag_indices(Winhibitory.shape[0])\n",
      "Winhibitory[diagonal] = 0;\n",
      "\n",
      "inhibitory.connect(ADDS,ADDS,Winhibitory)\n",
      "stdpI=ExponentialSTDP(inhibitory,taue,taum,Ap,Am,wmax=4000 * mV,interactions='all',update='additive')\n",
      "\n",
      "spikeMonitor = SpikeMonitor(ADDS)\n",
      "Mv  = StateMonitor(ADDS, 'V', record=True)\n",
      "Mge = StateMonitor(ADDS, 'ge', record=True)\n",
      "Mgi = StateMonitor(ADDS, 'gi', record=True)\n",
      "\n",
      "\n",
      "#save weights!\n",
      "weights_excitatory = []\n",
      "weights_inhibitory = []\n",
      "@network_operation\n",
      "def record_weights():\n",
      "    weights_excitatory.append(array(excitatory.W))\n",
      "    weights_inhibitory.append(array(inhibitory.W))\n",
      "\n",
      "run(spikesPerChar * dictionaryLongitude * spikeInterval * epochs , report='text')"
     ],
     "language": "python",
     "metadata": {},
     "outputs": [],
     "prompt_number": "*"
    },
    {
     "cell_type": "markdown",
     "metadata": {},
     "source": [
      "We will now save all the important variables : neuron voltages, neuron spikes, and weights to a file called simulation.hdf5\n",
      "while saving the data, we will generate downsampled arrays, so when we plot we don't use that much RAM.\n",
      "if you are on ubuntu you can use:\n",
      "\n",
      "    hdfview simulation.hdf5\n",
      "to explore the dataset.\n",
      "we haven't implemented a method for downsampling sparse arrays yet, so spiketime isn't save , but it shouldn't be to hard to do that"
     ]
    },
    {
     "cell_type": "code",
     "collapsed": false,
     "input": [
      "bp = brianPlotter('simulation.hdf5')\n",
      "\n",
      "bp.saveData('spikes', np.asarray(spikeMonitor.spikes), downsample=False);\n",
      "\n",
      "Mv =  np.transpose(Mv[:])\n",
      "Mge =  np.transpose(Mge[:])\n",
      "Mgi =  np.transpose(Mgi[:])\n",
      "voltage = np.concatenate((Mv[...,np.newaxis], Mge[...,np.newaxis]), axis=2)\n",
      "voltage = np.concatenate((voltage, Mgi[...,np.newaxis]), axis=2)\n",
      "bp.saveData('voltage',voltage)\n",
      "\n",
      "bp.saveData('excitatory', np.asarray(weights_excitatory))\n",
      "bp.saveData('inhibitory', np.asarray(weights_inhibitory))\n",
      "\n",
      "del bp #you have to delete the object so the file is closed"
     ],
     "language": "python",
     "metadata": {},
     "outputs": [],
     "prompt_number": "*"
    },
    {
     "cell_type": "markdown",
     "metadata": {},
     "source": [
      "If you want to see the analysis of this simulation click [here](analysis.ipynb).\n",
      "\n",
      "Remember to shutdown this notebook to release memory"
     ]
    }
   ],
   "metadata": {}
  }
 ]
}